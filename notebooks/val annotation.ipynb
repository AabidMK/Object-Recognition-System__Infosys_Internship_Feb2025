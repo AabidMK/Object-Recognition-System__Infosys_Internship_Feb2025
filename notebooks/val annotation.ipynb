{
 "cells": [
  {
   "cell_type": "code",
   "execution_count": 3,
   "id": "06a25a2a-d084-4bcd-9921-4072c1a8aeb8",
   "metadata": {},
   "outputs": [],
   "source": [
    "import json\n",
    "import os\n",
    "# Path to COCO annotation file and output folder for YOLO labels\n",
    "coco_ann_file = r\"C:/Users/Admin/Desktop/infosys/coco2017_subset/annotation_subset/instances_val2017_subset.json\"\n",
    "output_dir = \"C:/Users/Admin/Desktop/infosys/coco2017_subset/val2017\"\n",
    "os.makedirs(output_dir, exist_ok=True)\n",
    "# Load COCO annotations\n",
    "with open(coco_ann_file, 'r') as f:\n",
    "    coco_data = json.load(f)\n",
    "    # For example, if valid categories are 1, 2, 3, 5, 6, ... then you might have:\n",
    "coco_categories = sorted([cat['id'] for cat in coco_data['categories']])\n",
    "id_mapping = {orig_id: new_id for new_id, orig_id in enumerate(coco_categories)}\n",
    "# Build a mapping from image_id to image info\n",
    "img_info = {img['id']: img for img in coco_data['images']}\n",
    " #Process annotations per image\n",
    "annotations_by_image = {}\n",
    "for ann in coco_data['annotations']:\n",
    "    img_id = ann['image_id']\n",
    "    img = img_info[img_id]\n",
    "    img_width, img_height = img['width'], img['height']\n",
    "\n",
    "    x, y, w, h = ann['bbox']\n",
    "    # Convert COCO bbox [x, y, w, h] to YOLO format [x_center, y_center, width, height] normalized\n",
    "    x_center = (x + w / 2) / img_width\n",
    "    y_center = (y + h / 2) / img_height\n",
    "    norm_w = w / img_width\n",
    "    norm_h = h / img_height\n",
    "\n",
    "    # Remap the category id\n",
    "    orig_cat = ann['category_id']\n",
    "    if orig_cat not in id_mapping:\n",
    "        continue  # skip if the category is not in the mapping\n",
    "    new_cat = id_mapping[orig_cat]\n",
    "\n",
    "    if img_id not in annotations_by_image:\n",
    "        annotations_by_image[img_id] = []\n",
    "    annotations_by_image[img_id].append(f\"{new_cat} {x_center:.6f} {y_center:.6f} {norm_w:.6f} {norm_h:.6f}\")\n",
    "    # Write YOLO label files for each image\n",
    "for img_id, ann_list in annotations_by_image.items():\n",
    "    file_name = img_info[img_id]['file_name']\n",
    "    base_name = os.path.splitext(file_name)[0]\n",
    "    # Save the label file in the same directory as your images, or wherever you prefer\n",
    "    out_file = os.path.join(output_dir, base_name + '.txt')\n",
    "    with open(out_file, 'w') as f:\n",
    "        for line in ann_list:\n",
    "            f.write(line + '\\n')"
   ]
  },
  {
   "cell_type": "code",
   "execution_count": null,
   "id": "c6c89af5-ea25-4d92-86b1-e6ed8f2717fd",
   "metadata": {},
   "outputs": [],
   "source": []
  }
 ],
 "metadata": {
  "kernelspec": {
   "display_name": "Python 3 (ipykernel)",
   "language": "python",
   "name": "python3"
  },
  "language_info": {
   "codemirror_mode": {
    "name": "ipython",
    "version": 3
   },
   "file_extension": ".py",
   "mimetype": "text/x-python",
   "name": "python",
   "nbconvert_exporter": "python",
   "pygments_lexer": "ipython3",
   "version": "3.12.7"
  }
 },
 "nbformat": 4,
 "nbformat_minor": 5
}
