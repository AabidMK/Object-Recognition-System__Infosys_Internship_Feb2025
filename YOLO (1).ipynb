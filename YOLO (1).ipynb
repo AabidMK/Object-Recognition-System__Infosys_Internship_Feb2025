{
  "cells": [
    {
      "cell_type": "code",
      "execution_count": null,
      "metadata": {
        "colab": {
          "base_uri": "https://localhost:8080/"
        },
        "id": "kWMcISyGpA1m",
        "outputId": "a1882f25-61e7-4a34-c908-fd61d9c8fe9e"
      },
      "outputs": [
        {
          "output_type": "stream",
          "name": "stdout",
          "text": [
            "/usr/local/lib/python3.11/dist-packages/gdown/__main__.py:140: FutureWarning: Option `--id` was deprecated in version 4.3.1 and will be removed in 5.0. You don't need to pass it anymore to use a file ID.\n",
            "  warnings.warn(\n",
            "Retrieving folder contents\n",
            "Processing file 1tytlWWD1IqtyH3UY1cNDe5y00QJwuGh7 coco2017_subset.zip\n",
            "Retrieving folder contents completed\n",
            "Building directory structure\n",
            "Building directory structure completed\n",
            "Downloading...\n",
            "From (original): https://drive.google.com/uc?id=1tytlWWD1IqtyH3UY1cNDe5y00QJwuGh7\n",
            "From (redirected): https://drive.google.com/uc?id=1tytlWWD1IqtyH3UY1cNDe5y00QJwuGh7&confirm=t&uuid=9ad747f6-31c1-46bf-b0cf-5ec88a85a4fb\n",
            "To: /content/shared_folder/coco2017_subset.zip\n",
            "100% 6.71G/6.71G [02:14<00:00, 50.0MB/s]\n",
            "Download completed\n"
          ]
        }
      ],
      "source": [
        "!gdown --folder --id 1B19RWODijlUlXEdvLKxjcmlg-BiJcbWE -O /content/shared_folder"
      ]
    },
    {
      "cell_type": "code",
      "execution_count": null,
      "metadata": {
        "colab": {
          "base_uri": "https://localhost:8080/"
        },
        "id": "R7SDOoFzqx34",
        "outputId": "36b487b2-2c1a-49f9-9aa6-67ba6bc35133"
      },
      "outputs": [
        {
          "output_type": "execute_result",
          "data": {
            "text/plain": [
              "['coco2017_subset.zip']"
            ]
          },
          "metadata": {},
          "execution_count": 32
        }
      ],
      "source": [
        "import os\n",
        "os.listdir(\"/content/shared_folder\")"
      ]
    },
    {
      "cell_type": "code",
      "execution_count": null,
      "metadata": {
        "colab": {
          "base_uri": "https://localhost:8080/"
        },
        "id": "fGVPFHqXq1P7",
        "outputId": "9251c789-df50-473e-9b4d-c8c424b948c4"
      },
      "outputs": [
        {
          "output_type": "stream",
          "name": "stdout",
          "text": [
            "Archive:  /content/shared_folder/coco2017_subset.zip\n",
            "replace /content/extracted_files/coco2017_subset/annotation_subset/captions_train2017_subset.json? [y]es, [n]o, [A]ll, [N]one, [r]ename: "
          ]
        }
      ],
      "source": [
        "!unzip /content/shared_folder/coco2017_subset.zip -d /content/extracted_files"
      ]
    },
    {
      "cell_type": "code",
      "execution_count": null,
      "metadata": {
        "id": "ZMO13CvCrcFy"
      },
      "outputs": [],
      "source": [
        "import os\n",
        "from pycocotools.coco import COCO\n",
        "import matplotlib.pyplot as plt\n",
        "import matplotlib.patches as patches\n",
        "import cv2"
      ]
    },
    {
      "cell_type": "code",
      "execution_count": null,
      "metadata": {
        "id": "7LORgfNiruo7"
      },
      "outputs": [],
      "source": [
        "# Path to your COCO annotation file (change this to your subset JSON file)\n",
        "ANNOTATION_FILE = '/content/extracted_files/coco2017_subset/annotation_subset/instances_train2017_subset.json'\n",
        "# Folder where the corresponding images are stored\n",
        "IMAGE_FOLDER = '/content/extracted_files/coco2017_subset/train2017'"
      ]
    },
    {
      "cell_type": "code",
      "execution_count": null,
      "metadata": {
        "colab": {
          "base_uri": "https://localhost:8080/"
        },
        "id": "zbdZkOoIr3YN",
        "outputId": "47db3c81-dc6c-4a26-a858-6b95f96a7e15"
      },
      "outputs": [
        {
          "output_type": "stream",
          "name": "stdout",
          "text": [
            "loading annotations into memory...\n",
            "Done (t=4.10s)\n",
            "creating index...\n",
            "index created!\n"
          ]
        }
      ],
      "source": [
        "# Initialize COCO API for instance annotations\n",
        "coco = COCO(ANNOTATION_FILE)"
      ]
    },
    {
      "cell_type": "code",
      "execution_count": null,
      "metadata": {
        "colab": {
          "base_uri": "https://localhost:8080/"
        },
        "id": "TCJRPP4qRjDn",
        "outputId": "2bea8b69-77a6-4056-e8bb-365a8e5e3f67"
      },
      "outputs": [
        {
          "output_type": "stream",
          "name": "stdout",
          "text": [
            "/content/extracted_files/coco2017_subset\n"
          ]
        }
      ],
      "source": [
        "%cd /content/extracted_files/coco2017_subset"
      ]
    },
    {
      "cell_type": "code",
      "execution_count": null,
      "metadata": {
        "colab": {
          "base_uri": "https://localhost:8080/"
        },
        "id": "HYvSddL7Rp8M",
        "outputId": "f5b4d063-0905-4949-ee14-fb34fbe00679"
      },
      "outputs": [
        {
          "output_type": "stream",
          "name": "stdout",
          "text": [
            "Classes: ['person', 'bicycle', 'car', 'motorcycle', 'airplane', 'bus', 'train', 'truck', 'boat', 'traffic light', 'fire hydrant', 'stop sign', 'parking meter', 'bench', 'bird', 'cat', 'dog', 'horse', 'sheep', 'cow', 'elephant', 'bear', 'zebra', 'giraffe', 'backpack', 'umbrella', 'handbag', 'tie', 'suitcase', 'frisbee', 'skis', 'snowboard', 'sports ball', 'kite', 'baseball bat', 'baseball glove', 'skateboard', 'surfboard', 'tennis racket', 'bottle', 'wine glass', 'cup', 'fork', 'knife', 'spoon', 'bowl', 'banana', 'apple', 'sandwich', 'orange', 'broccoli', 'carrot', 'hot dog', 'pizza', 'donut', 'cake', 'chair', 'couch', 'potted plant', 'bed', 'dining table', 'toilet', 'tv', 'laptop', 'mouse', 'remote', 'keyboard', 'cell phone', 'microwave', 'oven', 'toaster', 'sink', 'refrigerator', 'book', 'clock', 'vase', 'scissors', 'teddy bear', 'hair drier', 'toothbrush']\n",
            "Total Classes: 80\n"
          ]
        }
      ],
      "source": [
        "import json\n",
        "\n",
        "# Load COCO annotations\n",
        "with open('/content/extracted_files/coco2017_subset/annotation_subset/instances_train2017_subset.json') as f:\n",
        "    coco_data = json.load(f)\n",
        "\n",
        "# Extract class names\n",
        "class_names = [category['name'] for category in coco_data['categories']]\n",
        "num_classes = len(class_names)\n",
        "\n",
        "print(\"Classes:\", class_names)\n",
        "print(\"Total Classes:\", num_classes)"
      ]
    },
    {
      "cell_type": "code",
      "execution_count": null,
      "metadata": {
        "colab": {
          "base_uri": "https://localhost:8080/"
        },
        "id": "ziZqQUVgAmxB",
        "outputId": "9c9b7df5-6417-4a75-ae1f-e5961706e3ea"
      },
      "outputs": [
        {
          "output_type": "stream",
          "name": "stdout",
          "text": [
            "dataset.yaml created successfully!\n"
          ]
        }
      ],
      "source": [
        "import yaml\n",
        "\n",
        "# .yaml configuration\n",
        "data = {\n",
        "    'path': '/content/extracted_files/coco2017_subset/',    # Root directory\n",
        "    'train': '/content/extracted_files/coco2017_subset/train2017/',            # Path to preprocessed train images relative to root\n",
        "    'val': '/content/extracted_files/coco2017_subset/val2017/',                # Path to val images relative to root\n",
        "    'test': '/content/extracted_files/coco2017_subset/test2017/',\n",
        "     'nc': num_classes,  # Number of classes (from COCO annotations)\n",
        "    'names': class_names  # Class names (from COCO annotations)           # Path to test images relative to root\n",
        "\n",
        "}\n",
        "\n",
        "# Save the .yaml file in cocodataset folder\n",
        "with open('/content/extracted_files/coco2017_subset/dataset.yaml', 'w') as file:\n",
        "    yaml.dump(data, file, default_flow_style=False)\n",
        "\n",
        "print(\"dataset.yaml created successfully!\")"
      ]
    },
    {
      "cell_type": "code",
      "execution_count": null,
      "metadata": {
        "colab": {
          "base_uri": "https://localhost:8080/"
        },
        "id": "4M0-ZvONSF2L",
        "outputId": "e5ad5852-458b-4161-f5c5-22d2236733f0"
      },
      "outputs": [
        {
          "output_type": "stream",
          "name": "stdout",
          "text": [
            "names:\n",
            "- person\n",
            "- bicycle\n",
            "- car\n",
            "- motorcycle\n",
            "- airplane\n",
            "- bus\n",
            "- train\n",
            "- truck\n",
            "- boat\n",
            "- traffic light\n",
            "- fire hydrant\n",
            "- stop sign\n",
            "- parking meter\n",
            "- bench\n",
            "- bird\n",
            "- cat\n",
            "- dog\n",
            "- horse\n",
            "- sheep\n",
            "- cow\n",
            "- elephant\n",
            "- bear\n",
            "- zebra\n",
            "- giraffe\n",
            "- backpack\n",
            "- umbrella\n",
            "- handbag\n",
            "- tie\n",
            "- suitcase\n",
            "- frisbee\n",
            "- skis\n",
            "- snowboard\n",
            "- sports ball\n",
            "- kite\n",
            "- baseball bat\n",
            "- baseball glove\n",
            "- skateboard\n",
            "- surfboard\n",
            "- tennis racket\n",
            "- bottle\n",
            "- wine glass\n",
            "- cup\n",
            "- fork\n",
            "- knife\n",
            "- spoon\n",
            "- bowl\n",
            "- banana\n",
            "- apple\n",
            "- sandwich\n",
            "- orange\n",
            "- broccoli\n",
            "- carrot\n",
            "- hot dog\n",
            "- pizza\n",
            "- donut\n",
            "- cake\n",
            "- chair\n",
            "- couch\n",
            "- potted plant\n",
            "- bed\n",
            "- dining table\n",
            "- toilet\n",
            "- tv\n",
            "- laptop\n",
            "- mouse\n",
            "- remote\n",
            "- keyboard\n",
            "- cell phone\n",
            "- microwave\n",
            "- oven\n",
            "- toaster\n",
            "- sink\n",
            "- refrigerator\n",
            "- book\n",
            "- clock\n",
            "- vase\n",
            "- scissors\n",
            "- teddy bear\n",
            "- hair drier\n",
            "- toothbrush\n",
            "nc: 80\n",
            "path: /content/extracted_files/coco2017_subset/\n",
            "test: /content/extracted_files/coco2017_subset/test2017/\n",
            "train: /content/extracted_files/coco2017_subset/train2017/\n",
            "val: /content/extracted_files/coco2017_subset/val2017/\n"
          ]
        }
      ],
      "source": [
        "!cat /content/extracted_files/coco2017_subset/dataset.yaml\n"
      ]
    },
    {
      "cell_type": "code",
      "execution_count": null,
      "metadata": {
        "id": "LtU-aUfP5Fjk"
      },
      "outputs": [],
      "source": [
        "import json\n",
        "import os"
      ]
    },
    {
      "cell_type": "code",
      "execution_count": null,
      "metadata": {
        "id": "0ZJYKgF6-css"
      },
      "outputs": [],
      "source": [
        "# Path to COCO annotation file and output folder for YOLO labels\n",
        "coco_ann_file = \"/content/extracted_files/coco2017_subset/annotation_subset/instances_val2017_subset.json\"\n",
        "output_dir =\"/content/extracted_files/coco2017_subset/val2017\"\n",
        "#Similarly for the train images\n",
        "# defining paths\n",
        "coco_ann_file = '/content/extracted_files/coco2017_subset/annotation_subset/instances_train2017_subset.json'\n",
        "output_dir = '/content/extracted_files/coco2017_subset/train2017'\n",
        "os.makedirs(output_dir, exist_ok=True)"
      ]
    },
    {
      "cell_type": "code",
      "execution_count": null,
      "metadata": {
        "id": "HTOPzQuh--sM"
      },
      "outputs": [],
      "source": [
        "# Load COCO annotations\n",
        "with open(coco_ann_file, 'r') as f:\n",
        "    coco_data = json.load(f)"
      ]
    },
    {
      "cell_type": "code",
      "execution_count": null,
      "metadata": {
        "id": "NT0BFjpM_Bap"
      },
      "outputs": [],
      "source": [
        "# Create mapping: COCO category id -> new id (0-based contiguous indices)\n",
        "# For example, if valid categories are 1, 2, 3, 5, 6, ... then you might have:\n",
        "coco_categories = sorted([cat['id'] for cat in coco_data['categories']])\n",
        "id_mapping = {orig_id: new_id for new_id, orig_id in enumerate(coco_categories)}"
      ]
    },
    {
      "cell_type": "code",
      "execution_count": null,
      "metadata": {
        "id": "SDP3r2ep_FYH"
      },
      "outputs": [],
      "source": [
        "# Build a mapping from image_id to image info\n",
        "img_info = {img['id']: img for img in coco_data['images']}"
      ]
    },
    {
      "cell_type": "code",
      "execution_count": null,
      "metadata": {
        "id": "AzTfgMhL_OED"
      },
      "outputs": [],
      "source": [
        "# Process annotations per image\n",
        "annotations_by_image = {}\n",
        "for ann in coco_data['annotations']:\n",
        "    img_id = ann['image_id']\n",
        "    img = img_info[img_id]\n",
        "    img_width, img_height = img['width'], img['height']\n",
        "\n",
        "    x, y, w, h = ann['bbox']\n",
        "    # Convert COCO bbox [x, y, w, h] to YOLO format [x_center, y_center, width, height] normalized\n",
        "    x_center = (x + w / 2) / img_width\n",
        "    y_center = (y + h / 2) / img_height\n",
        "    norm_w = w / img_width\n",
        "    norm_h = h / img_height\n",
        "\n",
        "    # Remap the category id\n",
        "    orig_cat = ann['category_id']\n",
        "    if orig_cat not in id_mapping:\n",
        "        continue  # skip if the category is not in the mapping\n",
        "    new_cat = id_mapping[orig_cat]\n",
        "\n",
        "    if img_id not in annotations_by_image:\n",
        "        annotations_by_image[img_id] = []\n",
        "    annotations_by_image[img_id].append(f\"{new_cat} {x_center:.6f} {y_center:.6f} {norm_w:.6f} {norm_h:.6f}\")"
      ]
    },
    {
      "cell_type": "code",
      "execution_count": null,
      "metadata": {
        "id": "j-8D8eSk_Qf-"
      },
      "outputs": [],
      "source": [
        "# Write YOLO label files for each image\n",
        "for img_id, ann_list in annotations_by_image.items():\n",
        "    file_name = img_info[img_id]['file_name']\n",
        "    base_name = os.path.splitext(file_name)[0]\n",
        "    # Save the label file in the same directory as your images, or wherever you prefer\n",
        "    out_file = os.path.join(output_dir, base_name + '.txt')\n",
        "    with open(out_file, 'w') as f:\n",
        "        for line in ann_list:\n",
        "            f.write(line + '\\n')"
      ]
    },
    {
      "cell_type": "code",
      "execution_count": null,
      "metadata": {
        "colab": {
          "base_uri": "https://localhost:8080/"
        },
        "id": "h9V1d-QcQC7D",
        "outputId": "555c7d9a-5aea-4235-c5fd-70ce4236978f"
      },
      "outputs": [
        {
          "output_type": "stream",
          "name": "stdout",
          "text": [
            "Requirement already satisfied: ultralytics in /usr/local/lib/python3.11/dist-packages (8.3.89)\n",
            "Requirement already satisfied: numpy<=2.1.1,>=1.23.0 in /usr/local/lib/python3.11/dist-packages (from ultralytics) (1.26.4)\n",
            "Requirement already satisfied: matplotlib>=3.3.0 in /usr/local/lib/python3.11/dist-packages (from ultralytics) (3.10.0)\n",
            "Requirement already satisfied: opencv-python>=4.6.0 in /usr/local/lib/python3.11/dist-packages (from ultralytics) (4.11.0.86)\n",
            "Requirement already satisfied: pillow>=7.1.2 in /usr/local/lib/python3.11/dist-packages (from ultralytics) (11.1.0)\n",
            "Requirement already satisfied: pyyaml>=5.3.1 in /usr/local/lib/python3.11/dist-packages (from ultralytics) (6.0.2)\n",
            "Requirement already satisfied: requests>=2.23.0 in /usr/local/lib/python3.11/dist-packages (from ultralytics) (2.32.3)\n",
            "Requirement already satisfied: scipy>=1.4.1 in /usr/local/lib/python3.11/dist-packages (from ultralytics) (1.14.1)\n",
            "Requirement already satisfied: torch>=1.8.0 in /usr/local/lib/python3.11/dist-packages (from ultralytics) (2.5.1+cu124)\n",
            "Requirement already satisfied: torchvision>=0.9.0 in /usr/local/lib/python3.11/dist-packages (from ultralytics) (0.20.1+cu124)\n",
            "Requirement already satisfied: tqdm>=4.64.0 in /usr/local/lib/python3.11/dist-packages (from ultralytics) (4.67.1)\n",
            "Requirement already satisfied: psutil in /usr/local/lib/python3.11/dist-packages (from ultralytics) (5.9.5)\n",
            "Requirement already satisfied: py-cpuinfo in /usr/local/lib/python3.11/dist-packages (from ultralytics) (9.0.0)\n",
            "Requirement already satisfied: pandas>=1.1.4 in /usr/local/lib/python3.11/dist-packages (from ultralytics) (2.2.2)\n",
            "Requirement already satisfied: seaborn>=0.11.0 in /usr/local/lib/python3.11/dist-packages (from ultralytics) (0.13.2)\n",
            "Requirement already satisfied: ultralytics-thop>=2.0.0 in /usr/local/lib/python3.11/dist-packages (from ultralytics) (2.0.14)\n",
            "Requirement already satisfied: contourpy>=1.0.1 in /usr/local/lib/python3.11/dist-packages (from matplotlib>=3.3.0->ultralytics) (1.3.1)\n",
            "Requirement already satisfied: cycler>=0.10 in /usr/local/lib/python3.11/dist-packages (from matplotlib>=3.3.0->ultralytics) (0.12.1)\n",
            "Requirement already satisfied: fonttools>=4.22.0 in /usr/local/lib/python3.11/dist-packages (from matplotlib>=3.3.0->ultralytics) (4.56.0)\n",
            "Requirement already satisfied: kiwisolver>=1.3.1 in /usr/local/lib/python3.11/dist-packages (from matplotlib>=3.3.0->ultralytics) (1.4.8)\n",
            "Requirement already satisfied: packaging>=20.0 in /usr/local/lib/python3.11/dist-packages (from matplotlib>=3.3.0->ultralytics) (24.2)\n",
            "Requirement already satisfied: pyparsing>=2.3.1 in /usr/local/lib/python3.11/dist-packages (from matplotlib>=3.3.0->ultralytics) (3.2.1)\n",
            "Requirement already satisfied: python-dateutil>=2.7 in /usr/local/lib/python3.11/dist-packages (from matplotlib>=3.3.0->ultralytics) (2.8.2)\n",
            "Requirement already satisfied: pytz>=2020.1 in /usr/local/lib/python3.11/dist-packages (from pandas>=1.1.4->ultralytics) (2025.1)\n",
            "Requirement already satisfied: tzdata>=2022.7 in /usr/local/lib/python3.11/dist-packages (from pandas>=1.1.4->ultralytics) (2025.1)\n",
            "Requirement already satisfied: charset-normalizer<4,>=2 in /usr/local/lib/python3.11/dist-packages (from requests>=2.23.0->ultralytics) (3.4.1)\n",
            "Requirement already satisfied: idna<4,>=2.5 in /usr/local/lib/python3.11/dist-packages (from requests>=2.23.0->ultralytics) (3.10)\n",
            "Requirement already satisfied: urllib3<3,>=1.21.1 in /usr/local/lib/python3.11/dist-packages (from requests>=2.23.0->ultralytics) (2.3.0)\n",
            "Requirement already satisfied: certifi>=2017.4.17 in /usr/local/lib/python3.11/dist-packages (from requests>=2.23.0->ultralytics) (2025.1.31)\n",
            "Requirement already satisfied: filelock in /usr/local/lib/python3.11/dist-packages (from torch>=1.8.0->ultralytics) (3.17.0)\n",
            "Requirement already satisfied: typing-extensions>=4.8.0 in /usr/local/lib/python3.11/dist-packages (from torch>=1.8.0->ultralytics) (4.12.2)\n",
            "Requirement already satisfied: networkx in /usr/local/lib/python3.11/dist-packages (from torch>=1.8.0->ultralytics) (3.4.2)\n",
            "Requirement already satisfied: jinja2 in /usr/local/lib/python3.11/dist-packages (from torch>=1.8.0->ultralytics) (3.1.6)\n",
            "Requirement already satisfied: fsspec in /usr/local/lib/python3.11/dist-packages (from torch>=1.8.0->ultralytics) (2024.10.0)\n",
            "Requirement already satisfied: nvidia-cuda-nvrtc-cu12==12.4.127 in /usr/local/lib/python3.11/dist-packages (from torch>=1.8.0->ultralytics) (12.4.127)\n",
            "Requirement already satisfied: nvidia-cuda-runtime-cu12==12.4.127 in /usr/local/lib/python3.11/dist-packages (from torch>=1.8.0->ultralytics) (12.4.127)\n",
            "Requirement already satisfied: nvidia-cuda-cupti-cu12==12.4.127 in /usr/local/lib/python3.11/dist-packages (from torch>=1.8.0->ultralytics) (12.4.127)\n",
            "Requirement already satisfied: nvidia-cudnn-cu12==9.1.0.70 in /usr/local/lib/python3.11/dist-packages (from torch>=1.8.0->ultralytics) (9.1.0.70)\n",
            "Requirement already satisfied: nvidia-cublas-cu12==12.4.5.8 in /usr/local/lib/python3.11/dist-packages (from torch>=1.8.0->ultralytics) (12.4.5.8)\n",
            "Requirement already satisfied: nvidia-cufft-cu12==11.2.1.3 in /usr/local/lib/python3.11/dist-packages (from torch>=1.8.0->ultralytics) (11.2.1.3)\n",
            "Requirement already satisfied: nvidia-curand-cu12==10.3.5.147 in /usr/local/lib/python3.11/dist-packages (from torch>=1.8.0->ultralytics) (10.3.5.147)\n",
            "Requirement already satisfied: nvidia-cusolver-cu12==11.6.1.9 in /usr/local/lib/python3.11/dist-packages (from torch>=1.8.0->ultralytics) (11.6.1.9)\n",
            "Requirement already satisfied: nvidia-cusparse-cu12==12.3.1.170 in /usr/local/lib/python3.11/dist-packages (from torch>=1.8.0->ultralytics) (12.3.1.170)\n",
            "Requirement already satisfied: nvidia-nccl-cu12==2.21.5 in /usr/local/lib/python3.11/dist-packages (from torch>=1.8.0->ultralytics) (2.21.5)\n",
            "Requirement already satisfied: nvidia-nvtx-cu12==12.4.127 in /usr/local/lib/python3.11/dist-packages (from torch>=1.8.0->ultralytics) (12.4.127)\n",
            "Requirement already satisfied: nvidia-nvjitlink-cu12==12.4.127 in /usr/local/lib/python3.11/dist-packages (from torch>=1.8.0->ultralytics) (12.4.127)\n",
            "Requirement already satisfied: triton==3.1.0 in /usr/local/lib/python3.11/dist-packages (from torch>=1.8.0->ultralytics) (3.1.0)\n",
            "Requirement already satisfied: sympy==1.13.1 in /usr/local/lib/python3.11/dist-packages (from torch>=1.8.0->ultralytics) (1.13.1)\n",
            "Requirement already satisfied: mpmath<1.4,>=1.1.0 in /usr/local/lib/python3.11/dist-packages (from sympy==1.13.1->torch>=1.8.0->ultralytics) (1.3.0)\n",
            "Requirement already satisfied: six>=1.5 in /usr/local/lib/python3.11/dist-packages (from python-dateutil>=2.7->matplotlib>=3.3.0->ultralytics) (1.17.0)\n",
            "Requirement already satisfied: MarkupSafe>=2.0 in /usr/local/lib/python3.11/dist-packages (from jinja2->torch>=1.8.0->ultralytics) (3.0.2)\n"
          ]
        }
      ],
      "source": [
        "!pip install ultralytics"
      ]
    },
    {
      "cell_type": "code",
      "execution_count": null,
      "metadata": {
        "colab": {
          "base_uri": "https://localhost:8080/"
        },
        "id": "NmdJh-m5QaeY",
        "outputId": "29ca2aa3-2a48-4b24-c966-99e671c29248"
      },
      "outputs": [
        {
          "output_type": "stream",
          "name": "stdout",
          "text": [
            "CUDA Available: False\n",
            "GPU Name: No GPU found\n",
            "12.4\n"
          ]
        }
      ],
      "source": [
        "import torch\n",
        "print(\"CUDA Available:\", torch.cuda.is_available())\n",
        "print(\"GPU Name:\", torch.cuda.get_device_name(0) if torch.cuda.is_available() else \"No GPU found\")\n",
        "print(torch.version.cuda)"
      ]
    },
    {
      "cell_type": "code",
      "execution_count": null,
      "metadata": {
        "id": "HB9yckyZjddn"
      },
      "outputs": [],
      "source": [
        "from ultralytics import YOLO\n",
        "model = YOLO(\"yolo11n.pt\")  # load a pretrained model (recommended for training)"
      ]
    },
    {
      "cell_type": "code",
      "execution_count": null,
      "metadata": {
        "id": "RCKV2y9SYq8H"
      },
      "outputs": [],
      "source": [
        "data_yaml=\"/content/extracted_files/coco2017_subset/dataset.yaml\"\n",
        "\n",
        "epochs=1\n",
        "img_size=640\n",
        "batch_size=2"
      ]
    },
    {
      "cell_type": "code",
      "execution_count": null,
      "metadata": {
        "colab": {
          "base_uri": "https://localhost:8080/"
        },
        "id": "Mu7k6t_bjolf",
        "outputId": "db6e739d-e5b7-48b0-fff5-4ee9bae1a48b"
      },
      "outputs": [
        {
          "metadata": {
            "tags": null
          },
          "name": "stdout",
          "output_type": "stream",
          "text": [
            "Starting YOLO training...\n",
            "Ultralytics 8.3.89 🚀 Python-3.11.11 torch-2.5.1+cu124 CPU (Intel Xeon 2.20GHz)\n",
            "\u001b[34m\u001b[1mengine/trainer: \u001b[0mtask=detect, mode=train, model=yolo11n.pt, data=/content/extracted_files/coco2017_subset/dataset.yaml, epochs=1, time=None, patience=100, batch=2, imgsz=640, save=True, save_period=-1, cache=False, device=cpu, workers=8, project=None, name=train, exist_ok=False, pretrained=True, optimizer=auto, verbose=True, seed=0, deterministic=True, single_cls=False, rect=False, cos_lr=False, close_mosaic=10, resume=False, amp=True, fraction=1.0, profile=False, freeze=None, multi_scale=False, overlap_mask=True, mask_ratio=4, dropout=0.0, val=True, split=val, save_json=False, save_hybrid=False, conf=None, iou=0.7, max_det=300, half=False, dnn=False, plots=True, source=None, vid_stride=1, stream_buffer=False, visualize=False, augment=False, agnostic_nms=False, classes=None, retina_masks=False, embed=None, show=False, save_frames=False, save_txt=False, save_conf=False, save_crop=False, show_labels=True, show_conf=True, show_boxes=True, line_width=None, format=torchscript, keras=False, optimize=False, int8=False, dynamic=False, simplify=True, opset=None, workspace=None, nms=False, lr0=0.01, lrf=0.01, momentum=0.937, weight_decay=0.0005, warmup_epochs=3.0, warmup_momentum=0.8, warmup_bias_lr=0.1, box=7.5, cls=0.5, dfl=1.5, pose=12.0, kobj=1.0, nbs=64, hsv_h=0.015, hsv_s=0.7, hsv_v=0.4, degrees=0.0, translate=0.1, scale=0.5, shear=0.0, perspective=0.0, flipud=0.0, fliplr=0.5, bgr=0.0, mosaic=1.0, mixup=0.0, copy_paste=0.0, copy_paste_mode=flip, auto_augment=randaugment, erasing=0.4, crop_fraction=1.0, cfg=None, tracker=botsort.yaml, save_dir=runs/detect/train\n",
            "Downloading https://ultralytics.com/assets/Arial.ttf to '/root/.config/Ultralytics/Arial.ttf'...\n"
          ]
        },
        {
          "metadata": {
            "tags": null
          },
          "name": "stderr",
          "output_type": "stream",
          "text": [
            "100%|██████████| 755k/755k [00:00<00:00, 13.5MB/s]\n"
          ]
        },
        {
          "metadata": {
            "tags": null
          },
          "name": "stdout",
          "output_type": "stream",
          "text": [
            "\n",
            "                   from  n    params  module                                       arguments                     \n",
            "  0                  -1  1       464  ultralytics.nn.modules.conv.Conv             [3, 16, 3, 2]                 \n",
            "  1                  -1  1      4672  ultralytics.nn.modules.conv.Conv             [16, 32, 3, 2]                \n",
            "  2                  -1  1      6640  ultralytics.nn.modules.block.C3k2            [32, 64, 1, False, 0.25]      \n",
            "  3                  -1  1     36992  ultralytics.nn.modules.conv.Conv             [64, 64, 3, 2]                \n",
            "  4                  -1  1     26080  ultralytics.nn.modules.block.C3k2            [64, 128, 1, False, 0.25]     \n",
            "  5                  -1  1    147712  ultralytics.nn.modules.conv.Conv             [128, 128, 3, 2]              \n",
            "  6                  -1  1     87040  ultralytics.nn.modules.block.C3k2            [128, 128, 1, True]           \n",
            "  7                  -1  1    295424  ultralytics.nn.modules.conv.Conv             [128, 256, 3, 2]              \n",
            "  8                  -1  1    346112  ultralytics.nn.modules.block.C3k2            [256, 256, 1, True]           \n",
            "  9                  -1  1    164608  ultralytics.nn.modules.block.SPPF            [256, 256, 5]                 \n",
            " 10                  -1  1    249728  ultralytics.nn.modules.block.C2PSA           [256, 256, 1]                 \n",
            " 11                  -1  1         0  torch.nn.modules.upsampling.Upsample         [None, 2, 'nearest']          \n",
            " 12             [-1, 6]  1         0  ultralytics.nn.modules.conv.Concat           [1]                           \n",
            " 13                  -1  1    111296  ultralytics.nn.modules.block.C3k2            [384, 128, 1, False]          \n",
            " 14                  -1  1         0  torch.nn.modules.upsampling.Upsample         [None, 2, 'nearest']          \n",
            " 15             [-1, 4]  1         0  ultralytics.nn.modules.conv.Concat           [1]                           \n",
            " 16                  -1  1     32096  ultralytics.nn.modules.block.C3k2            [256, 64, 1, False]           \n",
            " 17                  -1  1     36992  ultralytics.nn.modules.conv.Conv             [64, 64, 3, 2]                \n",
            " 18            [-1, 13]  1         0  ultralytics.nn.modules.conv.Concat           [1]                           \n",
            " 19                  -1  1     86720  ultralytics.nn.modules.block.C3k2            [192, 128, 1, False]          \n",
            " 20                  -1  1    147712  ultralytics.nn.modules.conv.Conv             [128, 128, 3, 2]              \n",
            " 21            [-1, 10]  1         0  ultralytics.nn.modules.conv.Concat           [1]                           \n",
            " 22                  -1  1    378880  ultralytics.nn.modules.block.C3k2            [384, 256, 1, True]           \n",
            " 23        [16, 19, 22]  1    464912  ultralytics.nn.modules.head.Detect           [80, [64, 128, 256]]          \n",
            "YOLO11n summary: 181 layers, 2,624,080 parameters, 2,624,064 gradients, 6.6 GFLOPs\n",
            "\n",
            "Transferred 499/499 items from pretrained weights\n",
            "\u001b[34m\u001b[1mTensorBoard: \u001b[0mStart with 'tensorboard --logdir runs/detect/train', view at http://localhost:6006/\n",
            "Freezing layer 'model.23.dfl.conv.weight'\n"
          ]
        },
        {
          "metadata": {
            "tags": null
          },
          "name": "stderr",
          "output_type": "stream",
          "text": [
            "\u001b[34m\u001b[1mtrain: \u001b[0mScanning /content/extracted_files/coco2017_subset/train2017... 29315 images, 256 backgrounds, 0 corrupt: 100%|██████████| 29571/29571 [01:43<00:00, 285.10it/s]\n"
          ]
        },
        {
          "metadata": {
            "tags": null
          },
          "name": "stdout",
          "output_type": "stream",
          "text": [
            "\u001b[34m\u001b[1mtrain: \u001b[0mNew cache created: /content/extracted_files/coco2017_subset/train2017.cache\n",
            "\u001b[34m\u001b[1malbumentations: \u001b[0mBlur(p=0.01, blur_limit=(3, 7)), MedianBlur(p=0.01, blur_limit=(3, 7)), ToGray(p=0.01, num_output_channels=3, method='weighted_average'), CLAHE(p=0.01, clip_limit=(1.0, 4.0), tile_grid_size=(8, 8))\n"
          ]
        },
        {
          "metadata": {
            "tags": null
          },
          "name": "stderr",
          "output_type": "stream",
          "text": [
            "\u001b[34m\u001b[1mval: \u001b[0mScanning /content/extracted_files/coco2017_subset/val2017... 1237 images, 13 backgrounds, 0 corrupt: 100%|██████████| 1250/1250 [00:04<00:00, 287.82it/s]\n"
          ]
        },
        {
          "metadata": {
            "tags": null
          },
          "name": "stdout",
          "output_type": "stream",
          "text": [
            "\u001b[34m\u001b[1mval: \u001b[0mNew cache created: /content/extracted_files/coco2017_subset/val2017.cache\n",
            "Plotting labels to runs/detect/train/labels.jpg... \n",
            "\u001b[34m\u001b[1moptimizer:\u001b[0m 'optimizer=auto' found, ignoring 'lr0=0.01' and 'momentum=0.937' and determining best 'optimizer', 'lr0' and 'momentum' automatically... \n",
            "\u001b[34m\u001b[1moptimizer:\u001b[0m AdamW(lr=0.000119, momentum=0.9) with parameter groups 81 weight(decay=0.0), 88 weight(decay=0.0005), 87 bias(decay=0.0)\n",
            "\u001b[34m\u001b[1mTensorBoard: \u001b[0mmodel graph visualization added ✅\n",
            "Image sizes 640 train, 640 val\n",
            "Using 0 dataloader workers\n",
            "Logging results to \u001b[1mruns/detect/train\u001b[0m\n",
            "Starting training for 1 epochs...\n",
            "\n",
            "      Epoch    GPU_mem   box_loss   cls_loss   dfl_loss  Instances       Size\n"
          ]
        },
        {
          "output_type": "stream",
          "name": "stderr",
          "text": [
            "        1/1         0G      1.278      1.841      1.329         44        640: 100%|██████████| 14786/14786 [7:25:54<00:00,  1.81s/it]\n",
            "                 Class     Images  Instances      Box(P          R      mAP50  mAP50-95): 100%|██████████| 313/313 [05:33<00:00,  1.07s/it]\n"
          ]
        },
        {
          "output_type": "stream",
          "name": "stdout",
          "text": [
            "                   all       1250       9236      0.603      0.461      0.499       0.35\n",
            "\n",
            "1 epochs completed in 7.530 hours.\n",
            "Optimizer stripped from runs/detect/train/weights/last.pt, 5.5MB\n",
            "Optimizer stripped from runs/detect/train/weights/best.pt, 5.5MB\n",
            "\n",
            "Validating runs/detect/train/weights/best.pt...\n",
            "Ultralytics 8.3.89 🚀 Python-3.11.11 torch-2.5.1+cu124 CPU (Intel Xeon 2.20GHz)\n",
            "YOLO11n summary (fused): 100 layers, 2,616,248 parameters, 0 gradients, 6.5 GFLOPs\n"
          ]
        },
        {
          "output_type": "stream",
          "name": "stderr",
          "text": [
            "                 Class     Images  Instances      Box(P          R      mAP50  mAP50-95): 100%|██████████| 313/313 [04:47<00:00,  1.09it/s]\n"
          ]
        },
        {
          "output_type": "stream",
          "name": "stdout",
          "text": [
            "                   all       1250       9236      0.605      0.461        0.5       0.35\n",
            "                person        670       2607      0.839      0.584      0.716      0.483\n",
            "               bicycle         34         75      0.516      0.293       0.33      0.205\n",
            "                   car        132        457      0.702      0.453       0.54      0.322\n",
            "            motorcycle         36         88      0.759      0.511      0.585      0.385\n",
            "              airplane         23         43      0.811      0.791       0.81      0.558\n",
            "                   bus         43         55      0.807      0.761       0.79      0.667\n",
            "                 train         48         60      0.821      0.767      0.833      0.666\n",
            "                 truck         56         96      0.662      0.327      0.434      0.292\n",
            "                  boat         30        107      0.585      0.251      0.329      0.168\n",
            "         traffic light         53        176       0.57      0.335      0.396      0.213\n",
            "          fire hydrant         24         26      0.808      0.731      0.756      0.584\n",
            "             stop sign         18         19      0.662      0.579      0.685      0.607\n",
            "         parking meter         11         24      0.519      0.417      0.507      0.371\n",
            "                 bench         55         90      0.466      0.256      0.284      0.163\n",
            "                  bird         35        114      0.698      0.283      0.327      0.194\n",
            "                   cat         57         63      0.877      0.681      0.844       0.66\n",
            "                   dog         41         51      0.656      0.745      0.765      0.612\n",
            "                 horse         40        101      0.726      0.772      0.771      0.576\n",
            "                 sheep         15        124      0.699      0.694      0.741      0.465\n",
            "                   cow         25         74      0.559      0.622      0.647      0.471\n",
            "              elephant         15         49      0.789      0.878        0.9      0.693\n",
            "                  bear         13         18      0.697      0.722      0.798      0.668\n",
            "                 zebra         25         72       0.78      0.889       0.92      0.695\n",
            "               giraffe         29         70       0.77      0.743      0.771       0.58\n",
            "              backpack         52         82      0.456      0.174      0.188      0.113\n",
            "              umbrella         35        110      0.536      0.373      0.389      0.233\n",
            "               handbag         81        156      0.393     0.0641      0.103      0.058\n",
            "                   tie         46         76      0.613      0.303      0.394      0.247\n",
            "              suitcase         29         99      0.541      0.453      0.488       0.33\n",
            "               frisbee         16         30      0.518      0.567      0.475      0.346\n",
            "                  skis         32         57      0.602      0.263      0.299      0.163\n",
            "             snowboard         13         17      0.386      0.235       0.31      0.195\n",
            "           sports ball         50         86      0.871      0.472      0.531      0.397\n",
            "                  kite         23        102      0.553      0.431      0.508      0.339\n",
            "          baseball bat         22         30      0.538        0.4      0.386      0.221\n",
            "        baseball glove         20         24      0.508        0.5        0.5      0.238\n",
            "            skateboard         27         40      0.751      0.526      0.623      0.421\n",
            "             surfboard         43         92      0.648      0.402      0.439       0.28\n",
            "         tennis racket         45         66      0.654      0.485        0.6      0.343\n",
            "                bottle         99        227      0.519      0.313      0.348      0.239\n",
            "            wine glass         29         86      0.718      0.296      0.396      0.278\n",
            "                   cup        106        270      0.588      0.385       0.43      0.282\n",
            "                  fork         37         53      0.685      0.321      0.365       0.26\n",
            "                 knife         44         99      0.303      0.106      0.107     0.0668\n",
            "                 spoon         45         77      0.421     0.0663      0.144     0.0805\n",
            "                  bowl         83        185      0.697      0.335      0.461      0.331\n",
            "                banana         22         69      0.454      0.246      0.289      0.163\n",
            "                 apple         22         59       0.61      0.203      0.243      0.175\n",
            "              sandwich         24         49      0.749      0.243      0.343      0.211\n",
            "                orange         17         41      0.329      0.537      0.365      0.264\n",
            "              broccoli         14         90      0.493      0.311      0.321       0.16\n",
            "                carrot         15         63      0.334      0.246      0.256      0.169\n",
            "               hot dog          9         24      0.575      0.583      0.554      0.408\n",
            "                 pizza         29         47      0.675      0.708      0.759      0.617\n",
            "                 donut         18        112       0.42      0.616       0.46      0.343\n",
            "                  cake         33         79      0.676      0.468      0.553      0.392\n",
            "                 chair        154        437      0.546      0.327      0.374      0.226\n",
            "                 couch         45         70      0.645      0.457      0.486      0.308\n",
            "          potted plant         38         83      0.694      0.337      0.408      0.248\n",
            "                   bed         38         39      0.718      0.692       0.73      0.569\n",
            "          dining table        116        180      0.491      0.413       0.39      0.284\n",
            "                toilet         40         48      0.605      0.638      0.639      0.505\n",
            "                    tv         55         77      0.573      0.714      0.703      0.522\n",
            "                laptop         31         32      0.437      0.719      0.696      0.552\n",
            "                 mouse         20         21      0.474      0.762      0.794      0.632\n",
            "                remote         32         64      0.385      0.203        0.2       0.11\n",
            "              keyboard         21         28      0.537      0.857      0.783      0.597\n",
            "            cell phone         47         55      0.509      0.309      0.359      0.251\n",
            "             microwave         16         17      0.524      0.765      0.646      0.443\n",
            "                  oven         32         40      0.531       0.45      0.531      0.368\n",
            "               toaster          4          5       0.64        0.2       0.56      0.321\n",
            "                  sink         55         73       0.55      0.493      0.547      0.378\n",
            "          refrigerator         34         47      0.684      0.596      0.661       0.49\n",
            "                  book         63        329       0.38     0.0699      0.134     0.0587\n",
            "                 clock         56         66      0.617      0.621      0.596      0.399\n",
            "                  vase         39         76      0.847      0.421      0.555      0.407\n",
            "              scissors         12         17      0.351      0.235      0.166     0.0842\n",
            "            teddy bear         28         59      0.538      0.576      0.574      0.363\n",
            "            hair drier          2          2          1          0          0          0\n",
            "            toothbrush          9         15      0.499      0.267      0.331      0.195\n",
            "Speed: 4.9ms preprocess, 207.9ms inference, 0.0ms loss, 4.2ms postprocess per image\n",
            "Results saved to \u001b[1mruns/detect/train\u001b[0m\n",
            "Training completed.\n"
          ]
        }
      ],
      "source": [
        "#training\n",
        "print(\"Starting YOLO training...\")\n",
        "results=model.train(data=data_yaml,epochs=epochs,imgsz=img_size,batch=batch_size,device='cpu')\n",
        "print(\"Training completed.\")"
      ]
    },
    {
      "cell_type": "code",
      "execution_count": null,
      "metadata": {
        "id": "jilrFOkgN9U2"
      },
      "outputs": [],
      "source": [
        "model.save('best_yolo.pt')"
      ]
    },
    {
      "cell_type": "code",
      "execution_count": null,
      "metadata": {
        "id": "utEgeP5IOSgf",
        "colab": {
          "base_uri": "https://localhost:8080/",
          "height": 17
        },
        "outputId": "52fc711b-221f-45fa-e42d-7e2af2fca661"
      },
      "outputs": [
        {
          "output_type": "display_data",
          "data": {
            "text/plain": [
              "<IPython.core.display.Javascript object>"
            ],
            "application/javascript": [
              "\n",
              "    async function download(id, filename, size) {\n",
              "      if (!google.colab.kernel.accessAllowed) {\n",
              "        return;\n",
              "      }\n",
              "      const div = document.createElement('div');\n",
              "      const label = document.createElement('label');\n",
              "      label.textContent = `Downloading \"${filename}\": `;\n",
              "      div.appendChild(label);\n",
              "      const progress = document.createElement('progress');\n",
              "      progress.max = size;\n",
              "      div.appendChild(progress);\n",
              "      document.body.appendChild(div);\n",
              "\n",
              "      const buffers = [];\n",
              "      let downloaded = 0;\n",
              "\n",
              "      const channel = await google.colab.kernel.comms.open(id);\n",
              "      // Send a message to notify the kernel that we're ready.\n",
              "      channel.send({})\n",
              "\n",
              "      for await (const message of channel.messages) {\n",
              "        // Send a message to notify the kernel that we're ready.\n",
              "        channel.send({})\n",
              "        if (message.buffers) {\n",
              "          for (const buffer of message.buffers) {\n",
              "            buffers.push(buffer);\n",
              "            downloaded += buffer.byteLength;\n",
              "            progress.value = downloaded;\n",
              "          }\n",
              "        }\n",
              "      }\n",
              "      const blob = new Blob(buffers, {type: 'application/binary'});\n",
              "      const a = document.createElement('a');\n",
              "      a.href = window.URL.createObjectURL(blob);\n",
              "      a.download = filename;\n",
              "      div.appendChild(a);\n",
              "      a.click();\n",
              "      div.remove();\n",
              "    }\n",
              "  "
            ]
          },
          "metadata": {}
        },
        {
          "output_type": "display_data",
          "data": {
            "text/plain": [
              "<IPython.core.display.Javascript object>"
            ],
            "application/javascript": [
              "download(\"download_3da838f6-8e9d-4183-a6e9-848d749b8ce0\", \"best_yolo.pt\", 5534714)"
            ]
          },
          "metadata": {}
        }
      ],
      "source": [
        "from google.colab import files\n",
        "\n",
        "files.download('best_yolo.pt')"
      ]
    }
  ],
  "metadata": {
    "colab": {
      "provenance": []
    },
    "kernelspec": {
      "display_name": "Python 3",
      "name": "python3"
    },
    "language_info": {
      "name": "python"
    }
  },
  "nbformat": 4,
  "nbformat_minor": 0
}