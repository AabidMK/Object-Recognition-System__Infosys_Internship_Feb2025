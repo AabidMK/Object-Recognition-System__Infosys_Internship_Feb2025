{
  "nbformat": 4,
  "nbformat_minor": 0,
  "metadata": {
    "colab": {
      "provenance": [],
      "gpuType": "T4"
    },
    "kernelspec": {
      "name": "python3",
      "display_name": "Python 3"
    },
    "language_info": {
      "name": "python"
    },
    "accelerator": "GPU"
  },
  "cells": [
    {
      "cell_type": "markdown",
      "source": [
        "This Python script performs instance segmentation using a pre-trained YOLO (You Only Look Once) model with Ultralytics.\n",
        "\n",
        "**Ultralytics** is the creator of **YOLOv5** and **YOLOv8**, widely used for object detection, segmentation, and other computer vision tasks.\n",
        "\n",
        "It loads the trained segmentation model, processes the input image or video, runs inference, and displays the segmented objects with masks and bounding boxes.\n"
      ],
      "metadata": {
        "id": "8yYQ-uHH6Cb3"
      }
    },
    {
      "cell_type": "markdown",
      "source": [
        "## Loading Dataset in google colab from gdrive"
      ],
      "metadata": {
        "id": "80GjSrQ1MwQG"
      }
    },
    {
      "cell_type": "code",
      "execution_count": null,
      "metadata": {
        "colab": {
          "base_uri": "https://localhost:8080/"
        },
        "id": "g73sgCC9KYU-",
        "outputId": "1da6a0c0-1ee4-4e8f-8686-a7aa55e58f46"
      },
      "outputs": [
        {
          "output_type": "stream",
          "name": "stdout",
          "text": [
            "Mounted at /content/drive\n"
          ]
        }
      ],
      "source": [
        "from google.colab import drive\n",
        "drive.mount('/content/drive')"
      ]
    },
    {
      "cell_type": "code",
      "source": [
        "import zipfile\n",
        "import os\n",
        "\n",
        "# Path to your zip file in Google Drive\n",
        "zip_path = '/content/drive/MyDrive/coco2017_subset.zip'\n",
        "\n",
        "# Directory where you want to extract the contents\n",
        "extract_path = '/content/extracted_files'\n",
        "\n",
        "# Create the directory if it doesn't exist\n",
        "os.makedirs(extract_path, exist_ok=True)\n",
        "\n",
        "# Extract the zip file\n",
        "with zipfile.ZipFile(zip_path, 'r') as zip_ref:\n",
        "    zip_ref.extractall(extract_path)\n",
        "\n",
        "print(f\"Files extracted to {extract_path}\")"
      ],
      "metadata": {
        "colab": {
          "base_uri": "https://localhost:8080/"
        },
        "id": "CXXtxn71LGaS",
        "outputId": "29ebba19-9e6d-436a-8fcd-88eca00ec4c4"
      },
      "execution_count": null,
      "outputs": [
        {
          "output_type": "stream",
          "name": "stdout",
          "text": [
            "Files extracted to /content/extracted_files\n"
          ]
        }
      ]
    },
    {
      "cell_type": "markdown",
      "source": [
        "## Importing required libraries"
      ],
      "metadata": {
        "id": "Wg5KJaKbM4n2"
      }
    },
    {
      "cell_type": "code",
      "source": [
        "import os\n",
        "from pycocotools.coco import COCO\n",
        "import matplotlib.pyplot as plt\n",
        "import matplotlib.patches as patches\n",
        "import numpy as np\n",
        "import pandas as pd\n",
        "import cv2\n",
        "import seaborn as sns\n",
        "import random\n",
        "from skimage import io\n",
        "import albumentations as A\n",
        "import json"
      ],
      "metadata": {
        "id": "wQghftMFMeb8"
      },
      "execution_count": null,
      "outputs": []
    },
    {
      "cell_type": "markdown",
      "source": [
        "## Annotation generation for Train data"
      ],
      "metadata": {
        "id": "sjInaslSOdbt"
      }
    },
    {
      "cell_type": "code",
      "source": [
        "# Path to COCO annotation file and output folder for YOLO labels\n",
        "coco_ann_file = r\"/content/extracted_files/coco2017_subset/annotation_subset/instances_train2017_subset.json\"\n",
        "output_dir = \"/content/extracted_files/coco2017_subset/train2017\"\n",
        "os.makedirs(output_dir, exist_ok=True)"
      ],
      "metadata": {
        "id": "_bnJFeIiM5Hi"
      },
      "execution_count": null,
      "outputs": []
    },
    {
      "cell_type": "code",
      "source": [
        "# Load COCO annotations\n",
        "with open(coco_ann_file, 'r') as f:\n",
        "    coco_data = json.load(f)"
      ],
      "metadata": {
        "id": "IKxyWyayOe5V"
      },
      "execution_count": null,
      "outputs": []
    },
    {
      "cell_type": "code",
      "source": [
        "# Create mapping: COCO category id -> new id (0-based contiguous indices)\n",
        "# For example, if valid categories are 1, 2, 3, 5, 6, ... then you might have:\n",
        "coco_categories = sorted([cat['id'] for cat in coco_data['categories']])\n",
        "id_mapping = {orig_id: new_id for new_id, orig_id in enumerate(coco_categories)}"
      ],
      "metadata": {
        "id": "va6ACKugOnWK"
      },
      "execution_count": null,
      "outputs": []
    },
    {
      "cell_type": "code",
      "source": [
        "# Build a mapping from image_id to image info\n",
        "img_info = {img['id']: img for img in coco_data['images']}"
      ],
      "metadata": {
        "id": "o4ZcmPFwOpU6"
      },
      "execution_count": null,
      "outputs": []
    },
    {
      "cell_type": "code",
      "source": [
        "# Process annotations per image\n",
        "annotations_by_image = {}\n",
        "for ann in coco_data['annotations']:\n",
        "    img_id = ann['image_id']\n",
        "    img = img_info[img_id]\n",
        "    img_width, img_height = img['width'], img['height']\n",
        "\n",
        "    x, y, w, h = ann['bbox']\n",
        "    # Convert COCO bbox [x, y, w, h] to YOLO format [x_center, y_center, width, height] normalized\n",
        "    x_center = (x + w / 2) / img_width\n",
        "    y_center = (y + h / 2) / img_height\n",
        "    norm_w = w / img_width\n",
        "    norm_h = h / img_height\n",
        "\n",
        "    # Remap the category id\n",
        "    orig_cat = ann['category_id']\n",
        "    if orig_cat not in id_mapping:\n",
        "        continue  # skip if the category is not in the mapping\n",
        "    new_cat = id_mapping[orig_cat]\n",
        "\n",
        "    if img_id not in annotations_by_image:\n",
        "        annotations_by_image[img_id] = []\n",
        "    annotations_by_image[img_id].append(f\"{new_cat} {x_center:.6f} {y_center:.6f} {norm_w:.6f} {norm_h:.6f}\")"
      ],
      "metadata": {
        "id": "3GHC6OITOrtJ"
      },
      "execution_count": null,
      "outputs": []
    },
    {
      "cell_type": "code",
      "source": [
        "# Write YOLO label files for each image\n",
        "for img_id, ann_list in annotations_by_image.items():\n",
        "    file_name = img_info[img_id]['file_name']\n",
        "    base_name = os.path.splitext(file_name)[0]\n",
        "    # Save the label file in the same directory as your images, or wherever you prefer\n",
        "    out_file = os.path.join(output_dir, base_name + '.txt')\n",
        "    with open(out_file, 'w') as f:\n",
        "        for line in ann_list:\n",
        "            f.write(line + '\\n')"
      ],
      "metadata": {
        "id": "qtZpt4WLOuux"
      },
      "execution_count": null,
      "outputs": []
    },
    {
      "cell_type": "markdown",
      "source": [
        "## Annotation generation for Validation data"
      ],
      "metadata": {
        "id": "BuXYC3kCO2OP"
      }
    },
    {
      "cell_type": "code",
      "source": [
        "coco_ann_file = '/content/extracted_files/coco2017_subset/annotation_subset/instances_val2017_subset.json'\n",
        "output_dir = '/content/extracted_files/coco2017_subset/val2017'\n",
        "os.makedirs(output_dir, exist_ok=True)"
      ],
      "metadata": {
        "id": "8I0MQ6hhOxxL"
      },
      "execution_count": null,
      "outputs": []
    },
    {
      "cell_type": "code",
      "source": [
        "# Load COCO annotations\n",
        "with open(coco_ann_file, 'r') as f:\n",
        "    coco_data = json.load(f)"
      ],
      "metadata": {
        "id": "-TCZjDxaO6DM"
      },
      "execution_count": null,
      "outputs": []
    },
    {
      "cell_type": "code",
      "source": [
        "# Create mapping: COCO category id -> new id (0-based contiguous indices)\n",
        "# For example, if valid categories are 1, 2, 3, 5, 6, ... then you might have:\n",
        "coco_categories = sorted([cat['id'] for cat in coco_data['categories']])\n",
        "id_mapping = {orig_id: new_id for new_id, orig_id in enumerate(coco_categories)}"
      ],
      "metadata": {
        "id": "A_DyAmWGO-Y7"
      },
      "execution_count": null,
      "outputs": []
    },
    {
      "cell_type": "code",
      "source": [
        "# Build a mapping from image_id to image info\n",
        "img_info = {img['id']: img for img in coco_data['images']}"
      ],
      "metadata": {
        "id": "K5FzMWGAPA9Y"
      },
      "execution_count": null,
      "outputs": []
    },
    {
      "cell_type": "code",
      "source": [
        "# Process annotations per image\n",
        "annotations_by_image = {}\n",
        "for ann in coco_data['annotations']:\n",
        "    img_id = ann['image_id']\n",
        "    img = img_info[img_id]\n",
        "    img_width, img_height = img['width'], img['height']\n",
        "\n",
        "    x, y, w, h = ann['bbox']\n",
        "    # Convert COCO bbox [x, y, w, h] to YOLO format [x_center, y_center, width, height] normalized\n",
        "    x_center = (x + w / 2) / img_width\n",
        "    y_center = (y + h / 2) / img_height\n",
        "    norm_w = w / img_width\n",
        "    norm_h = h / img_height\n",
        "\n",
        "    # Remap the category id\n",
        "    orig_cat = ann['category_id']\n",
        "    if orig_cat not in id_mapping:\n",
        "        continue  # skip if the category is not in the mapping\n",
        "    new_cat = id_mapping[orig_cat]\n",
        "\n",
        "    if img_id not in annotations_by_image:\n",
        "        annotations_by_image[img_id] = []\n",
        "    annotations_by_image[img_id].append(f\"{new_cat} {x_center:.6f} {y_center:.6f} {norm_w:.6f} {norm_h:.6f}\")"
      ],
      "metadata": {
        "id": "kpwrI9-5PDRY"
      },
      "execution_count": null,
      "outputs": []
    },
    {
      "cell_type": "code",
      "source": [
        "# Write YOLO label files for each image\n",
        "for img_id, ann_list in annotations_by_image.items():\n",
        "    file_name = img_info[img_id]['file_name']\n",
        "    base_name = os.path.splitext(file_name)[0]\n",
        "    # Save the label file in the same directory as your images, or wherever you prefer\n",
        "    out_file = os.path.join(output_dir, base_name + '.txt')\n",
        "    with open(out_file, 'w') as f:\n",
        "        for line in ann_list:\n",
        "            f.write(line + '\\n')"
      ],
      "metadata": {
        "id": "FSTMFDLfPFWh"
      },
      "execution_count": null,
      "outputs": []
    },
    {
      "cell_type": "markdown",
      "source": [
        "### Force UTF-8 Encoding"
      ],
      "metadata": {
        "id": "0l-t2Gb5QE3G"
      }
    },
    {
      "cell_type": "code",
      "source": [
        "import locale\n",
        "def getpreferredencoding(do_setlocale = True):\n",
        "    return \"UTF-8\"\n",
        "locale.getpreferredencoding = getpreferredencoding"
      ],
      "metadata": {
        "id": "30bs5HmZPHSU"
      },
      "execution_count": null,
      "outputs": []
    },
    {
      "cell_type": "markdown",
      "source": [
        "### Updation of YOLO Labels for Train dataset"
      ],
      "metadata": {
        "id": "kCaQc7C8QyUB"
      }
    },
    {
      "cell_type": "code",
      "source": [
        "from pycocotools import mask as mask_utils\n",
        "\n",
        "# Path to COCO annotation file and output folder for YOLO labels\n",
        "coco_ann_file = r\"/content/extracted_files/coco2017_subset/annotation_subset/instances_train2017_subset.json\"\n",
        "output_dir = \"/content/extracted_files/coco2017_subset/train2017\"\n",
        "os.makedirs(output_dir, exist_ok=True)\n",
        "\n",
        "# Load COCO annotations\n",
        "with open(coco_ann_file, 'r') as f:\n",
        "    coco_data = json.load(f)\n",
        "\n",
        "# Create mapping: COCO category id -> new id (0-based contiguous indices)\n",
        "coco_categories = sorted([cat['id'] for cat in coco_data['categories']])\n",
        "id_mapping = {orig_id: new_id for new_id, orig_id in enumerate(coco_categories)}\n",
        "\n",
        "# Build a mapping from image_id to image info\n",
        "img_info = {img['id']: img for img in coco_data['images']}\n",
        "\n",
        "# Process annotations per image\n",
        "annotations_by_image = {}\n",
        "\n",
        "# Process each annotation\n",
        "for ann in coco_data['annotations']:\n",
        "    try:\n",
        "        img_id = ann['image_id']\n",
        "        if img_id not in img_info:\n",
        "            print(f\"Warning: Image ID {img_id} not found in image info\")\n",
        "            continue\n",
        "\n",
        "        img = img_info[img_id]\n",
        "        img_width, img_height = float(img['width']), float(img['height'])\n",
        "\n",
        "        # Get the category ID and check if it's in our mapping\n",
        "        orig_cat = ann['category_id']\n",
        "        if orig_cat not in id_mapping:\n",
        "            continue  # skip if the category is not in the mapping\n",
        "        new_cat = id_mapping[orig_cat]\n",
        "\n",
        "        # Initialize the annotation list for this image if it doesn't exist\n",
        "        if img_id not in annotations_by_image:\n",
        "            annotations_by_image[img_id] = []\n",
        "\n",
        "        # First, add the bounding box information (required for YOLO segmentation)\n",
        "        x, y, w, h = map(float, ann['bbox'])  # Convert to float\n",
        "        x_center = (x + w / 2) / img_width\n",
        "        y_center = (y + h / 2) / img_height\n",
        "        norm_w = w / img_width\n",
        "        norm_h = h / img_height\n",
        "\n",
        "        # Handle segmentation data\n",
        "        polygons = []\n",
        "\n",
        "        if 'segmentation' in ann:\n",
        "            seg_data = ann['segmentation']\n",
        "\n",
        "            # Check segmentation format\n",
        "            if isinstance(seg_data, list):\n",
        "                # It could be a list of lists (polygons) or a list of dicts (RLE)\n",
        "                for seg in seg_data:\n",
        "                    if isinstance(seg, list) and len(seg) >= 6:  # Polygon format (at least 3 points)\n",
        "                        # Check if all elements are numbers\n",
        "                        if all(isinstance(p, (int, float)) or (isinstance(p, str) and p.replace('.', '', 1).isdigit()) for p in seg):\n",
        "                            polygon = []\n",
        "                            for i in range(0, len(seg), 2):\n",
        "                                if i+1 < len(seg):\n",
        "                                    x_norm = float(seg[i]) / img_width\n",
        "                                    y_norm = float(seg[i+1]) / img_height\n",
        "                                    polygon.extend([x_norm, y_norm])\n",
        "                            polygons.append(polygon)\n",
        "                        else:\n",
        "                            print(f\"Warning: Non-numeric values in polygon for annotation {ann['id']}\")\n",
        "                    elif isinstance(seg, dict) and 'counts' in seg and 'size' in seg:\n",
        "                        # RLE format\n",
        "                        try:\n",
        "                            # Convert RLE to binary mask\n",
        "                            rle = mask_utils.frPyObjects(seg, img_height, img_width)\n",
        "                            binary_mask = mask_utils.decode(rle)\n",
        "\n",
        "                            # Find contours in the binary mask\n",
        "                            contours, _ = cv2.findContours(binary_mask, cv2.RETR_EXTERNAL, cv2.CHAIN_APPROX_SIMPLE)\n",
        "\n",
        "                            # Convert contours to normalized polygon points\n",
        "                            for contour in contours:\n",
        "                                if len(contour) >= 3:  # At least 3 points needed\n",
        "                                    polygon = []\n",
        "                                    for point in contour:\n",
        "                                        x_norm = float(point[0][0]) / img_width\n",
        "                                        y_norm = float(point[0][1]) / img_height\n",
        "                                        polygon.extend([x_norm, y_norm])\n",
        "                                    polygons.append(polygon)\n",
        "                        except Exception as e:\n",
        "                            print(f\"Error processing RLE data: {e}\")\n",
        "            elif isinstance(seg_data, dict) and 'counts' in seg_data and 'size' in seg_data:\n",
        "                # Single RLE format\n",
        "                try:\n",
        "                    # Convert RLE to binary mask\n",
        "                    rle = mask_utils.frPyObjects(seg_data, img_height, img_width)\n",
        "                    binary_mask = mask_utils.decode(rle)\n",
        "\n",
        "                    # Find contours in the binary mask\n",
        "                    contours, _ = cv2.findContours(binary_mask, cv2.RETR_EXTERNAL, cv2.CHAIN_APPROX_SIMPLE)\n",
        "\n",
        "                    # Convert contours to normalized polygon points\n",
        "                    for contour in contours:\n",
        "                        if len(contour) >= 3:  # At least 3 points needed\n",
        "                            polygon = []\n",
        "                            for point in contour:\n",
        "                                x_norm = float(point[0][0]) / img_width\n",
        "                                y_norm = float(point[0][1]) / img_height\n",
        "                                polygon.extend([x_norm, y_norm])\n",
        "                            polygons.append(polygon)\n",
        "                except Exception as e:\n",
        "                    print(f\"Error processing RLE data: {e}\")\n",
        "\n",
        "        # Format the YOLO segmentation line for each polygon\n",
        "        if polygons:\n",
        "            for polygon in polygons:\n",
        "                if len(polygon) >= 6:  # Minimum 3 points for a polygon (x1,y1,x2,y2,x3,y3)\n",
        "                    line = f\"{new_cat} {x_center:.6f} {y_center:.6f} {norm_w:.6f} {norm_h:.6f}\"\n",
        "                    for p in polygon:\n",
        "                        line += f\" {p:.6f}\"\n",
        "                    annotations_by_image[img_id].append(line)\n",
        "        else:\n",
        "            print(f\"Warning: No valid polygon data for annotation {ann['id']} in image {img_id}\")\n",
        "    except Exception as e:\n",
        "        print(f\"Error processing annotation {ann.get('id', 'unknown')}: {e}\")\n",
        "\n",
        "# Write YOLO label files for each image\n",
        "count = 0\n",
        "for img_id, ann_list in annotations_by_image.items():\n",
        "    if img_id in img_info and ann_list:  # Make sure we have info and annotations\n",
        "        file_name = img_info[img_id]['file_name']\n",
        "        base_name = os.path.splitext(file_name)[0]\n",
        "        out_file = os.path.join(output_dir, base_name + '.txt')\n",
        "\n",
        "        with open(out_file, 'w') as f:\n",
        "            for line in ann_list:\n",
        "                f.write(line + '\\n')\n",
        "        count += 1\n",
        "\n",
        "print(f\"Processed {count} images with segmentation annotations\")"
      ],
      "metadata": {
        "colab": {
          "base_uri": "https://localhost:8080/"
        },
        "id": "l_q-pucbP0aO",
        "outputId": "5349786a-ef98-4d56-97ca-37065db7de2c"
      },
      "execution_count": null,
      "outputs": [
        {
          "output_type": "stream",
          "name": "stdout",
          "text": [
            "Processed 29315 images with segmentation annotations\n"
          ]
        }
      ]
    },
    {
      "cell_type": "markdown",
      "source": [
        "### Updation of YOLO Labels for Validation dataset"
      ],
      "metadata": {
        "id": "4d2yTvJ0RCvw"
      }
    },
    {
      "cell_type": "code",
      "source": [
        "from pycocotools import mask as mask_utils\n",
        "\n",
        "\n",
        "# Path to COCO annotation file and output folder for YOLO labels\n",
        "coco_ann_file = r\"/content/extracted_files/coco2017_subset/annotation_subset/instances_val2017_subset.json\"\n",
        "output_dir = \"/content/extracted_files/coco2017_subset/val2017\"\n",
        "os.makedirs(output_dir, exist_ok=True)\n",
        "\n",
        "# Load COCO annotations\n",
        "with open(coco_ann_file, 'r') as f:\n",
        "    coco_data = json.load(f)\n",
        "\n",
        "# Create mapping: COCO category id -> new id (0-based contiguous indices)\n",
        "coco_categories = sorted([cat['id'] for cat in coco_data['categories']])\n",
        "id_mapping = {orig_id: new_id for new_id, orig_id in enumerate(coco_categories)}\n",
        "\n",
        "# Build a mapping from image_id to image info\n",
        "img_info = {img['id']: img for img in coco_data['images']}\n",
        "\n",
        "# Process annotations per image\n",
        "annotations_by_image = {}\n",
        "\n",
        "# Process each annotation\n",
        "for ann in coco_data['annotations']:\n",
        "    try:\n",
        "        img_id = ann['image_id']\n",
        "        if img_id not in img_info:\n",
        "            print(f\"Warning: Image ID {img_id} not found in image info\")\n",
        "            continue\n",
        "\n",
        "        img = img_info[img_id]\n",
        "        img_width, img_height = float(img['width']), float(img['height'])\n",
        "\n",
        "        # Get the category ID and check if it's in our mapping\n",
        "        orig_cat = ann['category_id']\n",
        "        if orig_cat not in id_mapping:\n",
        "            continue  # skip if the category is not in the mapping\n",
        "        new_cat = id_mapping[orig_cat]\n",
        "\n",
        "        # Initialize the annotation list for this image if it doesn't exist\n",
        "        if img_id not in annotations_by_image:\n",
        "            annotations_by_image[img_id] = []\n",
        "\n",
        "        # First, add the bounding box information (required for YOLO segmentation)\n",
        "        x, y, w, h = map(float, ann['bbox'])  # Convert to float\n",
        "        x_center = (x + w / 2) / img_width\n",
        "        y_center = (y + h / 2) / img_height\n",
        "        norm_w = w / img_width\n",
        "        norm_h = h / img_height\n",
        "\n",
        "        # Handle segmentation data\n",
        "        polygons = []\n",
        "\n",
        "        if 'segmentation' in ann:\n",
        "            seg_data = ann['segmentation']\n",
        "\n",
        "            # Check segmentation format\n",
        "            if isinstance(seg_data, list):\n",
        "                # It could be a list of lists (polygons) or a list of dicts (RLE)\n",
        "                for seg in seg_data:\n",
        "                    if isinstance(seg, list) and len(seg) >= 6:  # Polygon format (at least 3 points)\n",
        "                        # Check if all elements are numbers\n",
        "                        if all(isinstance(p, (int, float)) or (isinstance(p, str) and p.replace('.', '', 1).isdigit()) for p in seg):\n",
        "                            polygon = []\n",
        "                            for i in range(0, len(seg), 2):\n",
        "                                if i+1 < len(seg):\n",
        "                                    x_norm = float(seg[i]) / img_width\n",
        "                                    y_norm = float(seg[i+1]) / img_height\n",
        "                                    polygon.extend([x_norm, y_norm])\n",
        "                            polygons.append(polygon)\n",
        "                        else:\n",
        "                            print(f\"Warning: Non-numeric values in polygon for annotation {ann['id']}\")\n",
        "                    elif isinstance(seg, dict) and 'counts' in seg and 'size' in seg:\n",
        "                        # RLE format\n",
        "                        try:\n",
        "                            # Convert RLE to binary mask\n",
        "                            rle = mask_utils.frPyObjects(seg, img_height, img_width)\n",
        "                            binary_mask = mask_utils.decode(rle)\n",
        "\n",
        "                            # Find contours in the binary mask\n",
        "                            contours, _ = cv2.findContours(binary_mask, cv2.RETR_EXTERNAL, cv2.CHAIN_APPROX_SIMPLE)\n",
        "\n",
        "                            # Convert contours to normalized polygon points\n",
        "                            for contour in contours:\n",
        "                                if len(contour) >= 3:  # At least 3 points needed\n",
        "                                    polygon = []\n",
        "                                    for point in contour:\n",
        "                                        x_norm = float(point[0][0]) / img_width\n",
        "                                        y_norm = float(point[0][1]) / img_height\n",
        "                                        polygon.extend([x_norm, y_norm])\n",
        "                                    polygons.append(polygon)\n",
        "                        except Exception as e:\n",
        "                            print(f\"Error processing RLE data: {e}\")\n",
        "            elif isinstance(seg_data, dict) and 'counts' in seg_data and 'size' in seg_data:\n",
        "                # Single RLE format\n",
        "                try:\n",
        "                    # Convert RLE to binary mask\n",
        "                    rle = mask_utils.frPyObjects(seg_data, img_height, img_width)\n",
        "                    binary_mask = mask_utils.decode(rle)\n",
        "\n",
        "                    # Find contours in the binary mask\n",
        "                    contours, _ = cv2.findContours(binary_mask, cv2.RETR_EXTERNAL, cv2.CHAIN_APPROX_SIMPLE)\n",
        "\n",
        "                    # Convert contours to normalized polygon points\n",
        "                    for contour in contours:\n",
        "                        if len(contour) >= 3:  # At least 3 points needed\n",
        "                            polygon = []\n",
        "                            for point in contour:\n",
        "                                x_norm = float(point[0][0]) / img_width\n",
        "                                y_norm = float(point[0][1]) / img_height\n",
        "                                polygon.extend([x_norm, y_norm])\n",
        "                            polygons.append(polygon)\n",
        "                except Exception as e:\n",
        "                    print(f\"Error processing RLE data: {e}\")\n",
        "\n",
        "        # Format the YOLO segmentation line for each polygon\n",
        "        if polygons:\n",
        "            for polygon in polygons:\n",
        "                if len(polygon) >= 6:  # Minimum 3 points for a polygon (x1,y1,x2,y2,x3,y3)\n",
        "                    line = f\"{new_cat} {x_center:.6f} {y_center:.6f} {norm_w:.6f} {norm_h:.6f}\"\n",
        "                    for p in polygon:\n",
        "                        line += f\" {p:.6f}\"\n",
        "                    annotations_by_image[img_id].append(line)\n",
        "        else:\n",
        "            print(f\"Warning: No valid polygon data for annotation {ann['id']} in image {img_id}\")\n",
        "    except Exception as e:\n",
        "        print(f\"Error processing annotation {ann.get('id', 'unknown')}: {e}\")\n",
        "\n",
        "# Write YOLO label files for each image\n",
        "count = 0\n",
        "for img_id, ann_list in annotations_by_image.items():\n",
        "    if img_id in img_info and ann_list:  # Make sure we have info and annotations\n",
        "        file_name = img_info[img_id]['file_name']\n",
        "        base_name = os.path.splitext(file_name)[0]\n",
        "        out_file = os.path.join(output_dir, base_name + '.txt')\n",
        "\n",
        "        with open(out_file, 'w') as f:\n",
        "            for line in ann_list:\n",
        "                f.write(line + '\\n')\n",
        "        count += 1\n",
        "\n",
        "print(f\"Processed {count} images with segmentation annotations\")"
      ],
      "metadata": {
        "colab": {
          "base_uri": "https://localhost:8080/"
        },
        "id": "Lz4AwudeQIgM",
        "outputId": "c59729ba-679d-4577-f28e-bea23723430e"
      },
      "execution_count": null,
      "outputs": [
        {
          "output_type": "stream",
          "name": "stdout",
          "text": [
            "Processed 1237 images with segmentation annotations\n"
          ]
        }
      ]
    },
    {
      "cell_type": "markdown",
      "source": [
        "### Creation of Yaml file for the segmentation"
      ],
      "metadata": {
        "id": "1SyBi2_ERRgC"
      }
    },
    {
      "cell_type": "code",
      "source": [
        "import yaml\n",
        "\n",
        "# Define target directory for COCO dataset\n",
        "output_dir = '/content/extracted_files/coco2017_subset/'\n",
        "\n",
        "# Ensure the directory exists\n",
        "os.makedirs(output_dir, exist_ok=True)\n",
        "\n",
        "# COCO 2017 dataset configuration\n",
        "data = {\n",
        "    'path': output_dir,  # Base path to the dataset\n",
        "    'train': '/content/extracted_files/coco2017_subset/train2017',  # Relative path to training images\n",
        "    'val': '/content/extracted_files/coco2017_subset/val2017',  # Relative path to validation images\n",
        "    'test': '/content/extracted_files/coco2017_subset/test2017',  # Relative path to test images (optional)\n",
        "\n",
        "    'nc': 80,  # Number of classes in COCO dataset\n",
        "\n",
        "    # Official COCO 2017 class names in order\n",
        "    'names': [\n",
        "        'person', 'bicycle', 'car', 'motorcycle', 'airplane', 'bus', 'train',\n",
        "        'truck', 'boat', 'traffic light', 'fire hydrant', 'stop sign',\n",
        "        'parking meter', 'bench', 'bird', 'cat', 'dog', 'horse', 'sheep', 'cow',\n",
        "        'elephant', 'bear', 'zebra', 'giraffe', 'backpack', 'umbrella', 'handbag',\n",
        "        'tie', 'suitcase', 'frisbee', 'skis', 'snowboard', 'sports ball', 'kite',\n",
        "        'baseball bat', 'baseball glove', 'skateboard', 'surfboard', 'tennis racket',\n",
        "        'bottle', 'wine glass', 'cup', 'fork', 'knife', 'spoon', 'bowl', 'banana',\n",
        "        'apple', 'sandwich', 'orange', 'broccoli', 'carrot', 'hot dog', 'pizza',\n",
        "        'donut', 'cake', 'chair', 'couch', 'potted plant', 'bed', 'dining table',\n",
        "        'toilet', 'tv', 'laptop', 'mouse', 'remote', 'keyboard', 'cell phone',\n",
        "        'microwave', 'oven', 'toaster', 'sink', 'refrigerator', 'book', 'clock',\n",
        "        'vase', 'scissors', 'teddy bear', 'hair drier', 'toothbrush'\n",
        "    ]\n",
        "}\n",
        "\n",
        "# Path to save data.yaml\n",
        "yaml_path = os.path.join(output_dir, 'seg.yaml')\n",
        "\n",
        "# Write YAML file\n",
        "with open(yaml_path, 'w') as file:\n",
        "    yaml.dump(data, file, default_flow_style=False)\n",
        "\n",
        "print(f\"seg.yaml saved at: {yaml_path}\")"
      ],
      "metadata": {
        "colab": {
          "base_uri": "https://localhost:8080/"
        },
        "id": "nlf_Aem1Q_73",
        "outputId": "461caf68-1b37-4e65-8817-4f98f1a8f009"
      },
      "execution_count": null,
      "outputs": [
        {
          "output_type": "stream",
          "name": "stdout",
          "text": [
            "seg.yaml saved at: /content/extracted_files/coco2017_subset/seg.yaml\n"
          ]
        }
      ]
    },
    {
      "cell_type": "code",
      "source": [
        "!pip install ultralytics"
      ],
      "metadata": {
        "colab": {
          "base_uri": "https://localhost:8080/"
        },
        "id": "lkvReAvoRPQT",
        "outputId": "48d13bbc-189e-4c3c-a7e8-da9b212a93b8"
      },
      "execution_count": null,
      "outputs": [
        {
          "output_type": "stream",
          "name": "stdout",
          "text": [
            "Collecting ultralytics\n",
            "  Downloading ultralytics-8.3.98-py3-none-any.whl.metadata (37 kB)\n",
            "Requirement already satisfied: numpy<=2.1.1,>=1.23.0 in /usr/local/lib/python3.11/dist-packages (from ultralytics) (2.0.2)\n",
            "Requirement already satisfied: matplotlib>=3.3.0 in /usr/local/lib/python3.11/dist-packages (from ultralytics) (3.10.0)\n",
            "Requirement already satisfied: opencv-python>=4.6.0 in /usr/local/lib/python3.11/dist-packages (from ultralytics) (4.11.0.86)\n",
            "Requirement already satisfied: pillow>=7.1.2 in /usr/local/lib/python3.11/dist-packages (from ultralytics) (11.1.0)\n",
            "Requirement already satisfied: pyyaml>=5.3.1 in /usr/local/lib/python3.11/dist-packages (from ultralytics) (6.0.2)\n",
            "Requirement already satisfied: requests>=2.23.0 in /usr/local/lib/python3.11/dist-packages (from ultralytics) (2.32.3)\n",
            "Requirement already satisfied: scipy>=1.4.1 in /usr/local/lib/python3.11/dist-packages (from ultralytics) (1.14.1)\n",
            "Requirement already satisfied: torch>=1.8.0 in /usr/local/lib/python3.11/dist-packages (from ultralytics) (2.6.0+cu124)\n",
            "Requirement already satisfied: torchvision>=0.9.0 in /usr/local/lib/python3.11/dist-packages (from ultralytics) (0.21.0+cu124)\n",
            "Requirement already satisfied: tqdm>=4.64.0 in /usr/local/lib/python3.11/dist-packages (from ultralytics) (4.67.1)\n",
            "Requirement already satisfied: psutil in /usr/local/lib/python3.11/dist-packages (from ultralytics) (5.9.5)\n",
            "Requirement already satisfied: py-cpuinfo in /usr/local/lib/python3.11/dist-packages (from ultralytics) (9.0.0)\n",
            "Requirement already satisfied: pandas>=1.1.4 in /usr/local/lib/python3.11/dist-packages (from ultralytics) (2.2.2)\n",
            "Requirement already satisfied: seaborn>=0.11.0 in /usr/local/lib/python3.11/dist-packages (from ultralytics) (0.13.2)\n",
            "Collecting ultralytics-thop>=2.0.0 (from ultralytics)\n",
            "  Downloading ultralytics_thop-2.0.14-py3-none-any.whl.metadata (9.4 kB)\n",
            "Requirement already satisfied: contourpy>=1.0.1 in /usr/local/lib/python3.11/dist-packages (from matplotlib>=3.3.0->ultralytics) (1.3.1)\n",
            "Requirement already satisfied: cycler>=0.10 in /usr/local/lib/python3.11/dist-packages (from matplotlib>=3.3.0->ultralytics) (0.12.1)\n",
            "Requirement already satisfied: fonttools>=4.22.0 in /usr/local/lib/python3.11/dist-packages (from matplotlib>=3.3.0->ultralytics) (4.56.0)\n",
            "Requirement already satisfied: kiwisolver>=1.3.1 in /usr/local/lib/python3.11/dist-packages (from matplotlib>=3.3.0->ultralytics) (1.4.8)\n",
            "Requirement already satisfied: packaging>=20.0 in /usr/local/lib/python3.11/dist-packages (from matplotlib>=3.3.0->ultralytics) (24.2)\n",
            "Requirement already satisfied: pyparsing>=2.3.1 in /usr/local/lib/python3.11/dist-packages (from matplotlib>=3.3.0->ultralytics) (3.2.1)\n",
            "Requirement already satisfied: python-dateutil>=2.7 in /usr/local/lib/python3.11/dist-packages (from matplotlib>=3.3.0->ultralytics) (2.8.2)\n",
            "Requirement already satisfied: pytz>=2020.1 in /usr/local/lib/python3.11/dist-packages (from pandas>=1.1.4->ultralytics) (2025.1)\n",
            "Requirement already satisfied: tzdata>=2022.7 in /usr/local/lib/python3.11/dist-packages (from pandas>=1.1.4->ultralytics) (2025.1)\n",
            "Requirement already satisfied: charset-normalizer<4,>=2 in /usr/local/lib/python3.11/dist-packages (from requests>=2.23.0->ultralytics) (3.4.1)\n",
            "Requirement already satisfied: idna<4,>=2.5 in /usr/local/lib/python3.11/dist-packages (from requests>=2.23.0->ultralytics) (3.10)\n",
            "Requirement already satisfied: urllib3<3,>=1.21.1 in /usr/local/lib/python3.11/dist-packages (from requests>=2.23.0->ultralytics) (2.3.0)\n",
            "Requirement already satisfied: certifi>=2017.4.17 in /usr/local/lib/python3.11/dist-packages (from requests>=2.23.0->ultralytics) (2025.1.31)\n",
            "Requirement already satisfied: filelock in /usr/local/lib/python3.11/dist-packages (from torch>=1.8.0->ultralytics) (3.18.0)\n",
            "Requirement already satisfied: typing-extensions>=4.10.0 in /usr/local/lib/python3.11/dist-packages (from torch>=1.8.0->ultralytics) (4.12.2)\n",
            "Requirement already satisfied: networkx in /usr/local/lib/python3.11/dist-packages (from torch>=1.8.0->ultralytics) (3.4.2)\n",
            "Requirement already satisfied: jinja2 in /usr/local/lib/python3.11/dist-packages (from torch>=1.8.0->ultralytics) (3.1.6)\n",
            "Requirement already satisfied: fsspec in /usr/local/lib/python3.11/dist-packages (from torch>=1.8.0->ultralytics) (2025.3.0)\n",
            "Collecting nvidia-cuda-nvrtc-cu12==12.4.127 (from torch>=1.8.0->ultralytics)\n",
            "  Downloading nvidia_cuda_nvrtc_cu12-12.4.127-py3-none-manylinux2014_x86_64.whl.metadata (1.5 kB)\n",
            "Collecting nvidia-cuda-runtime-cu12==12.4.127 (from torch>=1.8.0->ultralytics)\n",
            "  Downloading nvidia_cuda_runtime_cu12-12.4.127-py3-none-manylinux2014_x86_64.whl.metadata (1.5 kB)\n",
            "Collecting nvidia-cuda-cupti-cu12==12.4.127 (from torch>=1.8.0->ultralytics)\n",
            "  Downloading nvidia_cuda_cupti_cu12-12.4.127-py3-none-manylinux2014_x86_64.whl.metadata (1.6 kB)\n",
            "Collecting nvidia-cudnn-cu12==9.1.0.70 (from torch>=1.8.0->ultralytics)\n",
            "  Downloading nvidia_cudnn_cu12-9.1.0.70-py3-none-manylinux2014_x86_64.whl.metadata (1.6 kB)\n",
            "Collecting nvidia-cublas-cu12==12.4.5.8 (from torch>=1.8.0->ultralytics)\n",
            "  Downloading nvidia_cublas_cu12-12.4.5.8-py3-none-manylinux2014_x86_64.whl.metadata (1.5 kB)\n",
            "Collecting nvidia-cufft-cu12==11.2.1.3 (from torch>=1.8.0->ultralytics)\n",
            "  Downloading nvidia_cufft_cu12-11.2.1.3-py3-none-manylinux2014_x86_64.whl.metadata (1.5 kB)\n",
            "Collecting nvidia-curand-cu12==10.3.5.147 (from torch>=1.8.0->ultralytics)\n",
            "  Downloading nvidia_curand_cu12-10.3.5.147-py3-none-manylinux2014_x86_64.whl.metadata (1.5 kB)\n",
            "Collecting nvidia-cusolver-cu12==11.6.1.9 (from torch>=1.8.0->ultralytics)\n",
            "  Downloading nvidia_cusolver_cu12-11.6.1.9-py3-none-manylinux2014_x86_64.whl.metadata (1.6 kB)\n",
            "Collecting nvidia-cusparse-cu12==12.3.1.170 (from torch>=1.8.0->ultralytics)\n",
            "  Downloading nvidia_cusparse_cu12-12.3.1.170-py3-none-manylinux2014_x86_64.whl.metadata (1.6 kB)\n",
            "Requirement already satisfied: nvidia-cusparselt-cu12==0.6.2 in /usr/local/lib/python3.11/dist-packages (from torch>=1.8.0->ultralytics) (0.6.2)\n",
            "Requirement already satisfied: nvidia-nccl-cu12==2.21.5 in /usr/local/lib/python3.11/dist-packages (from torch>=1.8.0->ultralytics) (2.21.5)\n",
            "Requirement already satisfied: nvidia-nvtx-cu12==12.4.127 in /usr/local/lib/python3.11/dist-packages (from torch>=1.8.0->ultralytics) (12.4.127)\n",
            "Collecting nvidia-nvjitlink-cu12==12.4.127 (from torch>=1.8.0->ultralytics)\n",
            "  Downloading nvidia_nvjitlink_cu12-12.4.127-py3-none-manylinux2014_x86_64.whl.metadata (1.5 kB)\n",
            "Requirement already satisfied: triton==3.2.0 in /usr/local/lib/python3.11/dist-packages (from torch>=1.8.0->ultralytics) (3.2.0)\n",
            "Requirement already satisfied: sympy==1.13.1 in /usr/local/lib/python3.11/dist-packages (from torch>=1.8.0->ultralytics) (1.13.1)\n",
            "Requirement already satisfied: mpmath<1.4,>=1.1.0 in /usr/local/lib/python3.11/dist-packages (from sympy==1.13.1->torch>=1.8.0->ultralytics) (1.3.0)\n",
            "Requirement already satisfied: six>=1.5 in /usr/local/lib/python3.11/dist-packages (from python-dateutil>=2.7->matplotlib>=3.3.0->ultralytics) (1.17.0)\n",
            "Requirement already satisfied: MarkupSafe>=2.0 in /usr/local/lib/python3.11/dist-packages (from jinja2->torch>=1.8.0->ultralytics) (3.0.2)\n",
            "Downloading ultralytics-8.3.98-py3-none-any.whl (949 kB)\n",
            "\u001b[2K   \u001b[90m━━━━━━━━━━━━━━━━━━━━━━━━━━━━━━━━━━━━━━━━\u001b[0m \u001b[32m950.0/950.0 kB\u001b[0m \u001b[31m30.1 MB/s\u001b[0m eta \u001b[36m0:00:00\u001b[0m\n",
            "\u001b[?25hDownloading nvidia_cublas_cu12-12.4.5.8-py3-none-manylinux2014_x86_64.whl (363.4 MB)\n",
            "\u001b[2K   \u001b[90m━━━━━━━━━━━━━━━━━━━━━━━━━━━━━━━━━━━━━━━━\u001b[0m \u001b[32m363.4/363.4 MB\u001b[0m \u001b[31m4.1 MB/s\u001b[0m eta \u001b[36m0:00:00\u001b[0m\n",
            "\u001b[?25hDownloading nvidia_cuda_cupti_cu12-12.4.127-py3-none-manylinux2014_x86_64.whl (13.8 MB)\n",
            "\u001b[2K   \u001b[90m━━━━━━━━━━━━━━━━━━━━━━━━━━━━━━━━━━━━━━━━\u001b[0m \u001b[32m13.8/13.8 MB\u001b[0m \u001b[31m65.5 MB/s\u001b[0m eta \u001b[36m0:00:00\u001b[0m\n",
            "\u001b[?25hDownloading nvidia_cuda_nvrtc_cu12-12.4.127-py3-none-manylinux2014_x86_64.whl (24.6 MB)\n",
            "\u001b[2K   \u001b[90m━━━━━━━━━━━━━━━━━━━━━━━━━━━━━━━━━━━━━━━━\u001b[0m \u001b[32m24.6/24.6 MB\u001b[0m \u001b[31m35.0 MB/s\u001b[0m eta \u001b[36m0:00:00\u001b[0m\n",
            "\u001b[?25hDownloading nvidia_cuda_runtime_cu12-12.4.127-py3-none-manylinux2014_x86_64.whl (883 kB)\n",
            "\u001b[2K   \u001b[90m━━━━━━━━━━━━━━━━━━━━━━━━━━━━━━━━━━━━━━━━\u001b[0m \u001b[32m883.7/883.7 kB\u001b[0m \u001b[31m45.5 MB/s\u001b[0m eta \u001b[36m0:00:00\u001b[0m\n",
            "\u001b[?25hDownloading nvidia_cudnn_cu12-9.1.0.70-py3-none-manylinux2014_x86_64.whl (664.8 MB)\n",
            "\u001b[2K   \u001b[90m━━━━━━━━━━━━━━━━━━━━━━━━━━━━━━━━━━━━━━━━\u001b[0m \u001b[32m664.8/664.8 MB\u001b[0m \u001b[31m1.4 MB/s\u001b[0m eta \u001b[36m0:00:00\u001b[0m\n",
            "\u001b[?25hDownloading nvidia_cufft_cu12-11.2.1.3-py3-none-manylinux2014_x86_64.whl (211.5 MB)\n",
            "\u001b[2K   \u001b[90m━━━━━━━━━━━━━━━━━━━━━━━━━━━━━━━━━━━━━━━━\u001b[0m \u001b[32m211.5/211.5 MB\u001b[0m \u001b[31m5.7 MB/s\u001b[0m eta \u001b[36m0:00:00\u001b[0m\n",
            "\u001b[?25hDownloading nvidia_curand_cu12-10.3.5.147-py3-none-manylinux2014_x86_64.whl (56.3 MB)\n",
            "\u001b[2K   \u001b[90m━━━━━━━━━━━━━━━━━━━━━━━━━━━━━━━━━━━━━━━━\u001b[0m \u001b[32m56.3/56.3 MB\u001b[0m \u001b[31m16.0 MB/s\u001b[0m eta \u001b[36m0:00:00\u001b[0m\n",
            "\u001b[?25hDownloading nvidia_cusolver_cu12-11.6.1.9-py3-none-manylinux2014_x86_64.whl (127.9 MB)\n",
            "\u001b[2K   \u001b[90m━━━━━━━━━━━━━━━━━━━━━━━━━━━━━━━━━━━━━━━━\u001b[0m \u001b[32m127.9/127.9 MB\u001b[0m \u001b[31m7.9 MB/s\u001b[0m eta \u001b[36m0:00:00\u001b[0m\n",
            "\u001b[?25hDownloading nvidia_cusparse_cu12-12.3.1.170-py3-none-manylinux2014_x86_64.whl (207.5 MB)\n",
            "\u001b[2K   \u001b[90m━━━━━━━━━━━━━━━━━━━━━━━━━━━━━━━━━━━━━━━━\u001b[0m \u001b[32m207.5/207.5 MB\u001b[0m \u001b[31m6.1 MB/s\u001b[0m eta \u001b[36m0:00:00\u001b[0m\n",
            "\u001b[?25hDownloading nvidia_nvjitlink_cu12-12.4.127-py3-none-manylinux2014_x86_64.whl (21.1 MB)\n",
            "\u001b[2K   \u001b[90m━━━━━━━━━━━━━━━━━━━━━━━━━━━━━━━━━━━━━━━━\u001b[0m \u001b[32m21.1/21.1 MB\u001b[0m \u001b[31m84.2 MB/s\u001b[0m eta \u001b[36m0:00:00\u001b[0m\n",
            "\u001b[?25hDownloading ultralytics_thop-2.0.14-py3-none-any.whl (26 kB)\n",
            "Installing collected packages: nvidia-nvjitlink-cu12, nvidia-curand-cu12, nvidia-cufft-cu12, nvidia-cuda-runtime-cu12, nvidia-cuda-nvrtc-cu12, nvidia-cuda-cupti-cu12, nvidia-cublas-cu12, nvidia-cusparse-cu12, nvidia-cudnn-cu12, nvidia-cusolver-cu12, ultralytics-thop, ultralytics\n",
            "  Attempting uninstall: nvidia-nvjitlink-cu12\n",
            "    Found existing installation: nvidia-nvjitlink-cu12 12.5.82\n",
            "    Uninstalling nvidia-nvjitlink-cu12-12.5.82:\n",
            "      Successfully uninstalled nvidia-nvjitlink-cu12-12.5.82\n",
            "  Attempting uninstall: nvidia-curand-cu12\n",
            "    Found existing installation: nvidia-curand-cu12 10.3.6.82\n",
            "    Uninstalling nvidia-curand-cu12-10.3.6.82:\n",
            "      Successfully uninstalled nvidia-curand-cu12-10.3.6.82\n",
            "  Attempting uninstall: nvidia-cufft-cu12\n",
            "    Found existing installation: nvidia-cufft-cu12 11.2.3.61\n",
            "    Uninstalling nvidia-cufft-cu12-11.2.3.61:\n",
            "      Successfully uninstalled nvidia-cufft-cu12-11.2.3.61\n",
            "  Attempting uninstall: nvidia-cuda-runtime-cu12\n",
            "    Found existing installation: nvidia-cuda-runtime-cu12 12.5.82\n",
            "    Uninstalling nvidia-cuda-runtime-cu12-12.5.82:\n",
            "      Successfully uninstalled nvidia-cuda-runtime-cu12-12.5.82\n",
            "  Attempting uninstall: nvidia-cuda-nvrtc-cu12\n",
            "    Found existing installation: nvidia-cuda-nvrtc-cu12 12.5.82\n",
            "    Uninstalling nvidia-cuda-nvrtc-cu12-12.5.82:\n",
            "      Successfully uninstalled nvidia-cuda-nvrtc-cu12-12.5.82\n",
            "  Attempting uninstall: nvidia-cuda-cupti-cu12\n",
            "    Found existing installation: nvidia-cuda-cupti-cu12 12.5.82\n",
            "    Uninstalling nvidia-cuda-cupti-cu12-12.5.82:\n",
            "      Successfully uninstalled nvidia-cuda-cupti-cu12-12.5.82\n",
            "  Attempting uninstall: nvidia-cublas-cu12\n",
            "    Found existing installation: nvidia-cublas-cu12 12.5.3.2\n",
            "    Uninstalling nvidia-cublas-cu12-12.5.3.2:\n",
            "      Successfully uninstalled nvidia-cublas-cu12-12.5.3.2\n",
            "  Attempting uninstall: nvidia-cusparse-cu12\n",
            "    Found existing installation: nvidia-cusparse-cu12 12.5.1.3\n",
            "    Uninstalling nvidia-cusparse-cu12-12.5.1.3:\n",
            "      Successfully uninstalled nvidia-cusparse-cu12-12.5.1.3\n",
            "  Attempting uninstall: nvidia-cudnn-cu12\n",
            "    Found existing installation: nvidia-cudnn-cu12 9.3.0.75\n",
            "    Uninstalling nvidia-cudnn-cu12-9.3.0.75:\n",
            "      Successfully uninstalled nvidia-cudnn-cu12-9.3.0.75\n",
            "  Attempting uninstall: nvidia-cusolver-cu12\n",
            "    Found existing installation: nvidia-cusolver-cu12 11.6.3.83\n",
            "    Uninstalling nvidia-cusolver-cu12-11.6.3.83:\n",
            "      Successfully uninstalled nvidia-cusolver-cu12-11.6.3.83\n",
            "Successfully installed nvidia-cublas-cu12-12.4.5.8 nvidia-cuda-cupti-cu12-12.4.127 nvidia-cuda-nvrtc-cu12-12.4.127 nvidia-cuda-runtime-cu12-12.4.127 nvidia-cudnn-cu12-9.1.0.70 nvidia-cufft-cu12-11.2.1.3 nvidia-curand-cu12-10.3.5.147 nvidia-cusolver-cu12-11.6.1.9 nvidia-cusparse-cu12-12.3.1.170 nvidia-nvjitlink-cu12-12.4.127 ultralytics-8.3.98 ultralytics-thop-2.0.14\n"
          ]
        }
      ]
    },
    {
      "cell_type": "code",
      "source": [
        "from ultralytics import YOLO"
      ],
      "metadata": {
        "id": "DWOGuBGvRjxf"
      },
      "execution_count": null,
      "outputs": []
    },
    {
      "cell_type": "code",
      "source": [
        "import torch\n",
        "print(torch.cuda.is_available())\n",
        "print(torch.version.cuda)"
      ],
      "metadata": {
        "colab": {
          "base_uri": "https://localhost:8080/"
        },
        "id": "YPA5uZwKRppl",
        "outputId": "50cd2a70-1b9f-4d5c-e82b-1010820caa59"
      },
      "execution_count": null,
      "outputs": [
        {
          "output_type": "stream",
          "name": "stdout",
          "text": [
            "True\n",
            "12.4\n"
          ]
        }
      ]
    },
    {
      "cell_type": "code",
      "source": [
        "model = YOLO(\"yolo11n-seg.pt\")"
      ],
      "metadata": {
        "id": "rk7Vx4yTSD2t"
      },
      "execution_count": null,
      "outputs": []
    },
    {
      "cell_type": "code",
      "source": [
        "data_yaml='/content/extracted_files/coco2017_subset/seg.yaml'\n",
        "epochs=3\n",
        "img_size=640\n",
        "batch_size=2"
      ],
      "metadata": {
        "id": "Fsk14_U3SXUB"
      },
      "execution_count": null,
      "outputs": []
    },
    {
      "cell_type": "markdown",
      "source": [
        "## Training the model  for segmentation"
      ],
      "metadata": {
        "id": "hiKvVL194k_u"
      }
    },
    {
      "cell_type": "code",
      "source": [
        "print(\"Starting Yolo Training\")\n",
        "# Change device to 'cpu' if cuda is unavailable\n",
        "res = model.train(data=data_yaml, epochs=epochs, imgsz=img_size, batch=batch_size, device=0)\n",
        "print(\"Training completed\")"
      ],
      "metadata": {
        "colab": {
          "base_uri": "https://localhost:8080/"
        },
        "id": "d0Gr68KuSZ2p",
        "outputId": "d21f0c7a-1c1a-4de4-db2e-262b45152551"
      },
      "execution_count": null,
      "outputs": [
        {
          "output_type": "stream",
          "name": "stdout",
          "text": [
            "Starting Yolo Training\n",
            "Ultralytics 8.3.98 🚀 Python-3.11.11 torch-2.6.0+cu124 CUDA:0 (Tesla T4, 15095MiB)\n",
            "\u001b[34m\u001b[1mengine/trainer: \u001b[0mtask=segment, mode=train, model=yolo11n-seg.pt, data=/content/extracted_files/coco2017_subset/seg.yaml, epochs=3, time=None, patience=100, batch=2, imgsz=640, save=True, save_period=-1, cache=False, device=0, workers=8, project=None, name=train2, exist_ok=False, pretrained=True, optimizer=auto, verbose=True, seed=0, deterministic=True, single_cls=False, rect=False, cos_lr=False, close_mosaic=10, resume=False, amp=True, fraction=1.0, profile=False, freeze=None, multi_scale=False, overlap_mask=True, mask_ratio=4, dropout=0.0, val=True, split=val, save_json=False, save_hybrid=False, conf=None, iou=0.7, max_det=300, half=False, dnn=False, plots=True, source=None, vid_stride=1, stream_buffer=False, visualize=False, augment=False, agnostic_nms=False, classes=None, retina_masks=False, embed=None, show=False, save_frames=False, save_txt=False, save_conf=False, save_crop=False, show_labels=True, show_conf=True, show_boxes=True, line_width=None, format=torchscript, keras=False, optimize=False, int8=False, dynamic=False, simplify=True, opset=None, workspace=None, nms=False, lr0=0.01, lrf=0.01, momentum=0.937, weight_decay=0.0005, warmup_epochs=3.0, warmup_momentum=0.8, warmup_bias_lr=0.1, box=7.5, cls=0.5, dfl=1.5, pose=12.0, kobj=1.0, nbs=64, hsv_h=0.015, hsv_s=0.7, hsv_v=0.4, degrees=0.0, translate=0.1, scale=0.5, shear=0.0, perspective=0.0, flipud=0.0, fliplr=0.5, bgr=0.0, mosaic=1.0, mixup=0.0, copy_paste=0.0, copy_paste_mode=flip, auto_augment=randaugment, erasing=0.4, crop_fraction=1.0, cfg=None, tracker=botsort.yaml, save_dir=runs/segment/train2\n",
            "\n",
            "                   from  n    params  module                                       arguments                     \n",
            "  0                  -1  1       464  ultralytics.nn.modules.conv.Conv             [3, 16, 3, 2]                 \n",
            "  1                  -1  1      4672  ultralytics.nn.modules.conv.Conv             [16, 32, 3, 2]                \n",
            "  2                  -1  1      6640  ultralytics.nn.modules.block.C3k2            [32, 64, 1, False, 0.25]      \n",
            "  3                  -1  1     36992  ultralytics.nn.modules.conv.Conv             [64, 64, 3, 2]                \n",
            "  4                  -1  1     26080  ultralytics.nn.modules.block.C3k2            [64, 128, 1, False, 0.25]     \n",
            "  5                  -1  1    147712  ultralytics.nn.modules.conv.Conv             [128, 128, 3, 2]              \n",
            "  6                  -1  1     87040  ultralytics.nn.modules.block.C3k2            [128, 128, 1, True]           \n",
            "  7                  -1  1    295424  ultralytics.nn.modules.conv.Conv             [128, 256, 3, 2]              \n",
            "  8                  -1  1    346112  ultralytics.nn.modules.block.C3k2            [256, 256, 1, True]           \n",
            "  9                  -1  1    164608  ultralytics.nn.modules.block.SPPF            [256, 256, 5]                 \n",
            " 10                  -1  1    249728  ultralytics.nn.modules.block.C2PSA           [256, 256, 1]                 \n",
            " 11                  -1  1         0  torch.nn.modules.upsampling.Upsample         [None, 2, 'nearest']          \n",
            " 12             [-1, 6]  1         0  ultralytics.nn.modules.conv.Concat           [1]                           \n",
            " 13                  -1  1    111296  ultralytics.nn.modules.block.C3k2            [384, 128, 1, False]          \n",
            " 14                  -1  1         0  torch.nn.modules.upsampling.Upsample         [None, 2, 'nearest']          \n",
            " 15             [-1, 4]  1         0  ultralytics.nn.modules.conv.Concat           [1]                           \n",
            " 16                  -1  1     32096  ultralytics.nn.modules.block.C3k2            [256, 64, 1, False]           \n",
            " 17                  -1  1     36992  ultralytics.nn.modules.conv.Conv             [64, 64, 3, 2]                \n",
            " 18            [-1, 13]  1         0  ultralytics.nn.modules.conv.Concat           [1]                           \n",
            " 19                  -1  1     86720  ultralytics.nn.modules.block.C3k2            [192, 128, 1, False]          \n",
            " 20                  -1  1    147712  ultralytics.nn.modules.conv.Conv             [128, 128, 3, 2]              \n",
            " 21            [-1, 10]  1         0  ultralytics.nn.modules.conv.Concat           [1]                           \n",
            " 22                  -1  1    378880  ultralytics.nn.modules.block.C3k2            [384, 256, 1, True]           \n",
            " 23        [16, 19, 22]  1    717680  ultralytics.nn.modules.head.Segment          [80, 32, 64, [64, 128, 256]]  \n",
            "YOLO11n-seg summary: 203 layers, 2,876,848 parameters, 2,876,832 gradients, 10.5 GFLOPs\n",
            "\n",
            "Transferred 561/561 items from pretrained weights\n",
            "\u001b[34m\u001b[1mTensorBoard: \u001b[0mStart with 'tensorboard --logdir runs/segment/train2', view at http://localhost:6006/\n",
            "Freezing layer 'model.23.dfl.conv.weight'\n",
            "\u001b[34m\u001b[1mAMP: \u001b[0mrunning Automatic Mixed Precision (AMP) checks...\n",
            "\u001b[34m\u001b[1mAMP: \u001b[0mchecks passed ✅\n"
          ]
        },
        {
          "output_type": "stream",
          "name": "stderr",
          "text": [
            "\u001b[34m\u001b[1mtrain: \u001b[0mScanning /content/extracted_files/coco2017_subset/train2017... 29315 images, 256 backgrounds, 0 corrupt: 100%|██████████| 29571/29571 [01:22<00:00, 360.56it/s]"
          ]
        },
        {
          "output_type": "stream",
          "name": "stdout",
          "text": [
            "\u001b[34m\u001b[1mtrain: \u001b[0mWARNING ⚠️ /content/extracted_files/coco2017_subset/train2017/000000000315.jpg: 2 duplicate labels removed\n",
            "\u001b[34m\u001b[1mtrain: \u001b[0mWARNING ⚠️ /content/extracted_files/coco2017_subset/train2017/000000000540.jpg: 2 duplicate labels removed\n",
            "\u001b[34m\u001b[1mtrain: \u001b[0mWARNING ⚠️ /content/extracted_files/coco2017_subset/train2017/000000001941.jpg: 2 duplicate labels removed\n",
            "\u001b[34m\u001b[1mtrain: \u001b[0mWARNING ⚠️ /content/extracted_files/coco2017_subset/train2017/000000002184.jpg: 1 duplicate labels removed\n",
            "\u001b[34m\u001b[1mtrain: \u001b[0mWARNING ⚠️ /content/extracted_files/coco2017_subset/train2017/000000002697.jpg: 1 duplicate labels removed\n",
            "\u001b[34m\u001b[1mtrain: \u001b[0mWARNING ⚠️ /content/extracted_files/coco2017_subset/train2017/000000003378.jpg: 3 duplicate labels removed\n",
            "\u001b[34m\u001b[1mtrain: \u001b[0mWARNING ⚠️ /content/extracted_files/coco2017_subset/train2017/000000004592.jpg: 4 duplicate labels removed\n",
            "\u001b[34m\u001b[1mtrain: \u001b[0mWARNING ⚠️ /content/extracted_files/coco2017_subset/train2017/000000005376.jpg: 3 duplicate labels removed\n",
            "\u001b[34m\u001b[1mtrain: \u001b[0mWARNING ⚠️ /content/extracted_files/coco2017_subset/train2017/000000005688.jpg: 1 duplicate labels removed\n",
            "\u001b[34m\u001b[1mtrain: \u001b[0mWARNING ⚠️ /content/extracted_files/coco2017_subset/train2017/000000006602.jpg: 4 duplicate labels removed\n",
            "\u001b[34m\u001b[1mtrain: \u001b[0mWARNING ⚠️ /content/extracted_files/coco2017_subset/train2017/000000007556.jpg: 2 duplicate labels removed\n",
            "\u001b[34m\u001b[1mtrain: \u001b[0mWARNING ⚠️ /content/extracted_files/coco2017_subset/train2017/000000008589.jpg: 1 duplicate labels removed\n",
            "\u001b[34m\u001b[1mtrain: \u001b[0mWARNING ⚠️ /content/extracted_files/coco2017_subset/train2017/000000010216.jpg: 3 duplicate labels removed\n",
            "\u001b[34m\u001b[1mtrain: \u001b[0mWARNING ⚠️ /content/extracted_files/coco2017_subset/train2017/000000010318.jpg: 2 duplicate labels removed\n",
            "\u001b[34m\u001b[1mtrain: \u001b[0mWARNING ⚠️ /content/extracted_files/coco2017_subset/train2017/000000011697.jpg: 1 duplicate labels removed\n",
            "\u001b[34m\u001b[1mtrain: \u001b[0mWARNING ⚠️ /content/extracted_files/coco2017_subset/train2017/000000012497.jpg: 2 duplicate labels removed\n",
            "\u001b[34m\u001b[1mtrain: \u001b[0mWARNING ⚠️ /content/extracted_files/coco2017_subset/train2017/000000014873.jpg: 1 duplicate labels removed\n",
            "\u001b[34m\u001b[1mtrain: \u001b[0mWARNING ⚠️ /content/extracted_files/coco2017_subset/train2017/000000016076.jpg: 2 duplicate labels removed\n",
            "\u001b[34m\u001b[1mtrain: \u001b[0mWARNING ⚠️ /content/extracted_files/coco2017_subset/train2017/000000016556.jpg: 4 duplicate labels removed\n",
            "\u001b[34m\u001b[1mtrain: \u001b[0mWARNING ⚠️ /content/extracted_files/coco2017_subset/train2017/000000017392.jpg: 14 duplicate labels removed\n",
            "\u001b[34m\u001b[1mtrain: \u001b[0mWARNING ⚠️ /content/extracted_files/coco2017_subset/train2017/000000017534.jpg: 1 duplicate labels removed\n",
            "\u001b[34m\u001b[1mtrain: \u001b[0mWARNING ⚠️ /content/extracted_files/coco2017_subset/train2017/000000017975.jpg: 1 duplicate labels removed\n",
            "\u001b[34m\u001b[1mtrain: \u001b[0mWARNING ⚠️ /content/extracted_files/coco2017_subset/train2017/000000018022.jpg: 3 duplicate labels removed\n",
            "\u001b[34m\u001b[1mtrain: \u001b[0mWARNING ⚠️ /content/extracted_files/coco2017_subset/train2017/000000018375.jpg: 1 duplicate labels removed\n",
            "\u001b[34m\u001b[1mtrain: \u001b[0mWARNING ⚠️ /content/extracted_files/coco2017_subset/train2017/000000019247.jpg: 1 duplicate labels removed\n",
            "\u001b[34m\u001b[1mtrain: \u001b[0mWARNING ⚠️ /content/extracted_files/coco2017_subset/train2017/000000020184.jpg: 1 duplicate labels removed\n",
            "\u001b[34m\u001b[1mtrain: \u001b[0mWARNING ⚠️ /content/extracted_files/coco2017_subset/train2017/000000023258.jpg: 1 duplicate labels removed\n",
            "\u001b[34m\u001b[1mtrain: \u001b[0mWARNING ⚠️ /content/extracted_files/coco2017_subset/train2017/000000024782.jpg: 1 duplicate labels removed\n",
            "\u001b[34m\u001b[1mtrain: \u001b[0mWARNING ⚠️ /content/extracted_files/coco2017_subset/train2017/000000024972.jpg: 3 duplicate labels removed\n",
            "\u001b[34m\u001b[1mtrain: \u001b[0mWARNING ⚠️ /content/extracted_files/coco2017_subset/train2017/000000025955.jpg: 3 duplicate labels removed\n",
            "\u001b[34m\u001b[1mtrain: \u001b[0mWARNING ⚠️ /content/extracted_files/coco2017_subset/train2017/000000030109.jpg: 1 duplicate labels removed\n",
            "\u001b[34m\u001b[1mtrain: \u001b[0mWARNING ⚠️ /content/extracted_files/coco2017_subset/train2017/000000030677.jpg: 2 duplicate labels removed\n",
            "\u001b[34m\u001b[1mtrain: \u001b[0mWARNING ⚠️ /content/extracted_files/coco2017_subset/train2017/000000030888.jpg: 1 duplicate labels removed\n",
            "\u001b[34m\u001b[1mtrain: \u001b[0mWARNING ⚠️ /content/extracted_files/coco2017_subset/train2017/000000031736.jpg: 3 duplicate labels removed\n",
            "\u001b[34m\u001b[1mtrain: \u001b[0mWARNING ⚠️ /content/extracted_files/coco2017_subset/train2017/000000032801.jpg: 1 duplicate labels removed\n",
            "\u001b[34m\u001b[1mtrain: \u001b[0mWARNING ⚠️ /content/extracted_files/coco2017_subset/train2017/000000034430.jpg: 1 duplicate labels removed\n",
            "\u001b[34m\u001b[1mtrain: \u001b[0mWARNING ⚠️ /content/extracted_files/coco2017_subset/train2017/000000036281.jpg: 1 duplicate labels removed\n",
            "\u001b[34m\u001b[1mtrain: \u001b[0mWARNING ⚠️ /content/extracted_files/coco2017_subset/train2017/000000037327.jpg: 1 duplicate labels removed\n",
            "\u001b[34m\u001b[1mtrain: \u001b[0mWARNING ⚠️ /content/extracted_files/coco2017_subset/train2017/000000038572.jpg: 1 duplicate labels removed\n",
            "\u001b[34m\u001b[1mtrain: \u001b[0mWARNING ⚠️ /content/extracted_files/coco2017_subset/train2017/000000038923.jpg: 2 duplicate labels removed\n",
            "\u001b[34m\u001b[1mtrain: \u001b[0mWARNING ⚠️ /content/extracted_files/coco2017_subset/train2017/000000042165.jpg: 2 duplicate labels removed\n",
            "\u001b[34m\u001b[1mtrain: \u001b[0mWARNING ⚠️ /content/extracted_files/coco2017_subset/train2017/000000044831.jpg: 1 duplicate labels removed\n",
            "\u001b[34m\u001b[1mtrain: \u001b[0mWARNING ⚠️ /content/extracted_files/coco2017_subset/train2017/000000046329.jpg: 3 duplicate labels removed\n",
            "\u001b[34m\u001b[1mtrain: \u001b[0mWARNING ⚠️ /content/extracted_files/coco2017_subset/train2017/000000047387.jpg: 1 duplicate labels removed\n",
            "\u001b[34m\u001b[1mtrain: \u001b[0mWARNING ⚠️ /content/extracted_files/coco2017_subset/train2017/000000047916.jpg: 1 duplicate labels removed\n",
            "\u001b[34m\u001b[1mtrain: \u001b[0mWARNING ⚠️ /content/extracted_files/coco2017_subset/train2017/000000048133.jpg: 1 duplicate labels removed\n",
            "\u001b[34m\u001b[1mtrain: \u001b[0mWARNING ⚠️ /content/extracted_files/coco2017_subset/train2017/000000050056.jpg: 1 duplicate labels removed\n",
            "\u001b[34m\u001b[1mtrain: \u001b[0mWARNING ⚠️ /content/extracted_files/coco2017_subset/train2017/000000050686.jpg: 4 duplicate labels removed\n",
            "\u001b[34m\u001b[1mtrain: \u001b[0mWARNING ⚠️ /content/extracted_files/coco2017_subset/train2017/000000051302.jpg: 3 duplicate labels removed\n",
            "\u001b[34m\u001b[1mtrain: \u001b[0mWARNING ⚠️ /content/extracted_files/coco2017_subset/train2017/000000051396.jpg: 2 duplicate labels removed\n",
            "\u001b[34m\u001b[1mtrain: \u001b[0mWARNING ⚠️ /content/extracted_files/coco2017_subset/train2017/000000051563.jpg: 1 duplicate labels removed\n",
            "\u001b[34m\u001b[1mtrain: \u001b[0mWARNING ⚠️ /content/extracted_files/coco2017_subset/train2017/000000053672.jpg: 5 duplicate labels removed\n",
            "\u001b[34m\u001b[1mtrain: \u001b[0mWARNING ⚠️ /content/extracted_files/coco2017_subset/train2017/000000053939.jpg: 1 duplicate labels removed\n",
            "\u001b[34m\u001b[1mtrain: \u001b[0mWARNING ⚠️ /content/extracted_files/coco2017_subset/train2017/000000056664.jpg: 3 duplicate labels removed\n",
            "\u001b[34m\u001b[1mtrain: \u001b[0mWARNING ⚠️ /content/extracted_files/coco2017_subset/train2017/000000057641.jpg: 1 duplicate labels removed\n",
            "\u001b[34m\u001b[1mtrain: \u001b[0mWARNING ⚠️ /content/extracted_files/coco2017_subset/train2017/000000058134.jpg: 1 duplicate labels removed\n",
            "\u001b[34m\u001b[1mtrain: \u001b[0mWARNING ⚠️ /content/extracted_files/coco2017_subset/train2017/000000061507.jpg: 2 duplicate labels removed\n",
            "\u001b[34m\u001b[1mtrain: \u001b[0mWARNING ⚠️ /content/extracted_files/coco2017_subset/train2017/000000062689.jpg: 1 duplicate labels removed\n",
            "\u001b[34m\u001b[1mtrain: \u001b[0mWARNING ⚠️ /content/extracted_files/coco2017_subset/train2017/000000064189.jpg: 1 duplicate labels removed\n",
            "\u001b[34m\u001b[1mtrain: \u001b[0mWARNING ⚠️ /content/extracted_files/coco2017_subset/train2017/000000064612.jpg: 1 duplicate labels removed\n",
            "\u001b[34m\u001b[1mtrain: \u001b[0mWARNING ⚠️ /content/extracted_files/coco2017_subset/train2017/000000066825.jpg: 4 duplicate labels removed\n",
            "\u001b[34m\u001b[1mtrain: \u001b[0mWARNING ⚠️ /content/extracted_files/coco2017_subset/train2017/000000067320.jpg: 1 duplicate labels removed\n",
            "\u001b[34m\u001b[1mtrain: \u001b[0mWARNING ⚠️ /content/extracted_files/coco2017_subset/train2017/000000072354.jpg: 1 duplicate labels removed\n",
            "\u001b[34m\u001b[1mtrain: \u001b[0mWARNING ⚠️ /content/extracted_files/coco2017_subset/train2017/000000072889.jpg: 4 duplicate labels removed\n",
            "\u001b[34m\u001b[1mtrain: \u001b[0mWARNING ⚠️ /content/extracted_files/coco2017_subset/train2017/000000074407.jpg: 1 duplicate labels removed\n",
            "\u001b[34m\u001b[1mtrain: \u001b[0mWARNING ⚠️ /content/extracted_files/coco2017_subset/train2017/000000079084.jpg: 2 duplicate labels removed\n",
            "\u001b[34m\u001b[1mtrain: \u001b[0mWARNING ⚠️ /content/extracted_files/coco2017_subset/train2017/000000079212.jpg: 1 duplicate labels removed\n",
            "\u001b[34m\u001b[1mtrain: \u001b[0mWARNING ⚠️ /content/extracted_files/coco2017_subset/train2017/000000081248.jpg: 1 duplicate labels removed\n",
            "\u001b[34m\u001b[1mtrain: \u001b[0mWARNING ⚠️ /content/extracted_files/coco2017_subset/train2017/000000081903.jpg: 1 duplicate labels removed\n",
            "\u001b[34m\u001b[1mtrain: \u001b[0mWARNING ⚠️ /content/extracted_files/coco2017_subset/train2017/000000082744.jpg: 3 duplicate labels removed\n",
            "\u001b[34m\u001b[1mtrain: \u001b[0mWARNING ⚠️ /content/extracted_files/coco2017_subset/train2017/000000082826.jpg: 1 duplicate labels removed\n",
            "\u001b[34m\u001b[1mtrain: \u001b[0mWARNING ⚠️ /content/extracted_files/coco2017_subset/train2017/000000083482.jpg: 1 duplicate labels removed\n",
            "\u001b[34m\u001b[1mtrain: \u001b[0mWARNING ⚠️ /content/extracted_files/coco2017_subset/train2017/000000083787.jpg: 1 duplicate labels removed\n",
            "\u001b[34m\u001b[1mtrain: \u001b[0mWARNING ⚠️ /content/extracted_files/coco2017_subset/train2017/000000084295.jpg: 3 duplicate labels removed\n",
            "\u001b[34m\u001b[1mtrain: \u001b[0mWARNING ⚠️ /content/extracted_files/coco2017_subset/train2017/000000084609.jpg: 1 duplicate labels removed\n",
            "\u001b[34m\u001b[1mtrain: \u001b[0mWARNING ⚠️ /content/extracted_files/coco2017_subset/train2017/000000084843.jpg: 1 duplicate labels removed\n",
            "\u001b[34m\u001b[1mtrain: \u001b[0mWARNING ⚠️ /content/extracted_files/coco2017_subset/train2017/000000085084.jpg: 10 duplicate labels removed\n",
            "\u001b[34m\u001b[1mtrain: \u001b[0mWARNING ⚠️ /content/extracted_files/coco2017_subset/train2017/000000085855.jpg: 1 duplicate labels removed\n",
            "\u001b[34m\u001b[1mtrain: \u001b[0mWARNING ⚠️ /content/extracted_files/coco2017_subset/train2017/000000088552.jpg: 2 duplicate labels removed\n",
            "\u001b[34m\u001b[1mtrain: \u001b[0mWARNING ⚠️ /content/extracted_files/coco2017_subset/train2017/000000088663.jpg: 4 duplicate labels removed\n",
            "\u001b[34m\u001b[1mtrain: \u001b[0mWARNING ⚠️ /content/extracted_files/coco2017_subset/train2017/000000089405.jpg: 1 duplicate labels removed\n",
            "\u001b[34m\u001b[1mtrain: \u001b[0mWARNING ⚠️ /content/extracted_files/coco2017_subset/train2017/000000090169.jpg: 2 duplicate labels removed\n",
            "\u001b[34m\u001b[1mtrain: \u001b[0mWARNING ⚠️ /content/extracted_files/coco2017_subset/train2017/000000090983.jpg: 1 duplicate labels removed\n",
            "\u001b[34m\u001b[1mtrain: \u001b[0mWARNING ⚠️ /content/extracted_files/coco2017_subset/train2017/000000091264.jpg: 1 duplicate labels removed\n",
            "\u001b[34m\u001b[1mtrain: \u001b[0mWARNING ⚠️ /content/extracted_files/coco2017_subset/train2017/000000092066.jpg: 17 duplicate labels removed\n",
            "\u001b[34m\u001b[1mtrain: \u001b[0mWARNING ⚠️ /content/extracted_files/coco2017_subset/train2017/000000095106.jpg: 1 duplicate labels removed\n",
            "\u001b[34m\u001b[1mtrain: \u001b[0mWARNING ⚠️ /content/extracted_files/coco2017_subset/train2017/000000096076.jpg: 1 duplicate labels removed\n",
            "\u001b[34m\u001b[1mtrain: \u001b[0mWARNING ⚠️ /content/extracted_files/coco2017_subset/train2017/000000099112.jpg: 1 duplicate labels removed\n",
            "\u001b[34m\u001b[1mtrain: \u001b[0mWARNING ⚠️ /content/extracted_files/coco2017_subset/train2017/000000104277.jpg: 1 duplicate labels removed\n",
            "\u001b[34m\u001b[1mtrain: \u001b[0mWARNING ⚠️ /content/extracted_files/coco2017_subset/train2017/000000104343.jpg: 1 duplicate labels removed\n",
            "\u001b[34m\u001b[1mtrain: \u001b[0mWARNING ⚠️ /content/extracted_files/coco2017_subset/train2017/000000105786.jpg: 2 duplicate labels removed\n",
            "\u001b[34m\u001b[1mtrain: \u001b[0mWARNING ⚠️ /content/extracted_files/coco2017_subset/train2017/000000107781.jpg: 1 duplicate labels removed\n",
            "\u001b[34m\u001b[1mtrain: \u001b[0mWARNING ⚠️ /content/extracted_files/coco2017_subset/train2017/000000113282.jpg: 1 duplicate labels removed\n",
            "\u001b[34m\u001b[1mtrain: \u001b[0mWARNING ⚠️ /content/extracted_files/coco2017_subset/train2017/000000113672.jpg: 1 duplicate labels removed\n",
            "\u001b[34m\u001b[1mtrain: \u001b[0mWARNING ⚠️ /content/extracted_files/coco2017_subset/train2017/000000114718.jpg: 1 duplicate labels removed\n",
            "\u001b[34m\u001b[1mtrain: \u001b[0mWARNING ⚠️ /content/extracted_files/coco2017_subset/train2017/000000115374.jpg: 1 duplicate labels removed\n",
            "\u001b[34m\u001b[1mtrain: \u001b[0mWARNING ⚠️ /content/extracted_files/coco2017_subset/train2017/000000115676.jpg: 1 duplicate labels removed\n",
            "\u001b[34m\u001b[1mtrain: \u001b[0mWARNING ⚠️ /content/extracted_files/coco2017_subset/train2017/000000116123.jpg: 2 duplicate labels removed\n",
            "\u001b[34m\u001b[1mtrain: \u001b[0mWARNING ⚠️ /content/extracted_files/coco2017_subset/train2017/000000117229.jpg: 3 duplicate labels removed\n",
            "\u001b[34m\u001b[1mtrain: \u001b[0mWARNING ⚠️ /content/extracted_files/coco2017_subset/train2017/000000117667.jpg: 2 duplicate labels removed\n",
            "\u001b[34m\u001b[1mtrain: \u001b[0mWARNING ⚠️ /content/extracted_files/coco2017_subset/train2017/000000119016.jpg: 3 duplicate labels removed\n",
            "\u001b[34m\u001b[1mtrain: \u001b[0mWARNING ⚠️ /content/extracted_files/coco2017_subset/train2017/000000122263.jpg: 2 duplicate labels removed\n",
            "\u001b[34m\u001b[1mtrain: \u001b[0mWARNING ⚠️ /content/extracted_files/coco2017_subset/train2017/000000122356.jpg: 1 duplicate labels removed\n",
            "\u001b[34m\u001b[1mtrain: \u001b[0mWARNING ⚠️ /content/extracted_files/coco2017_subset/train2017/000000122973.jpg: 2 duplicate labels removed\n",
            "\u001b[34m\u001b[1mtrain: \u001b[0mWARNING ⚠️ /content/extracted_files/coco2017_subset/train2017/000000122983.jpg: 1 duplicate labels removed\n",
            "\u001b[34m\u001b[1mtrain: \u001b[0mWARNING ⚠️ /content/extracted_files/coco2017_subset/train2017/000000123456.jpg: 3 duplicate labels removed\n",
            "\u001b[34m\u001b[1mtrain: \u001b[0mWARNING ⚠️ /content/extracted_files/coco2017_subset/train2017/000000124804.jpg: 1 duplicate labels removed\n",
            "\u001b[34m\u001b[1mtrain: \u001b[0mWARNING ⚠️ /content/extracted_files/coco2017_subset/train2017/000000125116.jpg: 4 duplicate labels removed\n",
            "\u001b[34m\u001b[1mtrain: \u001b[0mWARNING ⚠️ /content/extracted_files/coco2017_subset/train2017/000000128377.jpg: 1 duplicate labels removed\n",
            "\u001b[34m\u001b[1mtrain: \u001b[0mWARNING ⚠️ /content/extracted_files/coco2017_subset/train2017/000000129813.jpg: 1 duplicate labels removed\n",
            "\u001b[34m\u001b[1mtrain: \u001b[0mWARNING ⚠️ /content/extracted_files/coco2017_subset/train2017/000000130069.jpg: 1 duplicate labels removed\n",
            "\u001b[34m\u001b[1mtrain: \u001b[0mWARNING ⚠️ /content/extracted_files/coco2017_subset/train2017/000000130540.jpg: 1 duplicate labels removed\n",
            "\u001b[34m\u001b[1mtrain: \u001b[0mWARNING ⚠️ /content/extracted_files/coco2017_subset/train2017/000000130735.jpg: 2 duplicate labels removed\n",
            "\u001b[34m\u001b[1mtrain: \u001b[0mWARNING ⚠️ /content/extracted_files/coco2017_subset/train2017/000000131211.jpg: 2 duplicate labels removed\n",
            "\u001b[34m\u001b[1mtrain: \u001b[0mWARNING ⚠️ /content/extracted_files/coco2017_subset/train2017/000000131364.jpg: 1 duplicate labels removed\n",
            "\u001b[34m\u001b[1mtrain: \u001b[0mWARNING ⚠️ /content/extracted_files/coco2017_subset/train2017/000000131915.jpg: 2 duplicate labels removed\n",
            "\u001b[34m\u001b[1mtrain: \u001b[0mWARNING ⚠️ /content/extracted_files/coco2017_subset/train2017/000000133845.jpg: 4 duplicate labels removed\n",
            "\u001b[34m\u001b[1mtrain: \u001b[0mWARNING ⚠️ /content/extracted_files/coco2017_subset/train2017/000000134068.jpg: 1 duplicate labels removed\n",
            "\u001b[34m\u001b[1mtrain: \u001b[0mWARNING ⚠️ /content/extracted_files/coco2017_subset/train2017/000000134111.jpg: 1 duplicate labels removed\n",
            "\u001b[34m\u001b[1mtrain: \u001b[0mWARNING ⚠️ /content/extracted_files/coco2017_subset/train2017/000000134562.jpg: 2 duplicate labels removed\n",
            "\u001b[34m\u001b[1mtrain: \u001b[0mWARNING ⚠️ /content/extracted_files/coco2017_subset/train2017/000000137501.jpg: 3 duplicate labels removed\n",
            "\u001b[34m\u001b[1mtrain: \u001b[0mWARNING ⚠️ /content/extracted_files/coco2017_subset/train2017/000000138054.jpg: 5 duplicate labels removed\n",
            "\u001b[34m\u001b[1mtrain: \u001b[0mWARNING ⚠️ /content/extracted_files/coco2017_subset/train2017/000000139011.jpg: 2 duplicate labels removed\n",
            "\u001b[34m\u001b[1mtrain: \u001b[0mWARNING ⚠️ /content/extracted_files/coco2017_subset/train2017/000000143958.jpg: 1 duplicate labels removed\n",
            "\u001b[34m\u001b[1mtrain: \u001b[0mWARNING ⚠️ /content/extracted_files/coco2017_subset/train2017/000000144203.jpg: 2 duplicate labels removed\n",
            "\u001b[34m\u001b[1mtrain: \u001b[0mWARNING ⚠️ /content/extracted_files/coco2017_subset/train2017/000000146076.jpg: 1 duplicate labels removed\n",
            "\u001b[34m\u001b[1mtrain: \u001b[0mWARNING ⚠️ /content/extracted_files/coco2017_subset/train2017/000000146215.jpg: 2 duplicate labels removed\n",
            "\u001b[34m\u001b[1mtrain: \u001b[0mWARNING ⚠️ /content/extracted_files/coco2017_subset/train2017/000000147404.jpg: 1 duplicate labels removed\n",
            "\u001b[34m\u001b[1mtrain: \u001b[0mWARNING ⚠️ /content/extracted_files/coco2017_subset/train2017/000000147488.jpg: 1 duplicate labels removed\n",
            "\u001b[34m\u001b[1mtrain: \u001b[0mWARNING ⚠️ /content/extracted_files/coco2017_subset/train2017/000000147646.jpg: 1 duplicate labels removed\n",
            "\u001b[34m\u001b[1mtrain: \u001b[0mWARNING ⚠️ /content/extracted_files/coco2017_subset/train2017/000000147973.jpg: 3 duplicate labels removed\n",
            "\u001b[34m\u001b[1mtrain: \u001b[0mWARNING ⚠️ /content/extracted_files/coco2017_subset/train2017/000000148129.jpg: 1 duplicate labels removed\n",
            "\u001b[34m\u001b[1mtrain: \u001b[0mWARNING ⚠️ /content/extracted_files/coco2017_subset/train2017/000000148668.jpg: 1 duplicate labels removed\n",
            "\u001b[34m\u001b[1mtrain: \u001b[0mWARNING ⚠️ /content/extracted_files/coco2017_subset/train2017/000000148901.jpg: 1 duplicate labels removed\n",
            "\u001b[34m\u001b[1mtrain: \u001b[0mWARNING ⚠️ /content/extracted_files/coco2017_subset/train2017/000000151524.jpg: 4 duplicate labels removed\n",
            "\u001b[34m\u001b[1mtrain: \u001b[0mWARNING ⚠️ /content/extracted_files/coco2017_subset/train2017/000000153052.jpg: 1 duplicate labels removed\n",
            "\u001b[34m\u001b[1mtrain: \u001b[0mWARNING ⚠️ /content/extracted_files/coco2017_subset/train2017/000000155029.jpg: 1 duplicate labels removed\n",
            "\u001b[34m\u001b[1mtrain: \u001b[0mWARNING ⚠️ /content/extracted_files/coco2017_subset/train2017/000000157642.jpg: 1 duplicate labels removed\n",
            "\u001b[34m\u001b[1mtrain: \u001b[0mWARNING ⚠️ /content/extracted_files/coco2017_subset/train2017/000000158028.jpg: 1 duplicate labels removed\n",
            "\u001b[34m\u001b[1mtrain: \u001b[0mWARNING ⚠️ /content/extracted_files/coco2017_subset/train2017/000000158567.jpg: 3 duplicate labels removed\n",
            "\u001b[34m\u001b[1mtrain: \u001b[0mWARNING ⚠️ /content/extracted_files/coco2017_subset/train2017/000000160239.jpg: 1 duplicate labels removed\n",
            "\u001b[34m\u001b[1mtrain: \u001b[0mWARNING ⚠️ /content/extracted_files/coco2017_subset/train2017/000000160740.jpg: 4 duplicate labels removed\n",
            "\u001b[34m\u001b[1mtrain: \u001b[0mWARNING ⚠️ /content/extracted_files/coco2017_subset/train2017/000000160815.jpg: 1 duplicate labels removed\n",
            "\u001b[34m\u001b[1mtrain: \u001b[0mWARNING ⚠️ /content/extracted_files/coco2017_subset/train2017/000000167598.jpg: 4 duplicate labels removed\n",
            "\u001b[34m\u001b[1mtrain: \u001b[0mWARNING ⚠️ /content/extracted_files/coco2017_subset/train2017/000000167725.jpg: 1 duplicate labels removed\n",
            "\u001b[34m\u001b[1mtrain: \u001b[0mWARNING ⚠️ /content/extracted_files/coco2017_subset/train2017/000000168001.jpg: 2 duplicate labels removed\n",
            "\u001b[34m\u001b[1mtrain: \u001b[0mWARNING ⚠️ /content/extracted_files/coco2017_subset/train2017/000000169510.jpg: 1 duplicate labels removed\n",
            "\u001b[34m\u001b[1mtrain: \u001b[0mWARNING ⚠️ /content/extracted_files/coco2017_subset/train2017/000000169527.jpg: 1 duplicate labels removed\n",
            "\u001b[34m\u001b[1mtrain: \u001b[0mWARNING ⚠️ /content/extracted_files/coco2017_subset/train2017/000000172556.jpg: 1 duplicate labels removed\n",
            "\u001b[34m\u001b[1mtrain: \u001b[0mWARNING ⚠️ /content/extracted_files/coco2017_subset/train2017/000000173530.jpg: 1 duplicate labels removed\n",
            "\u001b[34m\u001b[1mtrain: \u001b[0mWARNING ⚠️ /content/extracted_files/coco2017_subset/train2017/000000174019.jpg: 1 duplicate labels removed\n",
            "\u001b[34m\u001b[1mtrain: \u001b[0mWARNING ⚠️ /content/extracted_files/coco2017_subset/train2017/000000175530.jpg: 1 duplicate labels removed\n",
            "\u001b[34m\u001b[1mtrain: \u001b[0mWARNING ⚠️ /content/extracted_files/coco2017_subset/train2017/000000176736.jpg: 1 duplicate labels removed\n",
            "\u001b[34m\u001b[1mtrain: \u001b[0mWARNING ⚠️ /content/extracted_files/coco2017_subset/train2017/000000177758.jpg: 1 duplicate labels removed\n",
            "\u001b[34m\u001b[1mtrain: \u001b[0mWARNING ⚠️ /content/extracted_files/coco2017_subset/train2017/000000178121.jpg: 1 duplicate labels removed\n",
            "\u001b[34m\u001b[1mtrain: \u001b[0mWARNING ⚠️ /content/extracted_files/coco2017_subset/train2017/000000180606.jpg: 1 duplicate labels removed\n",
            "\u001b[34m\u001b[1mtrain: \u001b[0mWARNING ⚠️ /content/extracted_files/coco2017_subset/train2017/000000180639.jpg: 2 duplicate labels removed\n",
            "\u001b[34m\u001b[1mtrain: \u001b[0mWARNING ⚠️ /content/extracted_files/coco2017_subset/train2017/000000182593.jpg: 1 duplicate labels removed\n",
            "\u001b[34m\u001b[1mtrain: \u001b[0mWARNING ⚠️ /content/extracted_files/coco2017_subset/train2017/000000182765.jpg: 1 duplicate labels removed\n",
            "\u001b[34m\u001b[1mtrain: \u001b[0mWARNING ⚠️ /content/extracted_files/coco2017_subset/train2017/000000184626.jpg: 1 duplicate labels removed\n",
            "\u001b[34m\u001b[1mtrain: \u001b[0mWARNING ⚠️ /content/extracted_files/coco2017_subset/train2017/000000184929.jpg: 1 duplicate labels removed\n",
            "\u001b[34m\u001b[1mtrain: \u001b[0mWARNING ⚠️ /content/extracted_files/coco2017_subset/train2017/000000185168.jpg: 1 duplicate labels removed\n",
            "\u001b[34m\u001b[1mtrain: \u001b[0mWARNING ⚠️ /content/extracted_files/coco2017_subset/train2017/000000185229.jpg: 1 duplicate labels removed\n",
            "\u001b[34m\u001b[1mtrain: \u001b[0mWARNING ⚠️ /content/extracted_files/coco2017_subset/train2017/000000185513.jpg: 3 duplicate labels removed\n",
            "\u001b[34m\u001b[1mtrain: \u001b[0mWARNING ⚠️ /content/extracted_files/coco2017_subset/train2017/000000186547.jpg: 2 duplicate labels removed\n",
            "\u001b[34m\u001b[1mtrain: \u001b[0mWARNING ⚠️ /content/extracted_files/coco2017_subset/train2017/000000186615.jpg: 1 duplicate labels removed\n",
            "\u001b[34m\u001b[1mtrain: \u001b[0mWARNING ⚠️ /content/extracted_files/coco2017_subset/train2017/000000186868.jpg: 2 duplicate labels removed\n",
            "\u001b[34m\u001b[1mtrain: \u001b[0mWARNING ⚠️ /content/extracted_files/coco2017_subset/train2017/000000187792.jpg: 1 duplicate labels removed\n",
            "\u001b[34m\u001b[1mtrain: \u001b[0mWARNING ⚠️ /content/extracted_files/coco2017_subset/train2017/000000189153.jpg: 2 duplicate labels removed\n",
            "\u001b[34m\u001b[1mtrain: \u001b[0mWARNING ⚠️ /content/extracted_files/coco2017_subset/train2017/000000190738.jpg: 1 duplicate labels removed\n",
            "\u001b[34m\u001b[1mtrain: \u001b[0mWARNING ⚠️ /content/extracted_files/coco2017_subset/train2017/000000193855.jpg: 1 duplicate labels removed\n",
            "\u001b[34m\u001b[1mtrain: \u001b[0mWARNING ⚠️ /content/extracted_files/coco2017_subset/train2017/000000193892.jpg: 1 duplicate labels removed\n",
            "\u001b[34m\u001b[1mtrain: \u001b[0mWARNING ⚠️ /content/extracted_files/coco2017_subset/train2017/000000196723.jpg: 1 duplicate labels removed\n",
            "\u001b[34m\u001b[1mtrain: \u001b[0mWARNING ⚠️ /content/extracted_files/coco2017_subset/train2017/000000199152.jpg: 1 duplicate labels removed\n",
            "\u001b[34m\u001b[1mtrain: \u001b[0mWARNING ⚠️ /content/extracted_files/coco2017_subset/train2017/000000199522.jpg: 1 duplicate labels removed\n",
            "\u001b[34m\u001b[1mtrain: \u001b[0mWARNING ⚠️ /content/extracted_files/coco2017_subset/train2017/000000200796.jpg: 6 duplicate labels removed\n",
            "\u001b[34m\u001b[1mtrain: \u001b[0mWARNING ⚠️ /content/extracted_files/coco2017_subset/train2017/000000201519.jpg: 1 duplicate labels removed\n",
            "\u001b[34m\u001b[1mtrain: \u001b[0mWARNING ⚠️ /content/extracted_files/coco2017_subset/train2017/000000202326.jpg: 1 duplicate labels removed\n",
            "\u001b[34m\u001b[1mtrain: \u001b[0mWARNING ⚠️ /content/extracted_files/coco2017_subset/train2017/000000206137.jpg: 7 duplicate labels removed\n",
            "\u001b[34m\u001b[1mtrain: \u001b[0mWARNING ⚠️ /content/extracted_files/coco2017_subset/train2017/000000209130.jpg: 2 duplicate labels removed\n",
            "\u001b[34m\u001b[1mtrain: \u001b[0mWARNING ⚠️ /content/extracted_files/coco2017_subset/train2017/000000209563.jpg: 1 duplicate labels removed\n",
            "\u001b[34m\u001b[1mtrain: \u001b[0mWARNING ⚠️ /content/extracted_files/coco2017_subset/train2017/000000210804.jpg: 1 duplicate labels removed\n",
            "\u001b[34m\u001b[1mtrain: \u001b[0mWARNING ⚠️ /content/extracted_files/coco2017_subset/train2017/000000211690.jpg: 2 duplicate labels removed\n",
            "\u001b[34m\u001b[1mtrain: \u001b[0mWARNING ⚠️ /content/extracted_files/coco2017_subset/train2017/000000211785.jpg: 3 duplicate labels removed\n",
            "\u001b[34m\u001b[1mtrain: \u001b[0mWARNING ⚠️ /content/extracted_files/coco2017_subset/train2017/000000213408.jpg: 1 duplicate labels removed\n",
            "\u001b[34m\u001b[1mtrain: \u001b[0mWARNING ⚠️ /content/extracted_files/coco2017_subset/train2017/000000216398.jpg: 1 duplicate labels removed\n",
            "\u001b[34m\u001b[1mtrain: \u001b[0mWARNING ⚠️ /content/extracted_files/coco2017_subset/train2017/000000216556.jpg: 2 duplicate labels removed\n",
            "\u001b[34m\u001b[1mtrain: \u001b[0mWARNING ⚠️ /content/extracted_files/coco2017_subset/train2017/000000216766.jpg: 1 duplicate labels removed\n",
            "\u001b[34m\u001b[1mtrain: \u001b[0mWARNING ⚠️ /content/extracted_files/coco2017_subset/train2017/000000217822.jpg: 1 duplicate labels removed\n",
            "\u001b[34m\u001b[1mtrain: \u001b[0mWARNING ⚠️ /content/extracted_files/coco2017_subset/train2017/000000218290.jpg: 2 duplicate labels removed\n",
            "\u001b[34m\u001b[1mtrain: \u001b[0mWARNING ⚠️ /content/extracted_files/coco2017_subset/train2017/000000219355.jpg: 1 duplicate labels removed\n",
            "\u001b[34m\u001b[1mtrain: \u001b[0mWARNING ⚠️ /content/extracted_files/coco2017_subset/train2017/000000219458.jpg: 1 duplicate labels removed\n",
            "\u001b[34m\u001b[1mtrain: \u001b[0mWARNING ⚠️ /content/extracted_files/coco2017_subset/train2017/000000220991.jpg: 2 duplicate labels removed\n",
            "\u001b[34m\u001b[1mtrain: \u001b[0mWARNING ⚠️ /content/extracted_files/coco2017_subset/train2017/000000220992.jpg: 1 duplicate labels removed\n",
            "\u001b[34m\u001b[1mtrain: \u001b[0mWARNING ⚠️ /content/extracted_files/coco2017_subset/train2017/000000221004.jpg: 3 duplicate labels removed\n",
            "\u001b[34m\u001b[1mtrain: \u001b[0mWARNING ⚠️ /content/extracted_files/coco2017_subset/train2017/000000221691.jpg: 1 duplicate labels removed\n",
            "\u001b[34m\u001b[1mtrain: \u001b[0mWARNING ⚠️ /content/extracted_files/coco2017_subset/train2017/000000221888.jpg: 3 duplicate labels removed\n",
            "\u001b[34m\u001b[1mtrain: \u001b[0mWARNING ⚠️ /content/extracted_files/coco2017_subset/train2017/000000223571.jpg: 1 duplicate labels removed\n",
            "\u001b[34m\u001b[1mtrain: \u001b[0mWARNING ⚠️ /content/extracted_files/coco2017_subset/train2017/000000226594.jpg: 2 duplicate labels removed\n",
            "\u001b[34m\u001b[1mtrain: \u001b[0mWARNING ⚠️ /content/extracted_files/coco2017_subset/train2017/000000228669.jpg: 3 duplicate labels removed\n",
            "\u001b[34m\u001b[1mtrain: \u001b[0mWARNING ⚠️ /content/extracted_files/coco2017_subset/train2017/000000229995.jpg: 3 duplicate labels removed\n",
            "\u001b[34m\u001b[1mtrain: \u001b[0mWARNING ⚠️ /content/extracted_files/coco2017_subset/train2017/000000231679.jpg: 1 duplicate labels removed\n",
            "\u001b[34m\u001b[1mtrain: \u001b[0mWARNING ⚠️ /content/extracted_files/coco2017_subset/train2017/000000231958.jpg: 3 duplicate labels removed\n",
            "\u001b[34m\u001b[1mtrain: \u001b[0mWARNING ⚠️ /content/extracted_files/coco2017_subset/train2017/000000232115.jpg: 1 duplicate labels removed\n",
            "\u001b[34m\u001b[1mtrain: \u001b[0mWARNING ⚠️ /content/extracted_files/coco2017_subset/train2017/000000232455.jpg: 6 duplicate labels removed\n",
            "\u001b[34m\u001b[1mtrain: \u001b[0mWARNING ⚠️ /content/extracted_files/coco2017_subset/train2017/000000232663.jpg: 1 duplicate labels removed\n",
            "\u001b[34m\u001b[1mtrain: \u001b[0mWARNING ⚠️ /content/extracted_files/coco2017_subset/train2017/000000234046.jpg: 1 duplicate labels removed\n",
            "\u001b[34m\u001b[1mtrain: \u001b[0mWARNING ⚠️ /content/extracted_files/coco2017_subset/train2017/000000235130.jpg: 2 duplicate labels removed\n",
            "\u001b[34m\u001b[1mtrain: \u001b[0mWARNING ⚠️ /content/extracted_files/coco2017_subset/train2017/000000235189.jpg: 1 duplicate labels removed\n",
            "\u001b[34m\u001b[1mtrain: \u001b[0mWARNING ⚠️ /content/extracted_files/coco2017_subset/train2017/000000236990.jpg: 3 duplicate labels removed\n",
            "\u001b[34m\u001b[1mtrain: \u001b[0mWARNING ⚠️ /content/extracted_files/coco2017_subset/train2017/000000237271.jpg: 1 duplicate labels removed\n",
            "\u001b[34m\u001b[1mtrain: \u001b[0mWARNING ⚠️ /content/extracted_files/coco2017_subset/train2017/000000237420.jpg: 2 duplicate labels removed\n",
            "\u001b[34m\u001b[1mtrain: \u001b[0mWARNING ⚠️ /content/extracted_files/coco2017_subset/train2017/000000239671.jpg: 1 duplicate labels removed\n",
            "\u001b[34m\u001b[1mtrain: \u001b[0mWARNING ⚠️ /content/extracted_files/coco2017_subset/train2017/000000240944.jpg: 1 duplicate labels removed\n",
            "\u001b[34m\u001b[1mtrain: \u001b[0mWARNING ⚠️ /content/extracted_files/coco2017_subset/train2017/000000242510.jpg: 1 duplicate labels removed\n",
            "\u001b[34m\u001b[1mtrain: \u001b[0mWARNING ⚠️ /content/extracted_files/coco2017_subset/train2017/000000244082.jpg: 2 duplicate labels removed\n",
            "\u001b[34m\u001b[1mtrain: \u001b[0mWARNING ⚠️ /content/extracted_files/coco2017_subset/train2017/000000244835.jpg: 1 duplicate labels removed\n",
            "\u001b[34m\u001b[1mtrain: \u001b[0mWARNING ⚠️ /content/extracted_files/coco2017_subset/train2017/000000245116.jpg: 1 duplicate labels removed\n",
            "\u001b[34m\u001b[1mtrain: \u001b[0mWARNING ⚠️ /content/extracted_files/coco2017_subset/train2017/000000245440.jpg: 1 duplicate labels removed\n",
            "\u001b[34m\u001b[1mtrain: \u001b[0mWARNING ⚠️ /content/extracted_files/coco2017_subset/train2017/000000245754.jpg: 2 duplicate labels removed\n",
            "\u001b[34m\u001b[1mtrain: \u001b[0mWARNING ⚠️ /content/extracted_files/coco2017_subset/train2017/000000246852.jpg: 5 duplicate labels removed\n",
            "\u001b[34m\u001b[1mtrain: \u001b[0mWARNING ⚠️ /content/extracted_files/coco2017_subset/train2017/000000247790.jpg: 1 duplicate labels removed\n",
            "\u001b[34m\u001b[1mtrain: \u001b[0mWARNING ⚠️ /content/extracted_files/coco2017_subset/train2017/000000249807.jpg: 5 duplicate labels removed\n",
            "\u001b[34m\u001b[1mtrain: \u001b[0mWARNING ⚠️ /content/extracted_files/coco2017_subset/train2017/000000250258.jpg: 1 duplicate labels removed\n",
            "\u001b[34m\u001b[1mtrain: \u001b[0mWARNING ⚠️ /content/extracted_files/coco2017_subset/train2017/000000252292.jpg: 1 duplicate labels removed\n",
            "\u001b[34m\u001b[1mtrain: \u001b[0mWARNING ⚠️ /content/extracted_files/coco2017_subset/train2017/000000253032.jpg: 1 duplicate labels removed\n",
            "\u001b[34m\u001b[1mtrain: \u001b[0mWARNING ⚠️ /content/extracted_files/coco2017_subset/train2017/000000253725.jpg: 3 duplicate labels removed\n",
            "\u001b[34m\u001b[1mtrain: \u001b[0mWARNING ⚠️ /content/extracted_files/coco2017_subset/train2017/000000254822.jpg: 1 duplicate labels removed\n",
            "\u001b[34m\u001b[1mtrain: \u001b[0mWARNING ⚠️ /content/extracted_files/coco2017_subset/train2017/000000257874.jpg: 1 duplicate labels removed\n",
            "\u001b[34m\u001b[1mtrain: \u001b[0mWARNING ⚠️ /content/extracted_files/coco2017_subset/train2017/000000258472.jpg: 4 duplicate labels removed\n",
            "\u001b[34m\u001b[1mtrain: \u001b[0mWARNING ⚠️ /content/extracted_files/coco2017_subset/train2017/000000258690.jpg: 1 duplicate labels removed\n",
            "\u001b[34m\u001b[1mtrain: \u001b[0mWARNING ⚠️ /content/extracted_files/coco2017_subset/train2017/000000258837.jpg: 1 duplicate labels removed\n",
            "\u001b[34m\u001b[1mtrain: \u001b[0mWARNING ⚠️ /content/extracted_files/coco2017_subset/train2017/000000258859.jpg: 10 duplicate labels removed\n",
            "\u001b[34m\u001b[1mtrain: \u001b[0mWARNING ⚠️ /content/extracted_files/coco2017_subset/train2017/000000259240.jpg: 1 duplicate labels removed\n",
            "\u001b[34m\u001b[1mtrain: \u001b[0mWARNING ⚠️ /content/extracted_files/coco2017_subset/train2017/000000260439.jpg: 2 duplicate labels removed\n",
            "\u001b[34m\u001b[1mtrain: \u001b[0mWARNING ⚠️ /content/extracted_files/coco2017_subset/train2017/000000262286.jpg: 3 duplicate labels removed\n",
            "\u001b[34m\u001b[1mtrain: \u001b[0mWARNING ⚠️ /content/extracted_files/coco2017_subset/train2017/000000263995.jpg: 1 duplicate labels removed\n",
            "\u001b[34m\u001b[1mtrain: \u001b[0mWARNING ⚠️ /content/extracted_files/coco2017_subset/train2017/000000264506.jpg: 4 duplicate labels removed\n",
            "\u001b[34m\u001b[1mtrain: \u001b[0mWARNING ⚠️ /content/extracted_files/coco2017_subset/train2017/000000267454.jpg: 5 duplicate labels removed\n",
            "\u001b[34m\u001b[1mtrain: \u001b[0mWARNING ⚠️ /content/extracted_files/coco2017_subset/train2017/000000267710.jpg: 2 duplicate labels removed\n",
            "\u001b[34m\u001b[1mtrain: \u001b[0mWARNING ⚠️ /content/extracted_files/coco2017_subset/train2017/000000269873.jpg: 4 duplicate labels removed\n",
            "\u001b[34m\u001b[1mtrain: \u001b[0mWARNING ⚠️ /content/extracted_files/coco2017_subset/train2017/000000271592.jpg: 1 duplicate labels removed\n",
            "\u001b[34m\u001b[1mtrain: \u001b[0mWARNING ⚠️ /content/extracted_files/coco2017_subset/train2017/000000272544.jpg: 2 duplicate labels removed\n",
            "\u001b[34m\u001b[1mtrain: \u001b[0mWARNING ⚠️ /content/extracted_files/coco2017_subset/train2017/000000272957.jpg: 1 duplicate labels removed\n",
            "\u001b[34m\u001b[1mtrain: \u001b[0mWARNING ⚠️ /content/extracted_files/coco2017_subset/train2017/000000273316.jpg: 2 duplicate labels removed\n",
            "\u001b[34m\u001b[1mtrain: \u001b[0mWARNING ⚠️ /content/extracted_files/coco2017_subset/train2017/000000273898.jpg: 1 duplicate labels removed\n",
            "\u001b[34m\u001b[1mtrain: \u001b[0mWARNING ⚠️ /content/extracted_files/coco2017_subset/train2017/000000277479.jpg: 2 duplicate labels removed\n",
            "\u001b[34m\u001b[1mtrain: \u001b[0mWARNING ⚠️ /content/extracted_files/coco2017_subset/train2017/000000278347.jpg: 1 duplicate labels removed\n",
            "\u001b[34m\u001b[1mtrain: \u001b[0mWARNING ⚠️ /content/extracted_files/coco2017_subset/train2017/000000281207.jpg: 1 duplicate labels removed\n",
            "\u001b[34m\u001b[1mtrain: \u001b[0mWARNING ⚠️ /content/extracted_files/coco2017_subset/train2017/000000283780.jpg: 1 duplicate labels removed\n",
            "\u001b[34m\u001b[1mtrain: \u001b[0mWARNING ⚠️ /content/extracted_files/coco2017_subset/train2017/000000284732.jpg: 1 duplicate labels removed\n",
            "\u001b[34m\u001b[1mtrain: \u001b[0mWARNING ⚠️ /content/extracted_files/coco2017_subset/train2017/000000286920.jpg: 5 duplicate labels removed\n",
            "\u001b[34m\u001b[1mtrain: \u001b[0mWARNING ⚠️ /content/extracted_files/coco2017_subset/train2017/000000288943.jpg: 2 duplicate labels removed\n",
            "\u001b[34m\u001b[1mtrain: \u001b[0mWARNING ⚠️ /content/extracted_files/coco2017_subset/train2017/000000291059.jpg: 2 duplicate labels removed\n",
            "\u001b[34m\u001b[1mtrain: \u001b[0mWARNING ⚠️ /content/extracted_files/coco2017_subset/train2017/000000293228.jpg: 2 duplicate labels removed\n",
            "\u001b[34m\u001b[1mtrain: \u001b[0mWARNING ⚠️ /content/extracted_files/coco2017_subset/train2017/000000294875.jpg: 1 duplicate labels removed\n",
            "\u001b[34m\u001b[1mtrain: \u001b[0mWARNING ⚠️ /content/extracted_files/coco2017_subset/train2017/000000296201.jpg: 2 duplicate labels removed\n",
            "\u001b[34m\u001b[1mtrain: \u001b[0mWARNING ⚠️ /content/extracted_files/coco2017_subset/train2017/000000296474.jpg: 2 duplicate labels removed\n",
            "\u001b[34m\u001b[1mtrain: \u001b[0mWARNING ⚠️ /content/extracted_files/coco2017_subset/train2017/000000297417.jpg: 1 duplicate labels removed\n",
            "\u001b[34m\u001b[1mtrain: \u001b[0mWARNING ⚠️ /content/extracted_files/coco2017_subset/train2017/000000297859.jpg: 2 duplicate labels removed\n",
            "\u001b[34m\u001b[1mtrain: \u001b[0mWARNING ⚠️ /content/extracted_files/coco2017_subset/train2017/000000303608.jpg: 1 duplicate labels removed\n",
            "\u001b[34m\u001b[1mtrain: \u001b[0mWARNING ⚠️ /content/extracted_files/coco2017_subset/train2017/000000303992.jpg: 1 duplicate labels removed\n",
            "\u001b[34m\u001b[1mtrain: \u001b[0mWARNING ⚠️ /content/extracted_files/coco2017_subset/train2017/000000305206.jpg: 1 duplicate labels removed\n",
            "\u001b[34m\u001b[1mtrain: \u001b[0mWARNING ⚠️ /content/extracted_files/coco2017_subset/train2017/000000307432.jpg: 1 duplicate labels removed\n",
            "\u001b[34m\u001b[1mtrain: \u001b[0mWARNING ⚠️ /content/extracted_files/coco2017_subset/train2017/000000310020.jpg: 1 duplicate labels removed\n",
            "\u001b[34m\u001b[1mtrain: \u001b[0mWARNING ⚠️ /content/extracted_files/coco2017_subset/train2017/000000311616.jpg: 1 duplicate labels removed\n",
            "\u001b[34m\u001b[1mtrain: \u001b[0mWARNING ⚠️ /content/extracted_files/coco2017_subset/train2017/000000311899.jpg: 1 duplicate labels removed\n",
            "\u001b[34m\u001b[1mtrain: \u001b[0mWARNING ⚠️ /content/extracted_files/coco2017_subset/train2017/000000312139.jpg: 1 duplicate labels removed\n",
            "\u001b[34m\u001b[1mtrain: \u001b[0mWARNING ⚠️ /content/extracted_files/coco2017_subset/train2017/000000312961.jpg: 1 duplicate labels removed\n",
            "\u001b[34m\u001b[1mtrain: \u001b[0mWARNING ⚠️ /content/extracted_files/coco2017_subset/train2017/000000314108.jpg: 1 duplicate labels removed\n",
            "\u001b[34m\u001b[1mtrain: \u001b[0mWARNING ⚠️ /content/extracted_files/coco2017_subset/train2017/000000314558.jpg: 1 duplicate labels removed\n",
            "\u001b[34m\u001b[1mtrain: \u001b[0mWARNING ⚠️ /content/extracted_files/coco2017_subset/train2017/000000314904.jpg: 1 duplicate labels removed\n",
            "\u001b[34m\u001b[1mtrain: \u001b[0mWARNING ⚠️ /content/extracted_files/coco2017_subset/train2017/000000315043.jpg: 1 duplicate labels removed\n",
            "\u001b[34m\u001b[1mtrain: \u001b[0mWARNING ⚠️ /content/extracted_files/coco2017_subset/train2017/000000315339.jpg: 4 duplicate labels removed\n",
            "\u001b[34m\u001b[1mtrain: \u001b[0mWARNING ⚠️ /content/extracted_files/coco2017_subset/train2017/000000315407.jpg: 1 duplicate labels removed\n",
            "\u001b[34m\u001b[1mtrain: \u001b[0mWARNING ⚠️ /content/extracted_files/coco2017_subset/train2017/000000316928.jpg: 1 duplicate labels removed\n",
            "\u001b[34m\u001b[1mtrain: \u001b[0mWARNING ⚠️ /content/extracted_files/coco2017_subset/train2017/000000318637.jpg: 1 duplicate labels removed\n",
            "\u001b[34m\u001b[1mtrain: \u001b[0mWARNING ⚠️ /content/extracted_files/coco2017_subset/train2017/000000318789.jpg: 1 duplicate labels removed\n",
            "\u001b[34m\u001b[1mtrain: \u001b[0mWARNING ⚠️ /content/extracted_files/coco2017_subset/train2017/000000319260.jpg: 2 duplicate labels removed\n",
            "\u001b[34m\u001b[1mtrain: \u001b[0mWARNING ⚠️ /content/extracted_files/coco2017_subset/train2017/000000321418.jpg: 10 duplicate labels removed\n",
            "\u001b[34m\u001b[1mtrain: \u001b[0mWARNING ⚠️ /content/extracted_files/coco2017_subset/train2017/000000322654.jpg: 1 duplicate labels removed\n",
            "\u001b[34m\u001b[1mtrain: \u001b[0mWARNING ⚠️ /content/extracted_files/coco2017_subset/train2017/000000322934.jpg: 1 duplicate labels removed\n",
            "\u001b[34m\u001b[1mtrain: \u001b[0mWARNING ⚠️ /content/extracted_files/coco2017_subset/train2017/000000323536.jpg: 1 duplicate labels removed\n",
            "\u001b[34m\u001b[1mtrain: \u001b[0mWARNING ⚠️ /content/extracted_files/coco2017_subset/train2017/000000324143.jpg: 2 duplicate labels removed\n",
            "\u001b[34m\u001b[1mtrain: \u001b[0mWARNING ⚠️ /content/extracted_files/coco2017_subset/train2017/000000324228.jpg: 2 duplicate labels removed\n",
            "\u001b[34m\u001b[1mtrain: \u001b[0mWARNING ⚠️ /content/extracted_files/coco2017_subset/train2017/000000326798.jpg: 2 duplicate labels removed\n",
            "\u001b[34m\u001b[1mtrain: \u001b[0mWARNING ⚠️ /content/extracted_files/coco2017_subset/train2017/000000327258.jpg: 1 duplicate labels removed\n",
            "\u001b[34m\u001b[1mtrain: \u001b[0mWARNING ⚠️ /content/extracted_files/coco2017_subset/train2017/000000327532.jpg: 7 duplicate labels removed\n",
            "\u001b[34m\u001b[1mtrain: \u001b[0mWARNING ⚠️ /content/extracted_files/coco2017_subset/train2017/000000327808.jpg: 2 duplicate labels removed\n",
            "\u001b[34m\u001b[1mtrain: \u001b[0mWARNING ⚠️ /content/extracted_files/coco2017_subset/train2017/000000327964.jpg: 1 duplicate labels removed\n",
            "\u001b[34m\u001b[1mtrain: \u001b[0mWARNING ⚠️ /content/extracted_files/coco2017_subset/train2017/000000328487.jpg: 1 duplicate labels removed\n",
            "\u001b[34m\u001b[1mtrain: \u001b[0mWARNING ⚠️ /content/extracted_files/coco2017_subset/train2017/000000328654.jpg: 2 duplicate labels removed\n",
            "\u001b[34m\u001b[1mtrain: \u001b[0mWARNING ⚠️ /content/extracted_files/coco2017_subset/train2017/000000330863.jpg: 12 duplicate labels removed\n",
            "\u001b[34m\u001b[1mtrain: \u001b[0mWARNING ⚠️ /content/extracted_files/coco2017_subset/train2017/000000332007.jpg: 2 duplicate labels removed\n",
            "\u001b[34m\u001b[1mtrain: \u001b[0mWARNING ⚠️ /content/extracted_files/coco2017_subset/train2017/000000332931.jpg: 1 duplicate labels removed\n",
            "\u001b[34m\u001b[1mtrain: \u001b[0mWARNING ⚠️ /content/extracted_files/coco2017_subset/train2017/000000333654.jpg: 5 duplicate labels removed\n",
            "\u001b[34m\u001b[1mtrain: \u001b[0mWARNING ⚠️ /content/extracted_files/coco2017_subset/train2017/000000335111.jpg: 2 duplicate labels removed\n",
            "\u001b[34m\u001b[1mtrain: \u001b[0mWARNING ⚠️ /content/extracted_files/coco2017_subset/train2017/000000335551.jpg: 1 duplicate labels removed\n",
            "\u001b[34m\u001b[1mtrain: \u001b[0mWARNING ⚠️ /content/extracted_files/coco2017_subset/train2017/000000336494.jpg: 1 duplicate labels removed\n",
            "\u001b[34m\u001b[1mtrain: \u001b[0mWARNING ⚠️ /content/extracted_files/coco2017_subset/train2017/000000336580.jpg: 6 duplicate labels removed\n",
            "\u001b[34m\u001b[1mtrain: \u001b[0mWARNING ⚠️ /content/extracted_files/coco2017_subset/train2017/000000336654.jpg: 2 duplicate labels removed\n",
            "\u001b[34m\u001b[1mtrain: \u001b[0mWARNING ⚠️ /content/extracted_files/coco2017_subset/train2017/000000337886.jpg: 1 duplicate labels removed\n",
            "\u001b[34m\u001b[1mtrain: \u001b[0mWARNING ⚠️ /content/extracted_files/coco2017_subset/train2017/000000337991.jpg: 1 duplicate labels removed\n",
            "\u001b[34m\u001b[1mtrain: \u001b[0mWARNING ⚠️ /content/extracted_files/coco2017_subset/train2017/000000338197.jpg: 2 duplicate labels removed\n",
            "\u001b[34m\u001b[1mtrain: \u001b[0mWARNING ⚠️ /content/extracted_files/coco2017_subset/train2017/000000339711.jpg: 2 duplicate labels removed\n",
            "\u001b[34m\u001b[1mtrain: \u001b[0mWARNING ⚠️ /content/extracted_files/coco2017_subset/train2017/000000340103.jpg: 8 duplicate labels removed\n",
            "\u001b[34m\u001b[1mtrain: \u001b[0mWARNING ⚠️ /content/extracted_files/coco2017_subset/train2017/000000340983.jpg: 2 duplicate labels removed\n",
            "\u001b[34m\u001b[1mtrain: \u001b[0mWARNING ⚠️ /content/extracted_files/coco2017_subset/train2017/000000341892.jpg: 5 duplicate labels removed\n",
            "\u001b[34m\u001b[1mtrain: \u001b[0mWARNING ⚠️ /content/extracted_files/coco2017_subset/train2017/000000343279.jpg: 1 duplicate labels removed\n",
            "\u001b[34m\u001b[1mtrain: \u001b[0mWARNING ⚠️ /content/extracted_files/coco2017_subset/train2017/000000344197.jpg: 2 duplicate labels removed\n",
            "\u001b[34m\u001b[1mtrain: \u001b[0mWARNING ⚠️ /content/extracted_files/coco2017_subset/train2017/000000345136.jpg: 3 duplicate labels removed\n",
            "\u001b[34m\u001b[1mtrain: \u001b[0mWARNING ⚠️ /content/extracted_files/coco2017_subset/train2017/000000345142.jpg: 2 duplicate labels removed\n",
            "\u001b[34m\u001b[1mtrain: \u001b[0mWARNING ⚠️ /content/extracted_files/coco2017_subset/train2017/000000346084.jpg: 3 duplicate labels removed\n",
            "\u001b[34m\u001b[1mtrain: \u001b[0mWARNING ⚠️ /content/extracted_files/coco2017_subset/train2017/000000348874.jpg: 1 duplicate labels removed\n",
            "\u001b[34m\u001b[1mtrain: \u001b[0mWARNING ⚠️ /content/extracted_files/coco2017_subset/train2017/000000350170.jpg: 1 duplicate labels removed\n",
            "\u001b[34m\u001b[1mtrain: \u001b[0mWARNING ⚠️ /content/extracted_files/coco2017_subset/train2017/000000352302.jpg: 1 duplicate labels removed\n",
            "\u001b[34m\u001b[1mtrain: \u001b[0mWARNING ⚠️ /content/extracted_files/coco2017_subset/train2017/000000353813.jpg: 1 duplicate labels removed\n",
            "\u001b[34m\u001b[1mtrain: \u001b[0mWARNING ⚠️ /content/extracted_files/coco2017_subset/train2017/000000359141.jpg: 3 duplicate labels removed\n",
            "\u001b[34m\u001b[1mtrain: \u001b[0mWARNING ⚠️ /content/extracted_files/coco2017_subset/train2017/000000360573.jpg: 2 duplicate labels removed\n",
            "\u001b[34m\u001b[1mtrain: \u001b[0mWARNING ⚠️ /content/extracted_files/coco2017_subset/train2017/000000360665.jpg: 2 duplicate labels removed\n",
            "\u001b[34m\u001b[1mtrain: \u001b[0mWARNING ⚠️ /content/extracted_files/coco2017_subset/train2017/000000361766.jpg: 3 duplicate labels removed\n",
            "\u001b[34m\u001b[1mtrain: \u001b[0mWARNING ⚠️ /content/extracted_files/coco2017_subset/train2017/000000363080.jpg: 1 duplicate labels removed\n",
            "\u001b[34m\u001b[1mtrain: \u001b[0mWARNING ⚠️ /content/extracted_files/coco2017_subset/train2017/000000363111.jpg: 2 duplicate labels removed\n",
            "\u001b[34m\u001b[1mtrain: \u001b[0mWARNING ⚠️ /content/extracted_files/coco2017_subset/train2017/000000363986.jpg: 3 duplicate labels removed\n",
            "\u001b[34m\u001b[1mtrain: \u001b[0mWARNING ⚠️ /content/extracted_files/coco2017_subset/train2017/000000364959.jpg: 1 duplicate labels removed\n",
            "\u001b[34m\u001b[1mtrain: \u001b[0mWARNING ⚠️ /content/extracted_files/coco2017_subset/train2017/000000365358.jpg: 1 duplicate labels removed\n",
            "\u001b[34m\u001b[1mtrain: \u001b[0mWARNING ⚠️ /content/extracted_files/coco2017_subset/train2017/000000365755.jpg: 1 duplicate labels removed\n",
            "\u001b[34m\u001b[1mtrain: \u001b[0mWARNING ⚠️ /content/extracted_files/coco2017_subset/train2017/000000369433.jpg: 1 duplicate labels removed\n",
            "\u001b[34m\u001b[1mtrain: \u001b[0mWARNING ⚠️ /content/extracted_files/coco2017_subset/train2017/000000371927.jpg: 3 duplicate labels removed\n",
            "\u001b[34m\u001b[1mtrain: \u001b[0mWARNING ⚠️ /content/extracted_files/coco2017_subset/train2017/000000372914.jpg: 2 duplicate labels removed\n",
            "\u001b[34m\u001b[1mtrain: \u001b[0mWARNING ⚠️ /content/extracted_files/coco2017_subset/train2017/000000374162.jpg: 5 duplicate labels removed\n",
            "\u001b[34m\u001b[1mtrain: \u001b[0mWARNING ⚠️ /content/extracted_files/coco2017_subset/train2017/000000375530.jpg: 2 duplicate labels removed\n",
            "\u001b[34m\u001b[1mtrain: \u001b[0mWARNING ⚠️ /content/extracted_files/coco2017_subset/train2017/000000375591.jpg: 2 duplicate labels removed\n",
            "\u001b[34m\u001b[1mtrain: \u001b[0mWARNING ⚠️ /content/extracted_files/coco2017_subset/train2017/000000377080.jpg: 1 duplicate labels removed\n",
            "\u001b[34m\u001b[1mtrain: \u001b[0mWARNING ⚠️ /content/extracted_files/coco2017_subset/train2017/000000378611.jpg: 2 duplicate labels removed\n",
            "\u001b[34m\u001b[1mtrain: \u001b[0mWARNING ⚠️ /content/extracted_files/coco2017_subset/train2017/000000378962.jpg: 1 duplicate labels removed\n",
            "\u001b[34m\u001b[1mtrain: \u001b[0mWARNING ⚠️ /content/extracted_files/coco2017_subset/train2017/000000379936.jpg: 1 duplicate labels removed\n",
            "\u001b[34m\u001b[1mtrain: \u001b[0mWARNING ⚠️ /content/extracted_files/coco2017_subset/train2017/000000382182.jpg: 6 duplicate labels removed\n",
            "\u001b[34m\u001b[1mtrain: \u001b[0mWARNING ⚠️ /content/extracted_files/coco2017_subset/train2017/000000382704.jpg: 1 duplicate labels removed\n",
            "\u001b[34m\u001b[1mtrain: \u001b[0mWARNING ⚠️ /content/extracted_files/coco2017_subset/train2017/000000383014.jpg: 2 duplicate labels removed\n",
            "\u001b[34m\u001b[1mtrain: \u001b[0mWARNING ⚠️ /content/extracted_files/coco2017_subset/train2017/000000384146.jpg: 1 duplicate labels removed\n",
            "\u001b[34m\u001b[1mtrain: \u001b[0mWARNING ⚠️ /content/extracted_files/coco2017_subset/train2017/000000384967.jpg: 1 duplicate labels removed\n",
            "\u001b[34m\u001b[1mtrain: \u001b[0mWARNING ⚠️ /content/extracted_files/coco2017_subset/train2017/000000385145.jpg: 1 duplicate labels removed\n",
            "\u001b[34m\u001b[1mtrain: \u001b[0mWARNING ⚠️ /content/extracted_files/coco2017_subset/train2017/000000386187.jpg: 1 duplicate labels removed\n",
            "\u001b[34m\u001b[1mtrain: \u001b[0mWARNING ⚠️ /content/extracted_files/coco2017_subset/train2017/000000388374.jpg: 2 duplicate labels removed\n",
            "\u001b[34m\u001b[1mtrain: \u001b[0mWARNING ⚠️ /content/extracted_files/coco2017_subset/train2017/000000388940.jpg: 1 duplicate labels removed\n",
            "\u001b[34m\u001b[1mtrain: \u001b[0mWARNING ⚠️ /content/extracted_files/coco2017_subset/train2017/000000389159.jpg: 2 duplicate labels removed\n",
            "\u001b[34m\u001b[1mtrain: \u001b[0mWARNING ⚠️ /content/extracted_files/coco2017_subset/train2017/000000389542.jpg: 3 duplicate labels removed\n",
            "\u001b[34m\u001b[1mtrain: \u001b[0mWARNING ⚠️ /content/extracted_files/coco2017_subset/train2017/000000390524.jpg: 1 duplicate labels removed\n",
            "\u001b[34m\u001b[1mtrain: \u001b[0mWARNING ⚠️ /content/extracted_files/coco2017_subset/train2017/000000391053.jpg: 1 duplicate labels removed\n",
            "\u001b[34m\u001b[1mtrain: \u001b[0mWARNING ⚠️ /content/extracted_files/coco2017_subset/train2017/000000392039.jpg: 1 duplicate labels removed\n",
            "\u001b[34m\u001b[1mtrain: \u001b[0mWARNING ⚠️ /content/extracted_files/coco2017_subset/train2017/000000394322.jpg: 1 duplicate labels removed\n",
            "\u001b[34m\u001b[1mtrain: \u001b[0mWARNING ⚠️ /content/extracted_files/coco2017_subset/train2017/000000395292.jpg: 1 duplicate labels removed\n",
            "\u001b[34m\u001b[1mtrain: \u001b[0mWARNING ⚠️ /content/extracted_files/coco2017_subset/train2017/000000397225.jpg: 1 duplicate labels removed\n",
            "\u001b[34m\u001b[1mtrain: \u001b[0mWARNING ⚠️ /content/extracted_files/coco2017_subset/train2017/000000397268.jpg: 1 duplicate labels removed\n",
            "\u001b[34m\u001b[1mtrain: \u001b[0mWARNING ⚠️ /content/extracted_files/coco2017_subset/train2017/000000400613.jpg: 1 duplicate labels removed\n",
            "\u001b[34m\u001b[1mtrain: \u001b[0mWARNING ⚠️ /content/extracted_files/coco2017_subset/train2017/000000400719.jpg: 1 duplicate labels removed\n",
            "\u001b[34m\u001b[1mtrain: \u001b[0mWARNING ⚠️ /content/extracted_files/coco2017_subset/train2017/000000401551.jpg: 3 duplicate labels removed\n",
            "\u001b[34m\u001b[1mtrain: \u001b[0mWARNING ⚠️ /content/extracted_files/coco2017_subset/train2017/000000402000.jpg: 4 duplicate labels removed\n",
            "\u001b[34m\u001b[1mtrain: \u001b[0mWARNING ⚠️ /content/extracted_files/coco2017_subset/train2017/000000403065.jpg: 2 duplicate labels removed\n",
            "\u001b[34m\u001b[1mtrain: \u001b[0mWARNING ⚠️ /content/extracted_files/coco2017_subset/train2017/000000404964.jpg: 1 duplicate labels removed\n",
            "\u001b[34m\u001b[1mtrain: \u001b[0mWARNING ⚠️ /content/extracted_files/coco2017_subset/train2017/000000405348.jpg: 3 duplicate labels removed\n",
            "\u001b[34m\u001b[1mtrain: \u001b[0mWARNING ⚠️ /content/extracted_files/coco2017_subset/train2017/000000406899.jpg: 1 duplicate labels removed\n",
            "\u001b[34m\u001b[1mtrain: \u001b[0mWARNING ⚠️ /content/extracted_files/coco2017_subset/train2017/000000408722.jpg: 1 duplicate labels removed\n",
            "\u001b[34m\u001b[1mtrain: \u001b[0mWARNING ⚠️ /content/extracted_files/coco2017_subset/train2017/000000409581.jpg: 2 duplicate labels removed\n",
            "\u001b[34m\u001b[1mtrain: \u001b[0mWARNING ⚠️ /content/extracted_files/coco2017_subset/train2017/000000410004.jpg: 4 duplicate labels removed\n",
            "\u001b[34m\u001b[1mtrain: \u001b[0mWARNING ⚠️ /content/extracted_files/coco2017_subset/train2017/000000410979.jpg: 1 duplicate labels removed\n",
            "\u001b[34m\u001b[1mtrain: \u001b[0mWARNING ⚠️ /content/extracted_files/coco2017_subset/train2017/000000411266.jpg: 1 duplicate labels removed\n",
            "\u001b[34m\u001b[1mtrain: \u001b[0mWARNING ⚠️ /content/extracted_files/coco2017_subset/train2017/000000413811.jpg: 1 duplicate labels removed\n",
            "\u001b[34m\u001b[1mtrain: \u001b[0mWARNING ⚠️ /content/extracted_files/coco2017_subset/train2017/000000415723.jpg: 1 duplicate labels removed\n",
            "\u001b[34m\u001b[1mtrain: \u001b[0mWARNING ⚠️ /content/extracted_files/coco2017_subset/train2017/000000416750.jpg: 3 duplicate labels removed\n",
            "\u001b[34m\u001b[1mtrain: \u001b[0mWARNING ⚠️ /content/extracted_files/coco2017_subset/train2017/000000416840.jpg: 1 duplicate labels removed\n",
            "\u001b[34m\u001b[1mtrain: \u001b[0mWARNING ⚠️ /content/extracted_files/coco2017_subset/train2017/000000417144.jpg: 1 duplicate labels removed\n",
            "\u001b[34m\u001b[1mtrain: \u001b[0mWARNING ⚠️ /content/extracted_files/coco2017_subset/train2017/000000418087.jpg: 8 duplicate labels removed\n",
            "\u001b[34m\u001b[1mtrain: \u001b[0mWARNING ⚠️ /content/extracted_files/coco2017_subset/train2017/000000419445.jpg: 1 duplicate labels removed\n",
            "\u001b[34m\u001b[1mtrain: \u001b[0mWARNING ⚠️ /content/extracted_files/coco2017_subset/train2017/000000421146.jpg: 1 duplicate labels removed\n",
            "\u001b[34m\u001b[1mtrain: \u001b[0mWARNING ⚠️ /content/extracted_files/coco2017_subset/train2017/000000423184.jpg: 1 duplicate labels removed\n",
            "\u001b[34m\u001b[1mtrain: \u001b[0mWARNING ⚠️ /content/extracted_files/coco2017_subset/train2017/000000423355.jpg: 1 duplicate labels removed\n",
            "\u001b[34m\u001b[1mtrain: \u001b[0mWARNING ⚠️ /content/extracted_files/coco2017_subset/train2017/000000424439.jpg: 1 duplicate labels removed\n",
            "\u001b[34m\u001b[1mtrain: \u001b[0mWARNING ⚠️ /content/extracted_files/coco2017_subset/train2017/000000424907.jpg: 1 duplicate labels removed\n",
            "\u001b[34m\u001b[1mtrain: \u001b[0mWARNING ⚠️ /content/extracted_files/coco2017_subset/train2017/000000424940.jpg: 4 duplicate labels removed\n",
            "\u001b[34m\u001b[1mtrain: \u001b[0mWARNING ⚠️ /content/extracted_files/coco2017_subset/train2017/000000425369.jpg: 1 duplicate labels removed\n",
            "\u001b[34m\u001b[1mtrain: \u001b[0mWARNING ⚠️ /content/extracted_files/coco2017_subset/train2017/000000425412.jpg: 1 duplicate labels removed\n",
            "\u001b[34m\u001b[1mtrain: \u001b[0mWARNING ⚠️ /content/extracted_files/coco2017_subset/train2017/000000426300.jpg: 2 duplicate labels removed\n",
            "\u001b[34m\u001b[1mtrain: \u001b[0mWARNING ⚠️ /content/extracted_files/coco2017_subset/train2017/000000427384.jpg: 2 duplicate labels removed\n",
            "\u001b[34m\u001b[1mtrain: \u001b[0mWARNING ⚠️ /content/extracted_files/coco2017_subset/train2017/000000428126.jpg: 2 duplicate labels removed\n",
            "\u001b[34m\u001b[1mtrain: \u001b[0mWARNING ⚠️ /content/extracted_files/coco2017_subset/train2017/000000428788.jpg: 1 duplicate labels removed\n",
            "\u001b[34m\u001b[1mtrain: \u001b[0mWARNING ⚠️ /content/extracted_files/coco2017_subset/train2017/000000431569.jpg: 2 duplicate labels removed\n",
            "\u001b[34m\u001b[1mtrain: \u001b[0mWARNING ⚠️ /content/extracted_files/coco2017_subset/train2017/000000432328.jpg: 2 duplicate labels removed\n",
            "\u001b[34m\u001b[1mtrain: \u001b[0mWARNING ⚠️ /content/extracted_files/coco2017_subset/train2017/000000433657.jpg: 2 duplicate labels removed\n",
            "\u001b[34m\u001b[1mtrain: \u001b[0mWARNING ⚠️ /content/extracted_files/coco2017_subset/train2017/000000434644.jpg: 1 duplicate labels removed\n",
            "\u001b[34m\u001b[1mtrain: \u001b[0mWARNING ⚠️ /content/extracted_files/coco2017_subset/train2017/000000435010.jpg: 1 duplicate labels removed\n",
            "\u001b[34m\u001b[1mtrain: \u001b[0mWARNING ⚠️ /content/extracted_files/coco2017_subset/train2017/000000435377.jpg: 1 duplicate labels removed\n",
            "\u001b[34m\u001b[1mtrain: \u001b[0mWARNING ⚠️ /content/extracted_files/coco2017_subset/train2017/000000435718.jpg: 1 duplicate labels removed\n",
            "\u001b[34m\u001b[1mtrain: \u001b[0mWARNING ⚠️ /content/extracted_files/coco2017_subset/train2017/000000436992.jpg: 1 duplicate labels removed\n",
            "\u001b[34m\u001b[1mtrain: \u001b[0mWARNING ⚠️ /content/extracted_files/coco2017_subset/train2017/000000437701.jpg: 1 duplicate labels removed\n",
            "\u001b[34m\u001b[1mtrain: \u001b[0mWARNING ⚠️ /content/extracted_files/coco2017_subset/train2017/000000440903.jpg: 3 duplicate labels removed\n",
            "\u001b[34m\u001b[1mtrain: \u001b[0mWARNING ⚠️ /content/extracted_files/coco2017_subset/train2017/000000441546.jpg: 3 duplicate labels removed\n",
            "\u001b[34m\u001b[1mtrain: \u001b[0mWARNING ⚠️ /content/extracted_files/coco2017_subset/train2017/000000442277.jpg: 1 duplicate labels removed\n",
            "\u001b[34m\u001b[1mtrain: \u001b[0mWARNING ⚠️ /content/extracted_files/coco2017_subset/train2017/000000444537.jpg: 3 duplicate labels removed\n",
            "\u001b[34m\u001b[1mtrain: \u001b[0mWARNING ⚠️ /content/extracted_files/coco2017_subset/train2017/000000444755.jpg: 2 duplicate labels removed\n",
            "\u001b[34m\u001b[1mtrain: \u001b[0mWARNING ⚠️ /content/extracted_files/coco2017_subset/train2017/000000448475.jpg: 2 duplicate labels removed\n",
            "\u001b[34m\u001b[1mtrain: \u001b[0mWARNING ⚠️ /content/extracted_files/coco2017_subset/train2017/000000449657.jpg: 1 duplicate labels removed\n",
            "\u001b[34m\u001b[1mtrain: \u001b[0mWARNING ⚠️ /content/extracted_files/coco2017_subset/train2017/000000449904.jpg: 1 duplicate labels removed\n",
            "\u001b[34m\u001b[1mtrain: \u001b[0mWARNING ⚠️ /content/extracted_files/coco2017_subset/train2017/000000450477.jpg: 1 duplicate labels removed\n",
            "\u001b[34m\u001b[1mtrain: \u001b[0mWARNING ⚠️ /content/extracted_files/coco2017_subset/train2017/000000451550.jpg: 11 duplicate labels removed\n",
            "\u001b[34m\u001b[1mtrain: \u001b[0mWARNING ⚠️ /content/extracted_files/coco2017_subset/train2017/000000451651.jpg: 1 duplicate labels removed\n",
            "\u001b[34m\u001b[1mtrain: \u001b[0mWARNING ⚠️ /content/extracted_files/coco2017_subset/train2017/000000455658.jpg: 1 duplicate labels removed\n",
            "\u001b[34m\u001b[1mtrain: \u001b[0mWARNING ⚠️ /content/extracted_files/coco2017_subset/train2017/000000458519.jpg: 1 duplicate labels removed\n",
            "\u001b[34m\u001b[1mtrain: \u001b[0mWARNING ⚠️ /content/extracted_files/coco2017_subset/train2017/000000458632.jpg: 1 duplicate labels removed\n",
            "\u001b[34m\u001b[1mtrain: \u001b[0mWARNING ⚠️ /content/extracted_files/coco2017_subset/train2017/000000458953.jpg: 3 duplicate labels removed\n",
            "\u001b[34m\u001b[1mtrain: \u001b[0mWARNING ⚠️ /content/extracted_files/coco2017_subset/train2017/000000458970.jpg: 1 duplicate labels removed\n",
            "\u001b[34m\u001b[1mtrain: \u001b[0mWARNING ⚠️ /content/extracted_files/coco2017_subset/train2017/000000460187.jpg: 1 duplicate labels removed\n",
            "\u001b[34m\u001b[1mtrain: \u001b[0mWARNING ⚠️ /content/extracted_files/coco2017_subset/train2017/000000460326.jpg: 1 duplicate labels removed\n",
            "\u001b[34m\u001b[1mtrain: \u001b[0mWARNING ⚠️ /content/extracted_files/coco2017_subset/train2017/000000460339.jpg: 1 duplicate labels removed\n",
            "\u001b[34m\u001b[1mtrain: \u001b[0mWARNING ⚠️ /content/extracted_files/coco2017_subset/train2017/000000461445.jpg: 3 duplicate labels removed\n",
            "\u001b[34m\u001b[1mtrain: \u001b[0mWARNING ⚠️ /content/extracted_files/coco2017_subset/train2017/000000461753.jpg: 3 duplicate labels removed\n",
            "\u001b[34m\u001b[1mtrain: \u001b[0mWARNING ⚠️ /content/extracted_files/coco2017_subset/train2017/000000463060.jpg: 2 duplicate labels removed\n",
            "\u001b[34m\u001b[1mtrain: \u001b[0mWARNING ⚠️ /content/extracted_files/coco2017_subset/train2017/000000463120.jpg: 1 duplicate labels removed\n",
            "\u001b[34m\u001b[1mtrain: \u001b[0mWARNING ⚠️ /content/extracted_files/coco2017_subset/train2017/000000464366.jpg: 1 duplicate labels removed\n",
            "\u001b[34m\u001b[1mtrain: \u001b[0mWARNING ⚠️ /content/extracted_files/coco2017_subset/train2017/000000466196.jpg: 2 duplicate labels removed\n",
            "\u001b[34m\u001b[1mtrain: \u001b[0mWARNING ⚠️ /content/extracted_files/coco2017_subset/train2017/000000468115.jpg: 1 duplicate labels removed\n",
            "\u001b[34m\u001b[1mtrain: \u001b[0mWARNING ⚠️ /content/extracted_files/coco2017_subset/train2017/000000468405.jpg: 1 duplicate labels removed\n",
            "\u001b[34m\u001b[1mtrain: \u001b[0mWARNING ⚠️ /content/extracted_files/coco2017_subset/train2017/000000468997.jpg: 2 duplicate labels removed\n",
            "\u001b[34m\u001b[1mtrain: \u001b[0mWARNING ⚠️ /content/extracted_files/coco2017_subset/train2017/000000469996.jpg: 2 duplicate labels removed\n",
            "\u001b[34m\u001b[1mtrain: \u001b[0mWARNING ⚠️ /content/extracted_files/coco2017_subset/train2017/000000471113.jpg: 1 duplicate labels removed\n",
            "\u001b[34m\u001b[1mtrain: \u001b[0mWARNING ⚠️ /content/extracted_files/coco2017_subset/train2017/000000472233.jpg: 3 duplicate labels removed\n",
            "\u001b[34m\u001b[1mtrain: \u001b[0mWARNING ⚠️ /content/extracted_files/coco2017_subset/train2017/000000472316.jpg: 2 duplicate labels removed\n",
            "\u001b[34m\u001b[1mtrain: \u001b[0mWARNING ⚠️ /content/extracted_files/coco2017_subset/train2017/000000472904.jpg: 1 duplicate labels removed\n",
            "\u001b[34m\u001b[1mtrain: \u001b[0mWARNING ⚠️ /content/extracted_files/coco2017_subset/train2017/000000473069.jpg: 2 duplicate labels removed\n",
            "\u001b[34m\u001b[1mtrain: \u001b[0mWARNING ⚠️ /content/extracted_files/coco2017_subset/train2017/000000473075.jpg: 2 duplicate labels removed\n",
            "\u001b[34m\u001b[1mtrain: \u001b[0mWARNING ⚠️ /content/extracted_files/coco2017_subset/train2017/000000473190.jpg: 4 duplicate labels removed\n",
            "\u001b[34m\u001b[1mtrain: \u001b[0mWARNING ⚠️ /content/extracted_files/coco2017_subset/train2017/000000474461.jpg: 1 duplicate labels removed\n",
            "\u001b[34m\u001b[1mtrain: \u001b[0mWARNING ⚠️ /content/extracted_files/coco2017_subset/train2017/000000475766.jpg: 1 duplicate labels removed\n",
            "\u001b[34m\u001b[1mtrain: \u001b[0mWARNING ⚠️ /content/extracted_files/coco2017_subset/train2017/000000476188.jpg: 2 duplicate labels removed\n",
            "\u001b[34m\u001b[1mtrain: \u001b[0mWARNING ⚠️ /content/extracted_files/coco2017_subset/train2017/000000477415.jpg: 1 duplicate labels removed\n",
            "\u001b[34m\u001b[1mtrain: \u001b[0mWARNING ⚠️ /content/extracted_files/coco2017_subset/train2017/000000478636.jpg: 2 duplicate labels removed\n",
            "\u001b[34m\u001b[1mtrain: \u001b[0mWARNING ⚠️ /content/extracted_files/coco2017_subset/train2017/000000479350.jpg: 2 duplicate labels removed\n",
            "\u001b[34m\u001b[1mtrain: \u001b[0mWARNING ⚠️ /content/extracted_files/coco2017_subset/train2017/000000480322.jpg: 1 duplicate labels removed\n",
            "\u001b[34m\u001b[1mtrain: \u001b[0mWARNING ⚠️ /content/extracted_files/coco2017_subset/train2017/000000483442.jpg: 2 duplicate labels removed\n",
            "\u001b[34m\u001b[1mtrain: \u001b[0mWARNING ⚠️ /content/extracted_files/coco2017_subset/train2017/000000486899.jpg: 2 duplicate labels removed\n",
            "\u001b[34m\u001b[1mtrain: \u001b[0mWARNING ⚠️ /content/extracted_files/coco2017_subset/train2017/000000487665.jpg: 1 duplicate labels removed\n",
            "\u001b[34m\u001b[1mtrain: \u001b[0mWARNING ⚠️ /content/extracted_files/coco2017_subset/train2017/000000490546.jpg: 2 duplicate labels removed\n",
            "\u001b[34m\u001b[1mtrain: \u001b[0mWARNING ⚠️ /content/extracted_files/coco2017_subset/train2017/000000490875.jpg: 1 duplicate labels removed\n",
            "\u001b[34m\u001b[1mtrain: \u001b[0mWARNING ⚠️ /content/extracted_files/coco2017_subset/train2017/000000491000.jpg: 1 duplicate labels removed\n",
            "\u001b[34m\u001b[1mtrain: \u001b[0mWARNING ⚠️ /content/extracted_files/coco2017_subset/train2017/000000491879.jpg: 4 duplicate labels removed\n",
            "\u001b[34m\u001b[1mtrain: \u001b[0mWARNING ⚠️ /content/extracted_files/coco2017_subset/train2017/000000492540.jpg: 6 duplicate labels removed\n",
            "\u001b[34m\u001b[1mtrain: \u001b[0mWARNING ⚠️ /content/extracted_files/coco2017_subset/train2017/000000493398.jpg: 1 duplicate labels removed\n",
            "\u001b[34m\u001b[1mtrain: \u001b[0mWARNING ⚠️ /content/extracted_files/coco2017_subset/train2017/000000493815.jpg: 1 duplicate labels removed\n",
            "\u001b[34m\u001b[1mtrain: \u001b[0mWARNING ⚠️ /content/extracted_files/coco2017_subset/train2017/000000494592.jpg: 1 duplicate labels removed\n",
            "\u001b[34m\u001b[1mtrain: \u001b[0mWARNING ⚠️ /content/extracted_files/coco2017_subset/train2017/000000497915.jpg: 1 duplicate labels removed\n",
            "\u001b[34m\u001b[1mtrain: \u001b[0mWARNING ⚠️ /content/extracted_files/coco2017_subset/train2017/000000498630.jpg: 2 duplicate labels removed\n",
            "\u001b[34m\u001b[1mtrain: \u001b[0mWARNING ⚠️ /content/extracted_files/coco2017_subset/train2017/000000502001.jpg: 1 duplicate labels removed\n",
            "\u001b[34m\u001b[1mtrain: \u001b[0mWARNING ⚠️ /content/extracted_files/coco2017_subset/train2017/000000502089.jpg: 5 duplicate labels removed\n",
            "\u001b[34m\u001b[1mtrain: \u001b[0mWARNING ⚠️ /content/extracted_files/coco2017_subset/train2017/000000503832.jpg: 1 duplicate labels removed\n",
            "\u001b[34m\u001b[1mtrain: \u001b[0mWARNING ⚠️ /content/extracted_files/coco2017_subset/train2017/000000504160.jpg: 1 duplicate labels removed\n",
            "\u001b[34m\u001b[1mtrain: \u001b[0mWARNING ⚠️ /content/extracted_files/coco2017_subset/train2017/000000504599.jpg: 1 duplicate labels removed\n",
            "\u001b[34m\u001b[1mtrain: \u001b[0mWARNING ⚠️ /content/extracted_files/coco2017_subset/train2017/000000505934.jpg: 1 duplicate labels removed\n",
            "\u001b[34m\u001b[1mtrain: \u001b[0mWARNING ⚠️ /content/extracted_files/coco2017_subset/train2017/000000508104.jpg: 1 duplicate labels removed\n",
            "\u001b[34m\u001b[1mtrain: \u001b[0mWARNING ⚠️ /content/extracted_files/coco2017_subset/train2017/000000508801.jpg: 1 duplicate labels removed\n",
            "\u001b[34m\u001b[1mtrain: \u001b[0mWARNING ⚠️ /content/extracted_files/coco2017_subset/train2017/000000511693.jpg: 1 duplicate labels removed\n",
            "\u001b[34m\u001b[1mtrain: \u001b[0mWARNING ⚠️ /content/extracted_files/coco2017_subset/train2017/000000511869.jpg: 6 duplicate labels removed\n",
            "\u001b[34m\u001b[1mtrain: \u001b[0mWARNING ⚠️ /content/extracted_files/coco2017_subset/train2017/000000511874.jpg: 2 duplicate labels removed\n",
            "\u001b[34m\u001b[1mtrain: \u001b[0mWARNING ⚠️ /content/extracted_files/coco2017_subset/train2017/000000512797.jpg: 1 duplicate labels removed\n",
            "\u001b[34m\u001b[1mtrain: \u001b[0mWARNING ⚠️ /content/extracted_files/coco2017_subset/train2017/000000512940.jpg: 1 duplicate labels removed\n",
            "\u001b[34m\u001b[1mtrain: \u001b[0mWARNING ⚠️ /content/extracted_files/coco2017_subset/train2017/000000514049.jpg: 2 duplicate labels removed\n",
            "\u001b[34m\u001b[1mtrain: \u001b[0mWARNING ⚠️ /content/extracted_files/coco2017_subset/train2017/000000515181.jpg: 1 duplicate labels removed\n",
            "\u001b[34m\u001b[1mtrain: \u001b[0mWARNING ⚠️ /content/extracted_files/coco2017_subset/train2017/000000515485.jpg: 3 duplicate labels removed\n",
            "\u001b[34m\u001b[1mtrain: \u001b[0mWARNING ⚠️ /content/extracted_files/coco2017_subset/train2017/000000517017.jpg: 1 duplicate labels removed\n",
            "\u001b[34m\u001b[1mtrain: \u001b[0mWARNING ⚠️ /content/extracted_files/coco2017_subset/train2017/000000518341.jpg: 1 duplicate labels removed\n",
            "\u001b[34m\u001b[1mtrain: \u001b[0mWARNING ⚠️ /content/extracted_files/coco2017_subset/train2017/000000518774.jpg: 2 duplicate labels removed\n",
            "\u001b[34m\u001b[1mtrain: \u001b[0mWARNING ⚠️ /content/extracted_files/coco2017_subset/train2017/000000518858.jpg: 3 duplicate labels removed\n",
            "\u001b[34m\u001b[1mtrain: \u001b[0mWARNING ⚠️ /content/extracted_files/coco2017_subset/train2017/000000521775.jpg: 1 duplicate labels removed\n",
            "\u001b[34m\u001b[1mtrain: \u001b[0mWARNING ⚠️ /content/extracted_files/coco2017_subset/train2017/000000522941.jpg: 1 duplicate labels removed\n",
            "\u001b[34m\u001b[1mtrain: \u001b[0mWARNING ⚠️ /content/extracted_files/coco2017_subset/train2017/000000524595.jpg: 2 duplicate labels removed\n",
            "\u001b[34m\u001b[1mtrain: \u001b[0mWARNING ⚠️ /content/extracted_files/coco2017_subset/train2017/000000525024.jpg: 2 duplicate labels removed\n",
            "\u001b[34m\u001b[1mtrain: \u001b[0mWARNING ⚠️ /content/extracted_files/coco2017_subset/train2017/000000525667.jpg: 1 duplicate labels removed\n",
            "\u001b[34m\u001b[1mtrain: \u001b[0mWARNING ⚠️ /content/extracted_files/coco2017_subset/train2017/000000526247.jpg: 1 duplicate labels removed\n",
            "\u001b[34m\u001b[1mtrain: \u001b[0mWARNING ⚠️ /content/extracted_files/coco2017_subset/train2017/000000528230.jpg: 4 duplicate labels removed\n",
            "\u001b[34m\u001b[1mtrain: \u001b[0mWARNING ⚠️ /content/extracted_files/coco2017_subset/train2017/000000528467.jpg: 6 duplicate labels removed\n",
            "\u001b[34m\u001b[1mtrain: \u001b[0mWARNING ⚠️ /content/extracted_files/coco2017_subset/train2017/000000529314.jpg: 2 duplicate labels removed\n",
            "\u001b[34m\u001b[1mtrain: \u001b[0mWARNING ⚠️ /content/extracted_files/coco2017_subset/train2017/000000530127.jpg: 1 duplicate labels removed\n",
            "\u001b[34m\u001b[1mtrain: \u001b[0mWARNING ⚠️ /content/extracted_files/coco2017_subset/train2017/000000533506.jpg: 1 duplicate labels removed\n",
            "\u001b[34m\u001b[1mtrain: \u001b[0mWARNING ⚠️ /content/extracted_files/coco2017_subset/train2017/000000533684.jpg: 1 duplicate labels removed\n",
            "\u001b[34m\u001b[1mtrain: \u001b[0mWARNING ⚠️ /content/extracted_files/coco2017_subset/train2017/000000534195.jpg: 1 duplicate labels removed\n",
            "\u001b[34m\u001b[1mtrain: \u001b[0mWARNING ⚠️ /content/extracted_files/coco2017_subset/train2017/000000534751.jpg: 1 duplicate labels removed\n",
            "\u001b[34m\u001b[1mtrain: \u001b[0mWARNING ⚠️ /content/extracted_files/coco2017_subset/train2017/000000537379.jpg: 1 duplicate labels removed\n",
            "\u001b[34m\u001b[1mtrain: \u001b[0mWARNING ⚠️ /content/extracted_files/coco2017_subset/train2017/000000538615.jpg: 1 duplicate labels removed\n",
            "\u001b[34m\u001b[1mtrain: \u001b[0mWARNING ⚠️ /content/extracted_files/coco2017_subset/train2017/000000539098.jpg: 1 duplicate labels removed\n",
            "\u001b[34m\u001b[1mtrain: \u001b[0mWARNING ⚠️ /content/extracted_files/coco2017_subset/train2017/000000539376.jpg: 2 duplicate labels removed\n",
            "\u001b[34m\u001b[1mtrain: \u001b[0mWARNING ⚠️ /content/extracted_files/coco2017_subset/train2017/000000539430.jpg: 1 duplicate labels removed\n",
            "\u001b[34m\u001b[1mtrain: \u001b[0mWARNING ⚠️ /content/extracted_files/coco2017_subset/train2017/000000539498.jpg: 2 duplicate labels removed\n",
            "\u001b[34m\u001b[1mtrain: \u001b[0mWARNING ⚠️ /content/extracted_files/coco2017_subset/train2017/000000541970.jpg: 1 duplicate labels removed\n",
            "\u001b[34m\u001b[1mtrain: \u001b[0mWARNING ⚠️ /content/extracted_files/coco2017_subset/train2017/000000542514.jpg: 1 duplicate labels removed\n",
            "\u001b[34m\u001b[1mtrain: \u001b[0mWARNING ⚠️ /content/extracted_files/coco2017_subset/train2017/000000543513.jpg: 1 duplicate labels removed\n",
            "\u001b[34m\u001b[1mtrain: \u001b[0mWARNING ⚠️ /content/extracted_files/coco2017_subset/train2017/000000543830.jpg: 1 duplicate labels removed\n",
            "\u001b[34m\u001b[1mtrain: \u001b[0mWARNING ⚠️ /content/extracted_files/coco2017_subset/train2017/000000544312.jpg: 1 duplicate labels removed\n",
            "\u001b[34m\u001b[1mtrain: \u001b[0mWARNING ⚠️ /content/extracted_files/coco2017_subset/train2017/000000544322.jpg: 3 duplicate labels removed\n",
            "\u001b[34m\u001b[1mtrain: \u001b[0mWARNING ⚠️ /content/extracted_files/coco2017_subset/train2017/000000549188.jpg: 2 duplicate labels removed\n",
            "\u001b[34m\u001b[1mtrain: \u001b[0mWARNING ⚠️ /content/extracted_files/coco2017_subset/train2017/000000549496.jpg: 1 duplicate labels removed\n",
            "\u001b[34m\u001b[1mtrain: \u001b[0mWARNING ⚠️ /content/extracted_files/coco2017_subset/train2017/000000553202.jpg: 2 duplicate labels removed\n",
            "\u001b[34m\u001b[1mtrain: \u001b[0mWARNING ⚠️ /content/extracted_files/coco2017_subset/train2017/000000553498.jpg: 1 duplicate labels removed\n",
            "\u001b[34m\u001b[1mtrain: \u001b[0mWARNING ⚠️ /content/extracted_files/coco2017_subset/train2017/000000554273.jpg: 4 duplicate labels removed\n",
            "\u001b[34m\u001b[1mtrain: \u001b[0mWARNING ⚠️ /content/extracted_files/coco2017_subset/train2017/000000554852.jpg: 1 duplicate labels removed\n",
            "\u001b[34m\u001b[1mtrain: \u001b[0mWARNING ⚠️ /content/extracted_files/coco2017_subset/train2017/000000555953.jpg: 1 duplicate labels removed\n",
            "\u001b[34m\u001b[1mtrain: \u001b[0mWARNING ⚠️ /content/extracted_files/coco2017_subset/train2017/000000563009.jpg: 2 duplicate labels removed\n",
            "\u001b[34m\u001b[1mtrain: \u001b[0mWARNING ⚠️ /content/extracted_files/coco2017_subset/train2017/000000563098.jpg: 1 duplicate labels removed\n",
            "\u001b[34m\u001b[1mtrain: \u001b[0mWARNING ⚠️ /content/extracted_files/coco2017_subset/train2017/000000565047.jpg: 1 duplicate labels removed\n",
            "\u001b[34m\u001b[1mtrain: \u001b[0mWARNING ⚠️ /content/extracted_files/coco2017_subset/train2017/000000565446.jpg: 2 duplicate labels removed\n",
            "\u001b[34m\u001b[1mtrain: \u001b[0mWARNING ⚠️ /content/extracted_files/coco2017_subset/train2017/000000568101.jpg: 1 duplicate labels removed\n",
            "\u001b[34m\u001b[1mtrain: \u001b[0mWARNING ⚠️ /content/extracted_files/coco2017_subset/train2017/000000570285.jpg: 1 duplicate labels removed\n",
            "\u001b[34m\u001b[1mtrain: \u001b[0mWARNING ⚠️ /content/extracted_files/coco2017_subset/train2017/000000572958.jpg: 1 duplicate labels removed\n",
            "\u001b[34m\u001b[1mtrain: \u001b[0mWARNING ⚠️ /content/extracted_files/coco2017_subset/train2017/000000573963.jpg: 2 duplicate labels removed\n",
            "\u001b[34m\u001b[1mtrain: \u001b[0mWARNING ⚠️ /content/extracted_files/coco2017_subset/train2017/000000573971.jpg: 5 duplicate labels removed\n",
            "\u001b[34m\u001b[1mtrain: \u001b[0mWARNING ⚠️ /content/extracted_files/coco2017_subset/train2017/000000574487.jpg: 1 duplicate labels removed\n",
            "\u001b[34m\u001b[1mtrain: \u001b[0mWARNING ⚠️ /content/extracted_files/coco2017_subset/train2017/000000574792.jpg: 1 duplicate labels removed\n",
            "\u001b[34m\u001b[1mtrain: \u001b[0mWARNING ⚠️ /content/extracted_files/coco2017_subset/train2017/000000575590.jpg: 1 duplicate labels removed\n",
            "\u001b[34m\u001b[1mtrain: \u001b[0mWARNING ⚠️ /content/extracted_files/coco2017_subset/train2017/000000577940.jpg: 2 duplicate labels removed\n",
            "\u001b[34m\u001b[1mtrain: \u001b[0mWARNING ⚠️ /content/extracted_files/coco2017_subset/train2017/000000578652.jpg: 1 duplicate labels removed\n",
            "\u001b[34m\u001b[1mtrain: \u001b[0mWARNING ⚠️ /content/extracted_files/coco2017_subset/train2017/000000578888.jpg: 2 duplicate labels removed\n",
            "\u001b[34m\u001b[1mtrain: \u001b[0mWARNING ⚠️ /content/extracted_files/coco2017_subset/train2017/000000579291.jpg: 1 duplicate labels removed\n",
            "\u001b[34m\u001b[1mtrain: \u001b[0mWARNING ⚠️ /content/extracted_files/coco2017_subset/train2017/000000579415.jpg: 1 duplicate labels removed\n",
            "\u001b[34m\u001b[1mtrain: \u001b[0mWARNING ⚠️ /content/extracted_files/coco2017_subset/train2017/000000579419.jpg: 3 duplicate labels removed\n",
            "\u001b[34m\u001b[1mtrain: \u001b[0mWARNING ⚠️ /content/extracted_files/coco2017_subset/train2017/000000581245.jpg: 1 duplicate labels removed\n",
            "\u001b[34m\u001b[1mtrain: \u001b[0mWARNING ⚠️ /content/extracted_files/coco2017_subset/train2017/000000581654.jpg: 1 duplicate labels removed\n"
          ]
        },
        {
          "output_type": "stream",
          "name": "stderr",
          "text": [
            "\n"
          ]
        },
        {
          "output_type": "stream",
          "name": "stdout",
          "text": [
            "\u001b[34m\u001b[1mtrain: \u001b[0mNew cache created: /content/extracted_files/coco2017_subset/train2017.cache\n",
            "\u001b[34m\u001b[1malbumentations: \u001b[0mBlur(p=0.01, blur_limit=(3, 7)), MedianBlur(p=0.01, blur_limit=(3, 7)), ToGray(p=0.01, num_output_channels=3, method='weighted_average'), CLAHE(p=0.01, clip_limit=(1.0, 4.0), tile_grid_size=(8, 8))\n"
          ]
        },
        {
          "output_type": "stream",
          "name": "stderr",
          "text": [
            "\u001b[34m\u001b[1mval: \u001b[0mScanning /content/extracted_files/coco2017_subset/val2017... 1237 images, 13 backgrounds, 0 corrupt: 100%|██████████| 1250/1250 [00:03<00:00, 358.66it/s]"
          ]
        },
        {
          "output_type": "stream",
          "name": "stdout",
          "text": [
            "\u001b[34m\u001b[1mval: \u001b[0mWARNING ⚠️ /content/extracted_files/coco2017_subset/val2017/000000036494.jpg: 2 duplicate labels removed\n",
            "\u001b[34m\u001b[1mval: \u001b[0mWARNING ⚠️ /content/extracted_files/coco2017_subset/val2017/000000059635.jpg: 3 duplicate labels removed\n",
            "\u001b[34m\u001b[1mval: \u001b[0mWARNING ⚠️ /content/extracted_files/coco2017_subset/val2017/000000088040.jpg: 3 duplicate labels removed\n",
            "\u001b[34m\u001b[1mval: \u001b[0mWARNING ⚠️ /content/extracted_files/coco2017_subset/val2017/000000146155.jpg: 3 duplicate labels removed\n",
            "\u001b[34m\u001b[1mval: \u001b[0mWARNING ⚠️ /content/extracted_files/coco2017_subset/val2017/000000156278.jpg: 1 duplicate labels removed\n",
            "\u001b[34m\u001b[1mval: \u001b[0mWARNING ⚠️ /content/extracted_files/coco2017_subset/val2017/000000178982.jpg: 1 duplicate labels removed\n",
            "\u001b[34m\u001b[1mval: \u001b[0mWARNING ⚠️ /content/extracted_files/coco2017_subset/val2017/000000187144.jpg: 1 duplicate labels removed\n",
            "\u001b[34m\u001b[1mval: \u001b[0mWARNING ⚠️ /content/extracted_files/coco2017_subset/val2017/000000192670.jpg: 1 duplicate labels removed\n",
            "\u001b[34m\u001b[1mval: \u001b[0mWARNING ⚠️ /content/extracted_files/coco2017_subset/val2017/000000207844.jpg: 2 duplicate labels removed\n",
            "\u001b[34m\u001b[1mval: \u001b[0mWARNING ⚠️ /content/extracted_files/coco2017_subset/val2017/000000254814.jpg: 3 duplicate labels removed\n",
            "\u001b[34m\u001b[1mval: \u001b[0mWARNING ⚠️ /content/extracted_files/coco2017_subset/val2017/000000307074.jpg: 1 duplicate labels removed\n",
            "\u001b[34m\u001b[1mval: \u001b[0mWARNING ⚠️ /content/extracted_files/coco2017_subset/val2017/000000319100.jpg: 1 duplicate labels removed\n",
            "\u001b[34m\u001b[1mval: \u001b[0mWARNING ⚠️ /content/extracted_files/coco2017_subset/val2017/000000376322.jpg: 1 duplicate labels removed\n",
            "\u001b[34m\u001b[1mval: \u001b[0mWARNING ⚠️ /content/extracted_files/coco2017_subset/val2017/000000405279.jpg: 3 duplicate labels removed\n",
            "\u001b[34m\u001b[1mval: \u001b[0mWARNING ⚠️ /content/extracted_files/coco2017_subset/val2017/000000411530.jpg: 1 duplicate labels removed\n",
            "\u001b[34m\u001b[1mval: \u001b[0mWARNING ⚠️ /content/extracted_files/coco2017_subset/val2017/000000434247.jpg: 2 duplicate labels removed\n",
            "\u001b[34m\u001b[1mval: \u001b[0mWARNING ⚠️ /content/extracted_files/coco2017_subset/val2017/000000465585.jpg: 1 duplicate labels removed\n",
            "\u001b[34m\u001b[1mval: \u001b[0mWARNING ⚠️ /content/extracted_files/coco2017_subset/val2017/000000509014.jpg: 1 duplicate labels removed\n",
            "\u001b[34m\u001b[1mval: \u001b[0mWARNING ⚠️ /content/extracted_files/coco2017_subset/val2017/000000509260.jpg: 1 duplicate labels removed\n",
            "\u001b[34m\u001b[1mval: \u001b[0mWARNING ⚠️ /content/extracted_files/coco2017_subset/val2017/000000546823.jpg: 3 duplicate labels removed\n"
          ]
        },
        {
          "output_type": "stream",
          "name": "stderr",
          "text": [
            "\n"
          ]
        },
        {
          "output_type": "stream",
          "name": "stdout",
          "text": [
            "\u001b[34m\u001b[1mval: \u001b[0mNew cache created: /content/extracted_files/coco2017_subset/val2017.cache\n",
            "Plotting labels to runs/segment/train2/labels.jpg... \n",
            "\u001b[34m\u001b[1moptimizer:\u001b[0m 'optimizer=auto' found, ignoring 'lr0=0.01' and 'momentum=0.937' and determining best 'optimizer', 'lr0' and 'momentum' automatically... \n",
            "\u001b[34m\u001b[1moptimizer:\u001b[0m AdamW(lr=0.000119, momentum=0.9) with parameter groups 90 weight(decay=0.0), 101 weight(decay=0.0005), 100 bias(decay=0.0)\n",
            "\u001b[34m\u001b[1mTensorBoard: \u001b[0mmodel graph visualization added ✅\n",
            "Image sizes 640 train, 640 val\n",
            "Using 2 dataloader workers\n",
            "Logging results to \u001b[1mruns/segment/train2\u001b[0m\n",
            "Starting training for 3 epochs...\n",
            "\n",
            "      Epoch    GPU_mem   box_loss   seg_loss   cls_loss   dfl_loss  Instances       Size\n"
          ]
        },
        {
          "output_type": "stream",
          "name": "stderr",
          "text": [
            "        1/3      2.06G      1.834      3.584      2.976      1.993         28        640: 100%|██████████| 14786/14786 [40:43<00:00,  6.05it/s]\n",
            "                 Class     Images  Instances      Box(P          R      mAP50  mAP50-95)     Mask(P          R      mAP50  mAP50-95): 100%|██████████| 313/313 [00:31<00:00,  9.85it/s]\n"
          ]
        },
        {
          "output_type": "stream",
          "name": "stdout",
          "text": [
            "                   all       1250      11125       0.35      0.266      0.244      0.136      0.364      0.139      0.129     0.0495\n",
            "\n",
            "      Epoch    GPU_mem   box_loss   seg_loss   cls_loss   dfl_loss  Instances       Size\n"
          ]
        },
        {
          "output_type": "stream",
          "name": "stderr",
          "text": [
            "        2/3      2.47G      1.695      3.358      2.748      1.913          3        640: 100%|██████████| 14786/14786 [39:53<00:00,  6.18it/s]\n",
            "                 Class     Images  Instances      Box(P          R      mAP50  mAP50-95)     Mask(P          R      mAP50  mAP50-95): 100%|██████████| 313/313 [00:30<00:00, 10.10it/s]\n"
          ]
        },
        {
          "output_type": "stream",
          "name": "stdout",
          "text": [
            "                   all       1250      11125      0.355      0.289      0.261      0.145      0.339      0.125      0.117     0.0475\n",
            "\n",
            "      Epoch    GPU_mem   box_loss   seg_loss   cls_loss   dfl_loss  Instances       Size\n"
          ]
        },
        {
          "output_type": "stream",
          "name": "stderr",
          "text": [
            "        3/3      2.49G      1.642      3.309      2.665      1.873         21        640: 100%|██████████| 14786/14786 [39:44<00:00,  6.20it/s]\n",
            "                 Class     Images  Instances      Box(P          R      mAP50  mAP50-95)     Mask(P          R      mAP50  mAP50-95): 100%|██████████| 313/313 [00:31<00:00,  9.99it/s]\n"
          ]
        },
        {
          "output_type": "stream",
          "name": "stdout",
          "text": [
            "                   all       1250      11125      0.365      0.297      0.273      0.155      0.317       0.13      0.121     0.0476\n",
            "\n",
            "3 epochs completed in 2.035 hours.\n",
            "Optimizer stripped from runs/segment/train2/weights/last.pt, 6.0MB\n",
            "Optimizer stripped from runs/segment/train2/weights/best.pt, 6.0MB\n",
            "\n",
            "Validating runs/segment/train2/weights/best.pt...\n",
            "Ultralytics 8.3.98 🚀 Python-3.11.11 torch-2.6.0+cu124 CUDA:0 (Tesla T4, 15095MiB)\n",
            "YOLO11n-seg summary (fused): 113 layers, 2,868,664 parameters, 0 gradients, 10.4 GFLOPs\n"
          ]
        },
        {
          "output_type": "stream",
          "name": "stderr",
          "text": [
            "\r                 Class     Images  Instances      Box(P          R      mAP50  mAP50-95)     Mask(P          R      mAP50  mAP50-95):   0%|          | 0/313 [00:00<?, ?it/s]"
          ]
        },
        {
          "output_type": "stream",
          "name": "stdout",
          "text": [
            "WARNING ⚠️ Limiting validation plots to first 50 items per image for speed...\n",
            "WARNING ⚠️ Limiting validation plots to first 50 items per image for speed...\n",
            "WARNING ⚠️ Limiting validation plots to first 50 items per image for speed...\n",
            "WARNING ⚠️ Limiting validation plots to first 50 items per image for speed...\n"
          ]
        },
        {
          "output_type": "stream",
          "name": "stderr",
          "text": [
            "\r                 Class     Images  Instances      Box(P          R      mAP50  mAP50-95)     Mask(P          R      mAP50  mAP50-95):   0%|          | 1/313 [00:00<00:33,  9.34it/s]"
          ]
        },
        {
          "output_type": "stream",
          "name": "stdout",
          "text": [
            "WARNING ⚠️ Limiting validation plots to first 50 items per image for speed...\n",
            "WARNING ⚠️ Limiting validation plots to first 50 items per image for speed...\n",
            "WARNING ⚠️ Limiting validation plots to first 50 items per image for speed...\n",
            "WARNING ⚠️ Limiting validation plots to first 50 items per image for speed...\n"
          ]
        },
        {
          "output_type": "stream",
          "name": "stderr",
          "text": [
            "\r                 Class     Images  Instances      Box(P          R      mAP50  mAP50-95)     Mask(P          R      mAP50  mAP50-95):   1%|          | 2/313 [00:00<01:06,  4.69it/s]"
          ]
        },
        {
          "output_type": "stream",
          "name": "stdout",
          "text": [
            "WARNING ⚠️ Limiting validation plots to first 50 items per image for speed...\n",
            "WARNING ⚠️ Limiting validation plots to first 50 items per image for speed...\n",
            "WARNING ⚠️ Limiting validation plots to first 50 items per image for speed...\n",
            "WARNING ⚠️ Limiting validation plots to first 50 items per image for speed...\n"
          ]
        },
        {
          "output_type": "stream",
          "name": "stderr",
          "text": [
            "                 Class     Images  Instances      Box(P          R      mAP50  mAP50-95)     Mask(P          R      mAP50  mAP50-95): 100%|██████████| 313/313 [00:24<00:00, 12.70it/s]\n"
          ]
        },
        {
          "output_type": "stream",
          "name": "stdout",
          "text": [
            "                   all       1250      11125      0.368      0.297      0.273      0.155      0.316      0.131      0.121     0.0476\n",
            "                person        670       3235      0.546      0.286      0.364      0.202       0.46     0.0971     0.0872     0.0271\n",
            "               bicycle         34        102      0.377      0.225      0.206      0.107      0.326     0.0784     0.0668     0.0178\n",
            "                   car        132        566      0.413      0.175      0.214     0.0925      0.406     0.0265     0.0241    0.00855\n",
            "            motorcycle         36        124      0.433       0.29      0.295      0.162      0.403      0.129      0.106     0.0464\n",
            "              airplane         23         46      0.262      0.609      0.435      0.232      0.172      0.152     0.0941     0.0402\n",
            "                   bus         43         61      0.652      0.554      0.621      0.479      0.649       0.41      0.445      0.176\n",
            "                 train         48         70       0.63      0.614      0.619      0.426      0.691      0.514      0.462        0.2\n",
            "                 truck         56        105      0.592      0.114      0.245      0.132      0.705     0.0911      0.113     0.0418\n",
            "                  boat         30        121      0.421      0.349      0.316      0.156      0.177     0.0331     0.0226     0.0125\n",
            "         traffic light         53        182       0.25      0.341      0.186     0.0857     0.0502      0.033     0.0267    0.00843\n",
            "          fire hydrant         24         26      0.311      0.654      0.536      0.324      0.362      0.423      0.393      0.178\n",
            "             stop sign         18         19      0.483      0.526      0.487      0.442      0.657      0.368      0.424      0.218\n",
            "         parking meter         11         24      0.385      0.209      0.273      0.188      0.467      0.167      0.175     0.0942\n",
            "                 bench         55        115       0.37      0.189       0.19     0.0916      0.179     0.0522     0.0316    0.00609\n",
            "                  bird         35        153      0.327      0.163      0.157     0.0698      0.358     0.0784     0.0712     0.0215\n",
            "                   cat         57         65      0.733       0.72      0.779      0.553      0.789      0.576      0.655      0.299\n",
            "                   dog         41         55      0.465      0.455      0.465      0.298      0.609        0.4      0.446      0.188\n",
            "                 horse         40        127      0.424      0.378      0.356       0.21      0.443      0.181      0.153     0.0527\n",
            "                 sheep         15        144      0.247      0.542      0.342      0.151      0.106      0.118     0.0475     0.0092\n",
            "                   cow         25        100      0.324       0.35      0.314      0.169      0.255       0.14     0.0889     0.0385\n",
            "              elephant         15         59       0.41      0.576      0.527      0.339      0.499      0.254      0.275        0.1\n",
            "                  bear         13         18      0.611        0.5      0.513       0.42       0.55      0.333      0.398      0.235\n",
            "                 zebra         25         76       0.37      0.697      0.552      0.285      0.373      0.276      0.241      0.103\n",
            "               giraffe         29         84      0.413       0.62      0.549      0.357      0.377      0.286      0.252     0.0894\n",
            "              backpack         52         96          0          0     0.0264     0.0101          0          0    0.00222   0.000654\n",
            "              umbrella         35        119       0.43      0.244      0.255      0.132      0.484      0.101      0.114     0.0564\n",
            "               handbag         81        176     0.0991     0.0114     0.0496     0.0171      0.249    0.00568    0.00913    0.00196\n",
            "                   tie         46        110      0.311      0.136      0.119     0.0453      0.373     0.0636      0.046     0.0154\n",
            "              suitcase         29        116      0.247      0.293      0.181     0.0823      0.148     0.0603     0.0222    0.00711\n",
            "               frisbee         16         34     0.0593     0.0882     0.0643     0.0293      0.036     0.0294     0.0282    0.00601\n",
            "                  skis         32        130      0.326      0.285      0.206     0.0716          0          0          0          0\n",
            "             snowboard         13         18      0.407      0.167       0.22      0.128      0.505     0.0556     0.0552     0.0166\n",
            "           sports ball         50        100      0.184       0.16     0.0973     0.0376     0.0738       0.03    0.00694    0.00276\n",
            "                  kite         23        128      0.262      0.289      0.228     0.0901     0.0201    0.00781    0.00731    0.00316\n",
            "          baseball bat         22         40      0.178      0.125      0.123     0.0458     0.0984      0.025    0.00714    0.00277\n",
            "        baseball glove         20         24      0.235      0.292      0.187     0.0755     0.0891     0.0417      0.051     0.0277\n",
            "            skateboard         27         50      0.304      0.366      0.311      0.151     0.0598       0.04     0.0257    0.00266\n",
            "             surfboard         43        125      0.362      0.159       0.18     0.0852       0.21     0.0278     0.0274    0.00957\n",
            "         tennis racket         45         87       0.28      0.264      0.191     0.0707       0.49      0.126      0.101     0.0303\n",
            "                bottle         99        261      0.237      0.103     0.0851      0.036      0.119     0.0268     0.0209    0.00666\n",
            "            wine glass         29        101      0.255      0.099     0.0933     0.0406          0          0    0.00143   0.000281\n",
            "                   cup        106        296      0.236      0.101      0.107     0.0502      0.224     0.0405     0.0297     0.0123\n",
            "                  fork         37         57      0.269      0.211      0.155     0.0819     0.0928     0.0351     0.0405    0.00476\n",
            "                 knife         44        116      0.099     0.0125     0.0377     0.0164          0          0          0          0\n",
            "                 spoon         45         89      0.497     0.0445      0.059     0.0374       0.34     0.0112    0.00864    0.00105\n",
            "                  bowl         83        199      0.389      0.191      0.201      0.115      0.499      0.116     0.0978     0.0378\n",
            "                banana         22         78      0.405      0.244      0.231     0.0897     0.0688     0.0128     0.0115    0.00298\n",
            "                 apple         22         61      0.269      0.115      0.164      0.067      0.301     0.0428     0.0345     0.0094\n",
            "              sandwich         24         50      0.427      0.299      0.253      0.109      0.429       0.16      0.157     0.0469\n",
            "                orange         17         41      0.329      0.122      0.184     0.0832      0.321     0.0732     0.0612     0.0281\n",
            "              broccoli         14        120      0.387      0.192      0.212     0.0705      0.151     0.0167     0.0259    0.00517\n",
            "                carrot         15         66      0.331      0.106      0.175     0.0722      0.243     0.0303     0.0381    0.00832\n",
            "               hot dog          9         24      0.431      0.583      0.531      0.266      0.219      0.208       0.19     0.0686\n",
            "                 pizza         29         49      0.695      0.531      0.556      0.373        0.6      0.337      0.348      0.146\n",
            "                 donut         18        151       0.17      0.232      0.108     0.0402     0.0507     0.0331     0.0201    0.00532\n",
            "                  cake         33         84      0.359       0.22      0.218      0.129       0.42      0.155      0.147     0.0454\n",
            "                 chair        154        556      0.382      0.135      0.156     0.0655       0.12    0.00899    0.00812    0.00432\n",
            "                 couch         45        107      0.398       0.28       0.25      0.135      0.342      0.112     0.0641     0.0213\n",
            "          potted plant         38         94      0.224     0.0957      0.135     0.0485      0.341     0.0319     0.0357     0.0075\n",
            "                   bed         38         54      0.545        0.5      0.516      0.345      0.518      0.315      0.292     0.0696\n",
            "          dining table        116        239      0.476      0.226      0.249      0.141       0.21     0.0586     0.0234    0.00369\n",
            "                toilet         40         50      0.513       0.64       0.57      0.315      0.595       0.36      0.352      0.172\n",
            "                    tv         55         77      0.465      0.439      0.471      0.291      0.566      0.286      0.252     0.0808\n",
            "                laptop         31         35      0.455      0.543      0.559      0.419      0.352      0.314      0.269     0.0611\n",
            "                 mouse         20         21      0.133      0.524      0.207      0.113          0          0   0.000449   4.49e-05\n",
            "                remote         32         87      0.243      0.138      0.124      0.049      0.174     0.0345     0.0317    0.00546\n",
            "              keyboard         21         29      0.306      0.621      0.584      0.325      0.191      0.207       0.15     0.0294\n",
            "            cell phone         47         62       0.32      0.145      0.107     0.0534      0.481     0.0901     0.0855     0.0238\n",
            "             microwave         16         18      0.155      0.111     0.0956     0.0458      0.116     0.0556     0.0704     0.0128\n",
            "                  oven         32         41      0.389      0.488      0.359       0.19      0.448      0.293      0.244     0.0982\n",
            "               toaster          4          6          1          0          0          0          1          0          0          0\n",
            "                  sink         55         78      0.329      0.372      0.307       0.14      0.308      0.128      0.115     0.0527\n",
            "          refrigerator         34         50      0.407      0.577      0.438      0.266      0.482        0.4      0.336      0.137\n",
            "                  book         63        390      0.265      0.136      0.114     0.0377     0.0184    0.00513   0.000325   0.000161\n",
            "                 clock         56         66       0.27       0.47      0.287       0.14      0.175      0.145     0.0855     0.0347\n",
            "                  vase         39         79       0.27      0.291      0.239      0.132      0.228      0.152       0.15     0.0622\n",
            "              scissors         12         22      0.338     0.0909      0.119     0.0674       0.19     0.0259      0.016     0.0016\n",
            "            teddy bear         28         71      0.414      0.479      0.431      0.242      0.431      0.288      0.282       0.11\n",
            "            hair drier          2          3          1          0          0          0          1          0          0          0\n",
            "            toothbrush          9         17      0.186     0.0685       0.15     0.0863          0          0          0          0\n",
            "Speed: 0.4ms preprocess, 6.4ms inference, 0.0ms loss, 2.6ms postprocess per image\n",
            "Results saved to \u001b[1mruns/segment/train2\u001b[0m\n",
            "Training completed\n"
          ]
        }
      ]
    },
    {
      "cell_type": "markdown",
      "source": [
        "## Validating the model"
      ],
      "metadata": {
        "id": "248LZlGC4d21"
      }
    },
    {
      "cell_type": "code",
      "source": [
        "results = model.val()  # Run validation\n",
        "\n",
        "print(results.box.map)  # Mean Average Precision\n",
        "print(results.box.map50)  # MAP at IoU 0.50\n",
        "print(results.box.map75)  # MAP at IoU 0.75"
      ],
      "metadata": {
        "colab": {
          "base_uri": "https://localhost:8080/"
        },
        "id": "6ECX1naCTu54",
        "outputId": "340e5deb-94bc-44ac-ecf4-01142d9f1843"
      },
      "execution_count": null,
      "outputs": [
        {
          "output_type": "stream",
          "name": "stdout",
          "text": [
            "Ultralytics 8.3.98 🚀 Python-3.11.11 torch-2.6.0+cu124 CUDA:0 (Tesla T4, 15095MiB)\n",
            "YOLO11n-seg summary (fused): 113 layers, 2,868,664 parameters, 0 gradients, 10.4 GFLOPs\n"
          ]
        },
        {
          "output_type": "stream",
          "name": "stderr",
          "text": [
            "\u001b[34m\u001b[1mval: \u001b[0mScanning /content/extracted_files/coco2017_subset/val2017.cache... 1237 images, 13 backgrounds, 0 corrupt: 100%|██████████| 1250/1250 [00:00<?, ?it/s]"
          ]
        },
        {
          "output_type": "stream",
          "name": "stdout",
          "text": [
            "\u001b[34m\u001b[1mval: \u001b[0mWARNING ⚠️ /content/extracted_files/coco2017_subset/val2017/000000036494.jpg: 2 duplicate labels removed\n",
            "\u001b[34m\u001b[1mval: \u001b[0mWARNING ⚠️ /content/extracted_files/coco2017_subset/val2017/000000059635.jpg: 3 duplicate labels removed\n",
            "\u001b[34m\u001b[1mval: \u001b[0mWARNING ⚠️ /content/extracted_files/coco2017_subset/val2017/000000088040.jpg: 3 duplicate labels removed\n",
            "\u001b[34m\u001b[1mval: \u001b[0mWARNING ⚠️ /content/extracted_files/coco2017_subset/val2017/000000146155.jpg: 3 duplicate labels removed\n",
            "\u001b[34m\u001b[1mval: \u001b[0mWARNING ⚠️ /content/extracted_files/coco2017_subset/val2017/000000156278.jpg: 1 duplicate labels removed\n",
            "\u001b[34m\u001b[1mval: \u001b[0mWARNING ⚠️ /content/extracted_files/coco2017_subset/val2017/000000178982.jpg: 1 duplicate labels removed\n",
            "\u001b[34m\u001b[1mval: \u001b[0mWARNING ⚠️ /content/extracted_files/coco2017_subset/val2017/000000187144.jpg: 1 duplicate labels removed\n",
            "\u001b[34m\u001b[1mval: \u001b[0mWARNING ⚠️ /content/extracted_files/coco2017_subset/val2017/000000192670.jpg: 1 duplicate labels removed\n",
            "\u001b[34m\u001b[1mval: \u001b[0mWARNING ⚠️ /content/extracted_files/coco2017_subset/val2017/000000207844.jpg: 2 duplicate labels removed\n",
            "\u001b[34m\u001b[1mval: \u001b[0mWARNING ⚠️ /content/extracted_files/coco2017_subset/val2017/000000254814.jpg: 3 duplicate labels removed\n",
            "\u001b[34m\u001b[1mval: \u001b[0mWARNING ⚠️ /content/extracted_files/coco2017_subset/val2017/000000307074.jpg: 1 duplicate labels removed\n",
            "\u001b[34m\u001b[1mval: \u001b[0mWARNING ⚠️ /content/extracted_files/coco2017_subset/val2017/000000319100.jpg: 1 duplicate labels removed\n",
            "\u001b[34m\u001b[1mval: \u001b[0mWARNING ⚠️ /content/extracted_files/coco2017_subset/val2017/000000376322.jpg: 1 duplicate labels removed\n",
            "\u001b[34m\u001b[1mval: \u001b[0mWARNING ⚠️ /content/extracted_files/coco2017_subset/val2017/000000405279.jpg: 3 duplicate labels removed\n",
            "\u001b[34m\u001b[1mval: \u001b[0mWARNING ⚠️ /content/extracted_files/coco2017_subset/val2017/000000411530.jpg: 1 duplicate labels removed\n",
            "\u001b[34m\u001b[1mval: \u001b[0mWARNING ⚠️ /content/extracted_files/coco2017_subset/val2017/000000434247.jpg: 2 duplicate labels removed\n",
            "\u001b[34m\u001b[1mval: \u001b[0mWARNING ⚠️ /content/extracted_files/coco2017_subset/val2017/000000465585.jpg: 1 duplicate labels removed\n",
            "\u001b[34m\u001b[1mval: \u001b[0mWARNING ⚠️ /content/extracted_files/coco2017_subset/val2017/000000509014.jpg: 1 duplicate labels removed\n",
            "\u001b[34m\u001b[1mval: \u001b[0mWARNING ⚠️ /content/extracted_files/coco2017_subset/val2017/000000509260.jpg: 1 duplicate labels removed\n",
            "\u001b[34m\u001b[1mval: \u001b[0mWARNING ⚠️ /content/extracted_files/coco2017_subset/val2017/000000546823.jpg: 3 duplicate labels removed\n"
          ]
        },
        {
          "output_type": "stream",
          "name": "stderr",
          "text": [
            "\n",
            "                 Class     Images  Instances      Box(P          R      mAP50  mAP50-95)     Mask(P          R      mAP50  mAP50-95):   0%|          | 0/625 [00:00<?, ?it/s]"
          ]
        },
        {
          "output_type": "stream",
          "name": "stdout",
          "text": [
            "WARNING ⚠️ Limiting validation plots to first 50 items per image for speed...\n",
            "WARNING ⚠️ Limiting validation plots to first 50 items per image for speed...\n"
          ]
        },
        {
          "output_type": "stream",
          "name": "stderr",
          "text": [
            "\r                 Class     Images  Instances      Box(P          R      mAP50  mAP50-95)     Mask(P          R      mAP50  mAP50-95):   0%|          | 1/625 [00:00<01:30,  6.86it/s]"
          ]
        },
        {
          "output_type": "stream",
          "name": "stdout",
          "text": [
            "WARNING ⚠️ Limiting validation plots to first 50 items per image for speed...\n",
            "WARNING ⚠️ Limiting validation plots to first 50 items per image for speed...\n"
          ]
        },
        {
          "output_type": "stream",
          "name": "stderr",
          "text": [
            "\r                 Class     Images  Instances      Box(P          R      mAP50  mAP50-95)     Mask(P          R      mAP50  mAP50-95):   0%|          | 2/625 [00:00<02:06,  4.94it/s]"
          ]
        },
        {
          "output_type": "stream",
          "name": "stdout",
          "text": [
            "WARNING ⚠️ Limiting validation plots to first 50 items per image for speed...\n",
            "WARNING ⚠️ Limiting validation plots to first 50 items per image for speed...\n"
          ]
        },
        {
          "output_type": "stream",
          "name": "stderr",
          "text": [
            "                 Class     Images  Instances      Box(P          R      mAP50  mAP50-95)     Mask(P          R      mAP50  mAP50-95): 100%|██████████| 625/625 [00:30<00:00, 20.20it/s]\n"
          ]
        },
        {
          "output_type": "stream",
          "name": "stdout",
          "text": [
            "                   all       1250      11125      0.365      0.296      0.273      0.155      0.315       0.13      0.121     0.0475\n",
            "                person        670       3235      0.545      0.286      0.365      0.202      0.463     0.0974     0.0877     0.0272\n",
            "               bicycle         34        102      0.367      0.216      0.202      0.107      0.326     0.0784      0.067     0.0179\n",
            "                   car        132        566      0.412      0.175      0.213     0.0922      0.406     0.0265     0.0242    0.00855\n",
            "            motorcycle         36        124      0.439       0.29      0.296      0.163      0.413      0.129      0.106     0.0464\n",
            "              airplane         23         46      0.252      0.609      0.435      0.232      0.168      0.152     0.0941     0.0402\n",
            "                   bus         43         61      0.639      0.541       0.62      0.479      0.649       0.41      0.445      0.173\n",
            "                 train         48         70       0.63      0.614      0.619      0.426      0.691      0.514      0.461      0.201\n",
            "                 truck         56        105      0.591      0.114      0.246      0.132      0.706     0.0916      0.113     0.0418\n",
            "                  boat         30        121      0.408      0.339      0.305      0.151       0.17     0.0331     0.0217     0.0122\n",
            "         traffic light         53        182       0.25      0.341      0.185     0.0864     0.0502      0.033     0.0268    0.00848\n",
            "          fire hydrant         24         26      0.322      0.657      0.554      0.331      0.372      0.423      0.393      0.178\n",
            "             stop sign         18         19      0.486      0.526      0.486       0.44      0.636      0.368      0.421      0.218\n",
            "         parking meter         11         24      0.397      0.208      0.273      0.188      0.467      0.167      0.175     0.0942\n",
            "                 bench         55        115      0.365       0.19      0.189     0.0924      0.179     0.0522     0.0322    0.00613\n",
            "                  bird         35        153      0.313      0.157      0.155     0.0707      0.357     0.0784     0.0727     0.0219\n",
            "                   cat         57         65      0.733      0.718      0.779      0.554      0.788      0.573      0.653      0.295\n",
            "                   dog         41         55      0.466      0.455      0.462      0.294      0.608        0.4      0.443      0.189\n",
            "                 horse         40        127      0.412      0.378      0.356       0.21      0.452      0.181      0.153     0.0517\n",
            "                 sheep         15        144      0.252      0.549      0.346      0.151      0.107      0.118     0.0485    0.00938\n",
            "                   cow         25        100      0.324       0.35      0.316       0.17      0.241       0.13     0.0881     0.0381\n",
            "              elephant         15         59       0.41      0.576      0.528      0.335      0.498      0.254      0.275        0.1\n",
            "                  bear         13         18      0.613        0.5      0.519      0.426      0.549      0.333      0.404      0.238\n",
            "                 zebra         25         76      0.378      0.711      0.561      0.287      0.372      0.276      0.241      0.103\n",
            "               giraffe         29         84      0.412      0.607      0.546      0.355       0.38      0.286      0.251     0.0891\n",
            "              backpack         52         96          0          0     0.0264     0.0101          0          0    0.00219   0.000648\n",
            "              umbrella         35        119      0.417      0.235       0.25      0.132       0.49      0.101      0.114     0.0561\n",
            "               handbag         81        176      0.099     0.0114     0.0498      0.017      0.246    0.00568    0.00923    0.00197\n",
            "                   tie         46        110      0.326      0.136      0.119     0.0451      0.373     0.0636      0.046     0.0154\n",
            "              suitcase         29        116      0.247      0.293      0.181     0.0823       0.15     0.0603     0.0221    0.00709\n",
            "               frisbee         16         34     0.0578     0.0882     0.0642     0.0294     0.0347     0.0294     0.0282    0.00598\n",
            "                  skis         32        130      0.331       0.29      0.205      0.071          0          0          0          0\n",
            "             snowboard         13         18      0.408      0.167      0.221      0.129      0.504     0.0556     0.0552     0.0166\n",
            "           sports ball         50        100      0.185       0.16     0.0952     0.0363     0.0739       0.03    0.00646    0.00252\n",
            "                  kite         23        128      0.264      0.289      0.227     0.0897     0.0202    0.00781     0.0073    0.00315\n",
            "          baseball bat         22         40      0.173      0.125      0.123     0.0463        0.1      0.025    0.00714    0.00277\n",
            "        baseball glove         20         24      0.226      0.292      0.187     0.0756     0.0885     0.0417      0.051     0.0277\n",
            "            skateboard         27         50        0.3       0.36      0.312      0.151     0.0615       0.04     0.0202    0.00211\n",
            "             surfboard         43        125      0.373      0.166      0.179     0.0849      0.208     0.0274     0.0273    0.00957\n",
            "         tennis racket         45         87      0.274      0.264      0.185     0.0679      0.534      0.138      0.109     0.0299\n",
            "                bottle         99        261      0.235      0.103     0.0842     0.0356      0.121     0.0268     0.0234    0.00766\n",
            "            wine glass         29        101      0.255      0.099     0.0925     0.0403          0          0    0.00142    0.00028\n",
            "                   cup        106        296      0.231     0.0992      0.107       0.05      0.226     0.0405     0.0297     0.0123\n",
            "                  fork         37         57      0.267      0.211      0.155     0.0826     0.0924     0.0351     0.0405    0.00474\n",
            "                 knife         44        116      0.107     0.0135     0.0376     0.0164          0          0          0          0\n",
            "                 spoon         45         89      0.378     0.0337     0.0579     0.0369      0.341     0.0112    0.00864    0.00105\n",
            "                  bowl         83        199      0.392      0.191      0.201      0.115      0.497      0.116     0.0979     0.0378\n",
            "                banana         22         78      0.405      0.244      0.231       0.09     0.0685     0.0128     0.0114    0.00291\n",
            "                 apple         22         61      0.272      0.115      0.164      0.067      0.301     0.0428     0.0345    0.00939\n",
            "              sandwich         24         50      0.428      0.299      0.258      0.115      0.429       0.16      0.163      0.047\n",
            "                orange         17         41      0.335      0.122      0.184      0.083       0.32     0.0732     0.0611     0.0281\n",
            "              broccoli         14        120      0.382      0.192      0.214     0.0704      0.152     0.0167     0.0259    0.00514\n",
            "                carrot         15         66      0.336      0.106      0.174     0.0721      0.243     0.0303     0.0381    0.00832\n",
            "               hot dog          9         24      0.431      0.583      0.528      0.267      0.219      0.208       0.19     0.0686\n",
            "                 pizza         29         49      0.695      0.531      0.557      0.373      0.601      0.338      0.348      0.145\n",
            "                 donut         18        151      0.165      0.225      0.108     0.0399     0.0506     0.0331     0.0201    0.00531\n",
            "                  cake         33         84       0.36      0.221      0.217       0.13       0.42      0.155      0.149     0.0454\n",
            "                 chair        154        556      0.384      0.135      0.158      0.066      0.117    0.00899    0.00812    0.00433\n",
            "                 couch         45        107      0.398       0.28      0.252      0.136      0.342      0.112     0.0647     0.0214\n",
            "          potted plant         38         94      0.223     0.0957      0.132      0.048      0.227     0.0213     0.0292    0.00686\n",
            "                   bed         38         54      0.544        0.5      0.516      0.348      0.515      0.315      0.294     0.0708\n",
            "          dining table        116        239      0.474      0.226      0.249      0.141      0.209     0.0586     0.0235     0.0037\n",
            "                toilet         40         50      0.515      0.637      0.568      0.314      0.595       0.36      0.351      0.172\n",
            "                    tv         55         77      0.464      0.439      0.471      0.291      0.565      0.286      0.252     0.0811\n",
            "                laptop         31         35      0.455      0.543      0.559      0.419      0.351      0.314      0.269     0.0554\n",
            "                 mouse         20         21      0.133      0.524      0.208      0.114          0          0   0.000448   4.48e-05\n",
            "                remote         32         87      0.252      0.138      0.125     0.0497      0.174     0.0345     0.0317    0.00546\n",
            "              keyboard         21         29      0.302      0.621      0.582       0.33       0.19      0.207       0.15     0.0294\n",
            "            cell phone         47         62      0.319      0.145      0.106     0.0541      0.479     0.0894     0.0821     0.0221\n",
            "             microwave         16         18      0.156      0.111     0.0937     0.0455      0.114     0.0556     0.0704     0.0128\n",
            "                  oven         32         41      0.391      0.488      0.359      0.188      0.448      0.293      0.248     0.0982\n",
            "               toaster          4          6          1          0          0          0          1          0          0          0\n",
            "                  sink         55         78       0.33      0.359      0.298      0.136      0.307      0.128      0.121     0.0548\n",
            "          refrigerator         34         50      0.398       0.57      0.439      0.266      0.481        0.4      0.336      0.137\n",
            "                  book         63        390      0.273      0.144       0.12     0.0388     0.0177    0.00513   0.000321   0.000158\n",
            "                 clock         56         66      0.268       0.47      0.286       0.14      0.177      0.146     0.0854     0.0346\n",
            "                  vase         39         79      0.264      0.291      0.238       0.13      0.224      0.152       0.15     0.0609\n",
            "              scissors         12         22      0.332     0.0909      0.119     0.0674      0.194     0.0264      0.016     0.0016\n",
            "            teddy bear         28         71      0.419      0.479      0.438      0.246      0.434      0.291      0.281       0.11\n",
            "            hair drier          2          3          1          0          0          0          1          0          0          0\n",
            "            toothbrush          9         17      0.168     0.0588       0.15     0.0932          0          0     0.0026    0.00026\n",
            "Speed: 0.4ms preprocess, 12.3ms inference, 0.0ms loss, 2.7ms postprocess per image\n",
            "Results saved to \u001b[1mruns/segment/train22\u001b[0m\n",
            "0.15481886085668164\n",
            "0.2726784002836535\n",
            "0.14221377712956193\n"
          ]
        }
      ]
    },
    {
      "cell_type": "markdown",
      "source": [
        "## Saving the model"
      ],
      "metadata": {
        "id": "J19QcUhG4aNd"
      }
    },
    {
      "cell_type": "code",
      "source": [
        "from google.colab import drive\n",
        "import os\n",
        "import shutil\n",
        "\n",
        "# Mount Google Drive\n",
        "drive.mount('/content/drive')\n",
        "\n",
        "# Create a directory in your Drive for your models\n",
        "save_dir = '/content/drive/MyDrive/yoloseg_models'\n",
        "os.makedirs(save_dir, exist_ok=True)\n",
        "\n",
        "# Copy your trained model to Google Drive\n",
        "model_path = '/content/yolo11n-seg.pt'  # Your current model path\n",
        "drive_model_path = f'{save_dir}/yolo11n-seg.pt'\n",
        "shutil.copy(model_path, drive_model_path)\n",
        "\n",
        "print(f\"Model successfully saved to: {drive_model_path}\")"
      ],
      "metadata": {
        "colab": {
          "base_uri": "https://localhost:8080/"
        },
        "id": "I0FKeeDVVRrf",
        "outputId": "276afc27-d986-4528-aa87-af33d874233b"
      },
      "execution_count": null,
      "outputs": [
        {
          "output_type": "stream",
          "name": "stdout",
          "text": [
            "Drive already mounted at /content/drive; to attempt to forcibly remount, call drive.mount(\"/content/drive\", force_remount=True).\n",
            "Model successfully saved to: /content/drive/MyDrive/yoloseg_models/yolo11n-seg.pt\n"
          ]
        }
      ]
    },
    {
      "cell_type": "code",
      "source": [],
      "metadata": {
        "id": "VtyOG1WoVZRY"
      },
      "execution_count": null,
      "outputs": []
    }
  ]
}