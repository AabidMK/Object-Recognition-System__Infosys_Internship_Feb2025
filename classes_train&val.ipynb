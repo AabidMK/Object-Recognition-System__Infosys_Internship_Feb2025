{
 "cells": [
  {
   "cell_type": "code",
   "execution_count": 1,
   "id": "21a45fde-b895-4915-982e-bb3751c3539f",
   "metadata": {},
   "outputs": [
    {
     "name": "stdout",
     "output_type": "stream",
     "text": [
      "Number of Classes: 80\n",
      "Class IDs: [0, 1, 2, 3, 4, 5, 6, 7, 8, 9, 10, 11, 12, 13, 14, 15, 16, 17, 18, 19, 20, 21, 22, 23, 24, 25, 26, 27, 28, 29, 30, 31, 32, 33, 34, 35, 36, 37, 38, 39, 40, 41, 42, 43, 44, 45, 46, 47, 48, 49, 50, 51, 52, 53, 54, 55, 56, 57, 58, 59, 60, 61, 62, 63, 64, 65, 66, 67, 68, 69, 70, 71, 72, 73, 74, 75, 76, 77, 78, 79]\n",
      "Class IDs saved to 'classes.txt'\n"
     ]
    }
   ],
   "source": [
    "import os\n",
    "\n",
    "# Paths to label folders (update if necessary)\n",
    "train_label_path = r\"C:/infosys internship/coco2017_subset/train2017_labels\"\n",
    "val_label_path = r\"C:/infosys internship/coco2017_subset/val2017_labels\"\n",
    "\n",
    "# Store unique class IDs\n",
    "unique_classes = set()\n",
    "\n",
    "# Function to process label files in a folder\n",
    "def extract_classes(label_path):\n",
    "    for file in os.listdir(label_path):\n",
    "        if file.endswith(\".txt\"):\n",
    "            with open(os.path.join(label_path, file), \"r\") as f:\n",
    "                for line in f:\n",
    "                    class_id = int(line.split()[0])  # Extract class ID\n",
    "                    unique_classes.add(class_id)\n",
    "\n",
    "# Process both train and val folders\n",
    "extract_classes(train_label_path)\n",
    "extract_classes(val_label_path)\n",
    "\n",
    "# Print results\n",
    "print(f\"Number of Classes: {len(unique_classes)}\")\n",
    "print(f\"Class IDs: {sorted(unique_classes)}\")\n",
    "\n",
    "# (Optional) Save to a text file\n",
    "with open(\"classes.txt\", \"w\") as f:\n",
    "    f.write(\"\\n\".join(map(str, sorted(unique_classes))))\n",
    "\n",
    "print(\"Class IDs saved to 'classes.txt'\")\n"
   ]
  },
  {
   "cell_type": "code",
   "execution_count": null,
   "id": "2d43cb6f-bff8-432a-a4c9-96ebe029c96c",
   "metadata": {},
   "outputs": [],
   "source": []
  }
 ],
 "metadata": {
  "kernelspec": {
   "display_name": "Python 3 (ipykernel)",
   "language": "python",
   "name": "python3"
  },
  "language_info": {
   "codemirror_mode": {
    "name": "ipython",
    "version": 3
   },
   "file_extension": ".py",
   "mimetype": "text/x-python",
   "name": "python",
   "nbconvert_exporter": "python",
   "pygments_lexer": "ipython3",
   "version": "3.12.6"
  }
 },
 "nbformat": 4,
 "nbformat_minor": 5
}
