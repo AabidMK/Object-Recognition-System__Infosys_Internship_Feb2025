{
 "cells": [
  {
   "cell_type": "code",
   "execution_count": 10,
   "id": "73f058fb-154c-482e-97c7-31475291bdf7",
   "metadata": {},
   "outputs": [],
   "source": [
    "import json\n",
    "import os"
   ]
  },
  {
   "cell_type": "code",
   "execution_count": 13,
   "id": "4f002fe0-7cbb-42ec-9821-bf78e81a60ef",
   "metadata": {},
   "outputs": [],
   "source": [
    "coco_ann_file = \"C:/infosys internship/coco2017_subset/annotation_subset/instances_val2017_subset.json\"\n",
    "output_dir = \"C:/infosys internship/coco2017_subset/val2017_labels\"\n",
    "\n",
    "os.makedirs(output_dir, exist_ok=True)\n"
   ]
  },
  {
   "cell_type": "code",
   "execution_count": 14,
   "id": "f7b471a6-137c-4305-b664-465ca5e350eb",
   "metadata": {},
   "outputs": [],
   "source": [
    "# Load COCO annotations\n",
    "with open(coco_ann_file, 'r') as f:\n",
    "    coco_data = json.load(f)"
   ]
  },
  {
   "cell_type": "code",
   "execution_count": 15,
   "id": "f2165d89-6d9e-4123-9cdc-6b16abc127b0",
   "metadata": {},
   "outputs": [],
   "source": [
    "# Create mapping: COCO category id -> new id (0-based contiguous indices)\n",
    "# For example, if valid categories are 1, 2, 3, 5, 6, ... then you might have:\n",
    "coco_categories = sorted([cat['id'] for cat in coco_data['categories']])\n",
    "id_mapping = {orig_id: new_id for new_id, orig_id in enumerate(coco_categories)}"
   ]
  },
  {
   "cell_type": "code",
   "execution_count": 16,
   "id": "8f38b511-f624-4f5f-80a9-8f0308897e41",
   "metadata": {},
   "outputs": [],
   "source": [
    "# Build a mapping from image_id to image info\n",
    "img_info = {img['id']: img for img in coco_data['images']}"
   ]
  },
  {
   "cell_type": "code",
   "execution_count": 17,
   "id": "9ed5f07a-08ee-4573-ae8c-8256bd95c422",
   "metadata": {},
   "outputs": [],
   "source": [
    "# Process annotations per image\n",
    "annotations_by_image = {}\n",
    "for ann in coco_data['annotations']:\n",
    "    img_id = ann['image_id']\n",
    "    img = img_info[img_id]\n",
    "    img_width, img_height = img['width'], img['height']\n",
    "\n",
    "    x, y, w, h = ann['bbox']\n",
    "    # Convert COCO bbox [x, y, w, h] to YOLO format [x_center, y_center, width, height] normalized\n",
    "    x_center = (x + w / 2) / img_width\n",
    "    y_center = (y + h / 2) / img_height\n",
    "    norm_w = w / img_width\n",
    "    norm_h = h / img_height\n",
    "\n",
    "    # Remap the category id\n",
    "    orig_cat = ann['category_id']\n",
    "    if orig_cat not in id_mapping:\n",
    "        continue  # skip if the category is not in the mapping\n",
    "    new_cat = id_mapping[orig_cat]\n",
    "\n",
    "    if img_id not in annotations_by_image:\n",
    "        annotations_by_image[img_id] = []\n",
    "    annotations_by_image[img_id].append(f\"{new_cat} {x_center:.6f} {y_center:.6f} {norm_w:.6f} {norm_h:.6f}\")"
   ]
  },
  {
   "cell_type": "code",
   "execution_count": 18,
   "id": "d420d94a-3e54-4893-a800-28292749d233",
   "metadata": {},
   "outputs": [],
   "source": [
    "# Write YOLO label files for each image\n",
    "for img_id, ann_list in annotations_by_image.items():\n",
    "    file_name = img_info[img_id]['file_name']\n",
    "    base_name = os.path.splitext(file_name)[0]\n",
    "    # Save the label file in the same directory as your images, or wherever you prefer\n",
    "    out_file = os.path.join(output_dir, base_name + '.txt')\n",
    "    with open(out_file, 'w') as f:\n",
    "        for line in ann_list:\n",
    "            f.write(line + '\\n')"
   ]
  },
  {
   "cell_type": "code",
   "execution_count": null,
   "id": "d56b0b41-9890-40fe-8dfa-30b0feda93e3",
   "metadata": {},
   "outputs": [],
   "source": []
  }
 ],
 "metadata": {
  "kernelspec": {
   "display_name": "Python 3 (ipykernel)",
   "language": "python",
   "name": "python3"
  },
  "language_info": {
   "codemirror_mode": {
    "name": "ipython",
    "version": 3
   },
   "file_extension": ".py",
   "mimetype": "text/x-python",
   "name": "python",
   "nbconvert_exporter": "python",
   "pygments_lexer": "ipython3",
   "version": "3.12.6"
  }
 },
 "nbformat": 4,
 "nbformat_minor": 5
}
