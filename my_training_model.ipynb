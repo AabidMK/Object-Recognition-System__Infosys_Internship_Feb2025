{
 "cells": [
  {
   "cell_type": "code",
   "execution_count": null,
   "id": "624965de-818f-4c08-acde-78788e308a93",
   "metadata": {},
   "outputs": [],
   "source": [
    "from ultralytics import YOLO\n",
    "\n",
    "# Load the YOLOv8 model\n",
    "model = YOLO(\"yolov8n.pt\")  \n",
    "\n",
    "# Train the model for 2 epochs\n",
    "model.train(data=\"Infosys_Internship/coco2017_subset/annotation_subset/dataset.yaml\", epochs=2)\n"
   ]
  }
 ],
 "metadata": {
  "kernelspec": {
   "display_name": "Python [conda env:base] *",
   "language": "python",
   "name": "conda-base-py"
  },
  "language_info": {
   "codemirror_mode": {
    "name": "ipython",
    "version": 3
   },
   "file_extension": ".py",
   "mimetype": "text/x-python",
   "name": "python",
   "nbconvert_exporter": "python",
   "pygments_lexer": "ipython3",
   "version": "3.12.7"
  }
 },
 "nbformat": 4,
 "nbformat_minor": 5
}
